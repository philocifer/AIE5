{
  "nbformat": 4,
  "nbformat_minor": 0,
  "metadata": {
    "colab": {
      "provenance": [],
      "include_colab_link": true
    },
    "kernelspec": {
      "name": "python3",
      "display_name": "Python 3"
    },
    "language_info": {
      "name": "python"
    }
  },
  "cells": [
    {
      "cell_type": "markdown",
      "metadata": {
        "id": "view-in-github",
        "colab_type": "text"
      },
      "source": [
        "<a href=\"https://colab.research.google.com/github/philocifer/AIE5/blob/main/06_Multi_Agent_with_LangGraph/Multi_Agent_RAG_LangGraph.ipynb\" target=\"_parent\"><img src=\"https://colab.research.google.com/assets/colab-badge.svg\" alt=\"Open In Colab\"/></a>"
      ]
    },
    {
      "cell_type": "markdown",
      "source": [
        "# Multi-Agent Workflows + RAG - LangGraph\n",
        "\n",
        "Today we'll be looking at an example of a Multi-Agent workflow that's powered by LangGraph, LCEL, and more!\n",
        "\n",
        "We're going to be, more specifically, looking at a \"heirarchical agent teams\" from the [AutoGen: Enabling Next-Gen LLM\n",
        "Applications via Multi-Agent Conversation](https://arxiv.org/pdf/2308.08155) paper.\n",
        "\n",
        "This will be the final \"graph\" of our system:\n",
        "\n",
        "![image](https://i.imgur.com/Bhc7RVE.png)\n",
        "\n",
        "It's important to keep in mind that the actual implementation will be constructed of 3 separate graphs, the final one having 2 graphs as nodes! LangGraph is a heckuva tool!\n",
        "\n"
      ],
      "metadata": {
        "id": "KxpWDFG11o3G"
      }
    },
    {
      "cell_type": "markdown",
      "source": [
        "# 🤝 BREAKOUT ROOM #1"
      ],
      "metadata": {
        "id": "TyzoBrWoYeOZ"
      }
    },
    {
      "cell_type": "markdown",
      "source": [
        "## Dependencies\n",
        "\n",
        "We'll start, as we normally do, by grabbing our dependencies.\n",
        "\n",
        "We'll be using LangChain and LangGraph to power our application, so let's start by grabbing those!"
      ],
      "metadata": {
        "id": "mx3oaVoX5cA2"
      }
    },
    {
      "cell_type": "code",
      "execution_count": 1,
      "metadata": {
        "id": "cs6HUTgecbzW"
      },
      "outputs": [],
      "source": [
        "!pip install -qU langgraph==0.2.14 langchain==0.2.14 langchain_openai==0.1.23 langchain_core==0.2.35 langchain-community"
      ]
    },
    {
      "cell_type": "markdown",
      "source": [
        "We're going to be showing a simple RAG chain as part of our LangGraph - and so we'll need specific dependencies for that as well!"
      ],
      "metadata": {
        "id": "BMzWFUc25oqT"
      }
    },
    {
      "cell_type": "code",
      "source": [
        "!pip install -qU --disable-pip-version-check qdrant-client pymupdf tiktoken"
      ],
      "metadata": {
        "id": "qEUBCOdukjwc"
      },
      "execution_count": 2,
      "outputs": []
    },
    {
      "cell_type": "markdown",
      "source": [
        "Since we'll be relying on OpenAI's suite of models to power our agents today, we'll want to provide our OpenAI API Key.\n",
        "\n",
        "We're also going to be using the Tavily search tool - so we'll want to provide that API key as well!\n",
        "\n",
        "Instruction for how to obtain the Tavily API key can be found:\n",
        "\n",
        "1. [Tavily API Key](https://app.tavily.com/sign-in)\n",
        "\n"
      ],
      "metadata": {
        "id": "Zpv2MWqu5vS9"
      }
    },
    {
      "cell_type": "code",
      "source": [
        "import os\n",
        "import getpass\n",
        "\n",
        "os.environ[\"OPENAI_API_KEY\"] = getpass.getpass(\"OpenAI API Key:\")\n",
        "os.environ[\"TAVILY_API_KEY\"] = getpass.getpass(\"TAVILY_API_KEY\")"
      ],
      "metadata": {
        "colab": {
          "base_uri": "https://localhost:8080/"
        },
        "id": "h30OjkLfeR2Y",
        "outputId": "5efe8974-2c65-4299-d775-62e96661375a"
      },
      "execution_count": 3,
      "outputs": [
        {
          "name": "stdout",
          "output_type": "stream",
          "text": [
            "OpenAI API Key:··········\n",
            "TAVILY_API_KEY··········\n"
          ]
        }
      ]
    },
    {
      "cell_type": "markdown",
      "source": [
        "## Task 1: Simple LCEL RAG\n",
        "\n",
        "Now that we have our dependencies set-up - let's create a simple RAG chain that works over a single PDF.\n",
        "\n",
        "> NOTE: While this particular example is very straight forward - you can \"plug in\" any complexity of chain you desire as a node in a LangGraph."
      ],
      "metadata": {
        "id": "M_LD7rwT6PbO"
      }
    },
    {
      "cell_type": "markdown",
      "source": [
        "## Retrieval\n",
        "\n",
        "The 'R' in 'RAG' - this is, at this point, fairly straightforward!"
      ],
      "metadata": {
        "id": "JY7T5kxJ6jGn"
      }
    },
    {
      "cell_type": "markdown",
      "source": [
        "#### Data Collection and Processing\n",
        "\n",
        "A classic first step, at this point, let's grab our desired document!"
      ],
      "metadata": {
        "id": "DGuPxSCk7Ztz"
      }
    },
    {
      "cell_type": "code",
      "source": [
        "from langchain.document_loaders import PyMuPDFLoader\n",
        "\n",
        "docs = PyMuPDFLoader(\"https://arxiv.org/pdf/2404.19553\").load()"
      ],
      "metadata": {
        "id": "LfuoEYRCln3H"
      },
      "execution_count": 4,
      "outputs": []
    },
    {
      "cell_type": "markdown",
      "source": [
        "Now we can chunk it down to size!"
      ],
      "metadata": {
        "id": "r_t_F1zG6vXa"
      }
    },
    {
      "cell_type": "code",
      "source": [
        "import tiktoken\n",
        "from langchain.text_splitter import RecursiveCharacterTextSplitter\n",
        "\n",
        "def tiktoken_len(text):\n",
        "    tokens = tiktoken.encoding_for_model(\"gpt-4o-mini\").encode(\n",
        "        text,\n",
        "    )\n",
        "    return len(tokens)\n",
        "\n",
        "text_splitter = RecursiveCharacterTextSplitter(\n",
        "    chunk_size = 300,\n",
        "    chunk_overlap = 0,\n",
        "    length_function = tiktoken_len,\n",
        ")\n",
        "\n",
        "split_chunks = text_splitter.split_documents(docs)"
      ],
      "metadata": {
        "id": "5R7A_z8CgL79"
      },
      "execution_count": 5,
      "outputs": []
    },
    {
      "cell_type": "markdown",
      "source": [
        "Now we've successfully split our single PDF into..."
      ],
      "metadata": {
        "id": "lGE-VuMc7AKv"
      }
    },
    {
      "cell_type": "code",
      "source": [
        "len(split_chunks)"
      ],
      "metadata": {
        "colab": {
          "base_uri": "https://localhost:8080/"
        },
        "id": "pgYBHsdWmLvW",
        "outputId": "97081fad-230a-4fd4-8b5e-7c9caed75fe6"
      },
      "execution_count": 6,
      "outputs": [
        {
          "output_type": "execute_result",
          "data": {
            "text/plain": [
              "15"
            ]
          },
          "metadata": {},
          "execution_count": 6
        }
      ]
    },
    {
      "cell_type": "markdown",
      "source": [
        "documents!"
      ],
      "metadata": {
        "id": "lxaKmmyh7DHD"
      }
    },
    {
      "cell_type": "markdown",
      "source": [
        "#### Embedding Model and Vector Store\n",
        "\n",
        "Now that we have our chunked document - lets create a vector store, which will first require us to create an embedding model to get the vector representations of our text!\n",
        "\n",
        "We'll use OpenAI's [`text-embedding-3-small`](https://platform.openai.com/docs/guides/embeddings/embedding-models) model - as it's cheap, and performant."
      ],
      "metadata": {
        "id": "cGWs7KTd7QPS"
      }
    },
    {
      "cell_type": "code",
      "source": [
        "from langchain_openai.embeddings import OpenAIEmbeddings\n",
        "\n",
        "embedding_model = OpenAIEmbeddings(model=\"text-embedding-3-small\")"
      ],
      "metadata": {
        "id": "xLIWMMZCmfrj"
      },
      "execution_count": 7,
      "outputs": []
    },
    {
      "cell_type": "markdown",
      "source": [
        "Now we can create our QDrant backed vector store!"
      ],
      "metadata": {
        "id": "lTEi7Ww573sc"
      }
    },
    {
      "cell_type": "code",
      "source": [
        "from langchain_community.vectorstores import Qdrant\n",
        "\n",
        "qdrant_vectorstore = Qdrant.from_documents(\n",
        "    split_chunks,\n",
        "    embedding_model,\n",
        "    location=\":memory:\",\n",
        "    collection_name=\"extending_context_window_llama_3\",\n",
        ")"
      ],
      "metadata": {
        "id": "Xct51f8omVAU"
      },
      "execution_count": 8,
      "outputs": []
    },
    {
      "cell_type": "markdown",
      "source": [
        "Let's make sure we can access it as a retriever."
      ],
      "metadata": {
        "id": "wzGq6o4s79Ar"
      }
    },
    {
      "cell_type": "code",
      "source": [
        "qdrant_retriever = qdrant_vectorstore.as_retriever()"
      ],
      "metadata": {
        "id": "OTnQZbWymi4K"
      },
      "execution_count": 9,
      "outputs": []
    },
    {
      "cell_type": "markdown",
      "source": [
        "### Augmented\n",
        "\n",
        "Now that we have our retrieval process set-up, we need to set up our \"augmentation\" process - AKA a prompt template."
      ],
      "metadata": {
        "id": "aU8qSrMS7_D7"
      }
    },
    {
      "cell_type": "code",
      "source": [
        "from langchain_core.prompts import ChatPromptTemplate\n",
        "\n",
        "RAG_PROMPT = \"\"\"\n",
        "CONTEXT:\n",
        "{context}\n",
        "\n",
        "QUERY:\n",
        "{question}\n",
        "\n",
        "You are a helpful assistant. Use the available context to answer the question. If you can't answer the question, say you don't know.\n",
        "\"\"\"\n",
        "\n",
        "rag_prompt = ChatPromptTemplate.from_template(RAG_PROMPT)"
      ],
      "metadata": {
        "id": "lezTN0zCmk46"
      },
      "execution_count": 10,
      "outputs": []
    },
    {
      "cell_type": "markdown",
      "source": [
        "### Generation\n",
        "\n",
        "Last, but certainly not least, let's put the 'G' in 'RAG' by adding our generator - in this case, we can rely on OpenAI's [`gpt-4o-mini`](https://platform.openai.com/docs/models/gpt-4o-mini) model!"
      ],
      "metadata": {
        "id": "Y9fa63nM7IKK"
      }
    },
    {
      "cell_type": "code",
      "source": [
        "from langchain_openai import ChatOpenAI\n",
        "\n",
        "openai_chat_model = ChatOpenAI(model=\"gpt-4o-mini\")"
      ],
      "metadata": {
        "id": "AwEi29-Jo3a8"
      },
      "execution_count": 11,
      "outputs": []
    },
    {
      "cell_type": "markdown",
      "source": [
        "### RAG - Retrieval Augmented Generation\n",
        "\n",
        "All that's left to do is combine our R, A, and G into a single chain - and we're off!"
      ],
      "metadata": {
        "id": "qO-ZC0T98XJJ"
      }
    },
    {
      "cell_type": "code",
      "source": [
        "from operator import itemgetter\n",
        "from langchain.schema.output_parser import StrOutputParser\n",
        "\n",
        "rag_chain = (\n",
        "    {\"context\": itemgetter(\"question\") | qdrant_retriever, \"question\": itemgetter(\"question\")}\n",
        "    | rag_prompt | openai_chat_model | StrOutputParser()\n",
        ")"
      ],
      "metadata": {
        "id": "nlOJrPm_oT3S"
      },
      "execution_count": 12,
      "outputs": []
    },
    {
      "cell_type": "markdown",
      "source": [
        "Let's test this out and make sure it works."
      ],
      "metadata": {
        "id": "qiWrbXpu8ggz"
      }
    },
    {
      "cell_type": "code",
      "source": [
        "rag_chain.invoke({\"question\" : \"What does the 'context' in 'long context' refer to?\"})"
      ],
      "metadata": {
        "colab": {
          "base_uri": "https://localhost:8080/",
          "height": 125
        },
        "id": "gJhFlW32pBPe",
        "outputId": "df184511-d2cb-4930-fc94-f8e419ff602b"
      },
      "execution_count": 13,
      "outputs": [
        {
          "output_type": "execute_result",
          "data": {
            "text/plain": [
              "\"The term 'context' in 'long context' refers to the amount of text or information that a language model can process at once. In the document, it specifically relates to the capability of large language models (LLMs) to handle extended sequences of text—such as books or long papers—beyond the typical limits. The context can encompass various tasks, including single-detail and multi-detail question-answering, where the model must aggregate and analyze information from longer passages of text. In this case, the context length for the model Llama-3 is extended from 8K tokens to 80K tokens, allowing it to manage significantly more information in one go.\""
            ],
            "application/vnd.google.colaboratory.intrinsic+json": {
              "type": "string"
            }
          },
          "metadata": {},
          "execution_count": 13
        }
      ]
    },
    {
      "cell_type": "markdown",
      "source": [
        "### RAG Limitation\n",
        "\n",
        "Notice how we're hard-coding our data, while this is simply meant to be an illustrative example - you could easily extend this to work with any provied paper or document in order to have a more dynamic system.\n",
        "\n",
        "For now, we'll stick with this single hard-coded example in order to keep complexity down in an already very long notebook!"
      ],
      "metadata": {
        "id": "gReMizYk8qd-"
      }
    },
    {
      "cell_type": "markdown",
      "source": [
        "##### 🏗️ Activity #1 (Bonus Marks)\n",
        "\n",
        "Allow the system to dynamically fetch Arxiv papers instead of hard coding them.\n",
        "\n",
        "> HINT: Tuesday's assignment will be very useful here."
      ],
      "metadata": {
        "id": "oxkbuir-H5rE"
      }
    },
    {
      "cell_type": "markdown",
      "source": [
        "#### ✅ ANSWER:\n",
        "> Use **ArxivRetriever** to fetch Arxiv papers based on a user provided research topic."
      ],
      "metadata": {
        "id": "yOqrDtT_BxQ_"
      }
    },
    {
      "cell_type": "markdown",
      "source": [
        "```python\n",
        "!pip install -qU arxiv\n",
        "```\n",
        "```python\n",
        "# Import the ArxivRetriever from the langchain_community library.\n",
        "from langchain_community.retrievers import ArxivRetriever\n",
        "import re, textwrap\n",
        "\n",
        "# Get research topic from user input.\n",
        "research_topic = input(\"Enter a research topic: \")\n",
        "\n",
        "# Initialize the ArxivRetriever.\n",
        "retriever = ArxivRetriever(\n",
        "    load_max_docs=2,\n",
        "    get_ful_documents=True,\n",
        ")\n",
        "\n",
        "# Retrieve documents related to the user-specified research topic using the retriever.\n",
        "docs = retriever.invoke(research_topic)\n",
        "\n",
        "# Split the retrieved documents into smaller chunks using the text_splitter.\n",
        "split_chunks = text_splitter.split_documents(docs)\n",
        "\n",
        "# Format the user-entered research topic to be a valid collection name for Qdrant.\n",
        "# This involves replacing spaces and special characters with underscores.\n",
        "collection_name = re.sub(r\"[^a-zA-Z0-9_]\", \"_\", research_topic)\n",
        "\n",
        "# Create a Qdrant vector store from the split chunks.\n",
        "qdrant_vectorstore = Qdrant.from_documents(\n",
        "    split_chunks,\n",
        "    embedding_model,\n",
        "    location=\":memory:\",\n",
        "    collection_name=collection_name,\n",
        ")\n",
        "\n",
        "# Create a retriever from the Qdrant vector store.\n",
        "qdrant_retriever = qdrant_vectorstore.as_retriever()\n",
        "\n",
        "# Build the RAG chain.\n",
        "rag_chain = (\n",
        "    {\"context\": itemgetter(\"question\") | qdrant_retriever, \"question\": itemgetter(\"question\")}\n",
        "    | rag_prompt | openai_chat_model | StrOutputParser()\n",
        ")\n",
        "\n",
        "# Get a question from user input.\n",
        "user_question = input(\"Enter a question based on the research topic: \")\n",
        "\n",
        "# Invoke the RAG chain with the user provided question.\n",
        "rag_chain.invoke({\"question\" : user_question})\n",
        "```\n",
        "### Output\n",
        "> Enter a research topic: Extending Llama-3’s Context Ten-Fold Overnight\n",
        "\n",
        "> Enter a question based on the research topic: What does the 'context' in 'long context' refer to?\n",
        "\n",
        "> In the context of the document titled \"Extending Llama-3's Context Ten-Fold Overnight,\" the term 'context' refers to the amount of information or text that a language model can process at one time. Specifically, it pertains to the length of input data that the model can handle during its training and inference processes. In this case, the context length of the Llama-3 model was extended from 8,000 tokens to 80,000 tokens, allowing it to understand and generate responses based on a significantly larger amount of information. This extension enhances the model's performance in tasks that require understanding of long sequences of text, such as long-context language understanding and topic retrieval.\n",
        "\n"
      ],
      "metadata": {
        "id": "i1fSrj6UVnS-"
      }
    },
    {
      "cell_type": "markdown",
      "source": [
        "## Task 2: Helper Functions for Agent Graphs\n",
        "\n",
        "We'll be using a number of agents, nodes, and supervisors in the rest of the notebook - and so it will help to have a collection of useful helper functions that we can leverage to make our lives easier going forward.\n",
        "\n",
        "Let's start with the most simple one!"
      ],
      "metadata": {
        "id": "7U6a_pqQ9uWf"
      }
    },
    {
      "cell_type": "markdown",
      "source": [
        "#### Import Wall\n",
        "\n",
        "Here's a wall of imports we'll be needing going forward!"
      ],
      "metadata": {
        "id": "IDUnpEEl-L_F"
      }
    },
    {
      "cell_type": "code",
      "source": [
        "from typing import Any, Callable, List, Optional, TypedDict, Union\n",
        "\n",
        "from langchain.agents import AgentExecutor, create_openai_functions_agent\n",
        "from langchain.output_parsers.openai_functions import JsonOutputFunctionsParser\n",
        "from langchain_core.prompts import ChatPromptTemplate, MessagesPlaceholder\n",
        "from langchain_core.messages import AIMessage, BaseMessage, HumanMessage\n",
        "from langchain_core.runnables import Runnable\n",
        "from langchain_core.tools import BaseTool\n",
        "from langchain_openai import ChatOpenAI\n",
        "\n",
        "from langgraph.graph import END, StateGraph"
      ],
      "metadata": {
        "id": "TbzoL3Q3-SG1"
      },
      "execution_count": 14,
      "outputs": []
    },
    {
      "cell_type": "markdown",
      "source": [
        "### Agent Node Helper\n",
        "\n",
        "Since we're going to be wrapping each of our agents into a node - it will help to have an easy way to create the node!"
      ],
      "metadata": {
        "id": "qb6Z3EEz-Asi"
      }
    },
    {
      "cell_type": "code",
      "source": [
        "def agent_node(state, agent, name):\n",
        "    result = agent.invoke(state)\n",
        "    return {\"messages\": [HumanMessage(content=result[\"output\"], name=name)]}"
      ],
      "metadata": {
        "id": "5IF7KWfS-JKd"
      },
      "execution_count": 15,
      "outputs": []
    },
    {
      "cell_type": "markdown",
      "source": [
        "### Agent Creation Helper Function\n",
        "\n",
        "Since we know we'll need to create agents to populate our agent nodes, let's use a helper function for that as well!\n",
        "\n",
        "Notice a few things:\n",
        "\n",
        "1. We have a standard suffix to append to our system messages for each agent to handle the tool calling and boilerplate prompting.\n",
        "2. Each agent has its our scratchpad.\n",
        "3. We're relying on OpenAI's function-calling API for tool selection\n",
        "4. Each agent is its own executor."
      ],
      "metadata": {
        "id": "fwND2teK-WHm"
      }
    },
    {
      "cell_type": "code",
      "source": [
        "def create_agent(\n",
        "    llm: ChatOpenAI,\n",
        "    tools: list,\n",
        "    system_prompt: str,\n",
        ") -> str:\n",
        "    \"\"\"Create a function-calling agent and add it to the graph.\"\"\"\n",
        "    system_prompt += (\"\\nWork autonomously according to your specialty, using the tools available to you.\"\n",
        "    \" Do not ask for clarification.\"\n",
        "    \" Your other team members (and other teams) will collaborate with you with their own specialties.\"\n",
        "    \" You are chosen for a reason! You are one of the following team members: {team_members}.\")\n",
        "    prompt = ChatPromptTemplate.from_messages(\n",
        "        [\n",
        "            (\n",
        "                \"system\",\n",
        "                system_prompt,\n",
        "            ),\n",
        "            MessagesPlaceholder(variable_name=\"messages\"),\n",
        "            MessagesPlaceholder(variable_name=\"agent_scratchpad\"),\n",
        "        ]\n",
        "    )\n",
        "    agent = create_openai_functions_agent(llm, tools, prompt)\n",
        "    executor = AgentExecutor(agent=agent, tools=tools)\n",
        "    return executor"
      ],
      "metadata": {
        "id": "NxLyHJt5-eUx"
      },
      "execution_count": 16,
      "outputs": []
    },
    {
      "cell_type": "markdown",
      "source": [
        "### Supervisor Helper Function\n",
        "\n",
        "Finally, we need a \"supervisor\" that decides and routes tasks to specific agents.\n",
        "\n",
        "Since each \"team\" will have a collection of potential agents - this \"supervisor\" will act as an \"intelligent\" router to make sure that the right agent is selected for the right task.\n",
        "\n",
        "Notice that, at the end of the day, this \"supervisor\" is simply directing who acts next - or if the state is considered \"done\"."
      ],
      "metadata": {
        "id": "S6kmlR9d-1K5"
      }
    },
    {
      "cell_type": "code",
      "source": [
        "def create_team_supervisor(llm: ChatOpenAI, system_prompt, members) -> str:\n",
        "    \"\"\"An LLM-based router.\"\"\"\n",
        "    options = [\"FINISH\"] + members\n",
        "    function_def = {\n",
        "        \"name\": \"route\",\n",
        "        \"description\": \"Select the next role.\",\n",
        "        \"parameters\": {\n",
        "            \"title\": \"routeSchema\",\n",
        "            \"type\": \"object\",\n",
        "            \"properties\": {\n",
        "                \"next\": {\n",
        "                    \"title\": \"Next\",\n",
        "                    \"anyOf\": [\n",
        "                        {\"enum\": options},\n",
        "                    ],\n",
        "                },\n",
        "            },\n",
        "            \"required\": [\"next\"],\n",
        "        },\n",
        "    }\n",
        "    prompt = ChatPromptTemplate.from_messages(\n",
        "        [\n",
        "            (\"system\", system_prompt),\n",
        "            MessagesPlaceholder(variable_name=\"messages\"),\n",
        "            (\n",
        "                \"system\",\n",
        "                \"Given the conversation above, who should act next?\"\n",
        "                \" Or should we FINISH? Select one of: {options}\",\n",
        "            ),\n",
        "        ]\n",
        "    ).partial(options=str(options), team_members=\", \".join(members))\n",
        "    return (\n",
        "        prompt\n",
        "        | llm.bind_functions(functions=[function_def], function_call=\"route\")\n",
        "        | JsonOutputFunctionsParser()\n",
        "    )"
      ],
      "metadata": {
        "id": "S2MXA83mrYE2"
      },
      "execution_count": 17,
      "outputs": []
    },
    {
      "cell_type": "markdown",
      "source": [
        "## Task 3: Research Team - A LangGraph for Researching A Specific Topic\n",
        "\n",
        "Now that we have our RAG chain set-up and some awesome helper functions, we want to create a LangGraph related to researching a specific topic.\n",
        "\n",
        "We're going to start by equipping our Research Team with a few tools:\n",
        "\n",
        "1. Tavily Search - aka \"Google\", for the most up to date information possible.\n",
        "2. Our RAG chain - specific and high quality information about our topic.\n",
        "\n",
        "Let's create those tools now!"
      ],
      "metadata": {
        "id": "jd0zfyq48jKb"
      }
    },
    {
      "cell_type": "markdown",
      "source": [
        "### Tool Creation\n",
        "\n",
        "As you can see below, some tools already come pre-packaged ready to use!"
      ],
      "metadata": {
        "id": "VNsVTZrH_alw"
      }
    },
    {
      "cell_type": "code",
      "source": [
        "from langchain_community.tools.tavily_search import TavilySearchResults\n",
        "\n",
        "tavily_tool = TavilySearchResults(max_results=5)"
      ],
      "metadata": {
        "id": "ce7FKTZDgAWG"
      },
      "execution_count": 18,
      "outputs": []
    },
    {
      "cell_type": "markdown",
      "source": [
        "Creating a custom tool, however, is very straightforward.\n",
        "\n",
        "> NOTE: You *must* include a docstring, as that is what the LLM will consider when deciding when to use this tool."
      ],
      "metadata": {
        "id": "NIR7cbTL9agM"
      }
    },
    {
      "cell_type": "code",
      "source": [
        "from typing import Annotated, List, Tuple, Union\n",
        "from langchain_core.tools import tool\n",
        "\n",
        "@tool\n",
        "def retrieve_information(\n",
        "    query: Annotated[str, \"query to ask the retrieve information tool\"]\n",
        "    ):\n",
        "  \"\"\"Use Retrieval Augmented Generation to retrieve information about the 'Extending Llama-3’s Context Ten-Fold Overnight' paper.\"\"\"\n",
        "  return rag_chain.invoke({\"question\" : query})"
      ],
      "metadata": {
        "id": "sSwO2L_UqFhm"
      },
      "execution_count": 19,
      "outputs": []
    },
    {
      "cell_type": "markdown",
      "source": [
        "> NOTE: We could just as easily use the LCEL chain directly, since nodes can be LCEL objects - but creating a tool helps explain the tool creation process at the same time."
      ],
      "metadata": {
        "id": "nxsMnqjpBTCj"
      }
    },
    {
      "cell_type": "markdown",
      "source": [
        "### Research Team State\n",
        "\n",
        "Since we're using LangGraph - we're going to need state!\n",
        "\n",
        "Let's look at how we've created our state below."
      ],
      "metadata": {
        "id": "oDHCajO4_gB2"
      }
    },
    {
      "cell_type": "code",
      "source": [
        "import functools\n",
        "import operator\n",
        "\n",
        "from langchain_core.messages import AIMessage, BaseMessage, HumanMessage\n",
        "from langchain_openai.chat_models import ChatOpenAI\n",
        "import functools\n",
        "\n",
        "class ResearchTeamState(TypedDict):\n",
        "    messages: Annotated[List[BaseMessage], operator.add]\n",
        "    team_members: List[str]\n",
        "    next: str"
      ],
      "metadata": {
        "id": "mXminK9d_1fa"
      },
      "execution_count": 20,
      "outputs": []
    },
    {
      "cell_type": "markdown",
      "source": [
        "Notice how we've used `messages`, `team_members`, and `next`.\n",
        "\n",
        "These states will help us understand:\n",
        "\n",
        "1. What we've done so far (`messages`)\n",
        "2. Which team members we have access to (`team_members`)\n",
        "3. Which team member is up next! (`next`)"
      ],
      "metadata": {
        "id": "fvPM5msq_18C"
      }
    },
    {
      "cell_type": "markdown",
      "source": [
        "### Research Team LLM\n",
        "\n",
        "We'll be using `gpt-4-turbo` today. This LLM is going to be doing a lot of reasoning - and so using a \"powerful\" LLM is very important here!"
      ],
      "metadata": {
        "id": "Mu7B_6qHAFjK"
      }
    },
    {
      "cell_type": "code",
      "source": [
        "llm = ChatOpenAI(model=\"gpt-4-turbo\")"
      ],
      "metadata": {
        "id": "dTNqrip8AcKR"
      },
      "execution_count": 21,
      "outputs": []
    },
    {
      "cell_type": "markdown",
      "source": [
        "##### ❓ Question #1:\n",
        "\n",
        "Why is a \"powerful\" LLM important for this use-case?\n",
        "\n",
        "What tasks must our Agent perform that make it such that the LLM's reasoning capability is a potential limiter?"
      ],
      "metadata": {
        "id": "pfb_VCNKIy9w"
      }
    },
    {
      "cell_type": "markdown",
      "source": [
        "#### ✅ ANSWER:\n",
        "> A powerful LLM is essential because the Agent coordinates multiple steps—like online searching, retrieving specific info from a QDrant-powered RAG pipeline, and deciding when to complete the chain. These tasks require advanced contextual understanding, synthesis of retrieved data, and careful decision-making. If the LLM’s reasoning is limited, it can fail at accurately combining search results or properly coordinating the multi-agent workflow."
      ],
      "metadata": {
        "id": "8G6jxqrtbEUY"
      }
    },
    {
      "cell_type": "markdown",
      "source": [
        "### Research Team Agents & Nodes\n",
        "\n",
        "Now we can use our helper functions to create our agent nodes, with their related tools.\n",
        "\n",
        "Let's start with our search agent node."
      ],
      "metadata": {
        "id": "ZR_1LuMKAekf"
      }
    },
    {
      "cell_type": "markdown",
      "source": [
        "#### Research Team: Search Agent\n",
        "\n",
        "We're going to give our agent access to the Tavily tool, power it with our GPT-4 Turbo model, and then create its node - and name it `Search`."
      ],
      "metadata": {
        "id": "uzx6wuPoAlPq"
      }
    },
    {
      "cell_type": "code",
      "source": [
        "search_agent = create_agent(\n",
        "    llm,\n",
        "    [tavily_tool],\n",
        "    \"You are a research assistant who can search for up-to-date info using the tavily search engine.\",\n",
        ")\n",
        "search_node = functools.partial(agent_node, agent=search_agent, name=\"Search\")"
      ],
      "metadata": {
        "id": "FIlLPxj7Atpj"
      },
      "execution_count": 22,
      "outputs": []
    },
    {
      "cell_type": "markdown",
      "source": [
        "#### Research Team: RAG Agent Node\n",
        "\n",
        "Now we can wrap our LCEL RAG pipeline in an agent node as well, using the LCEL RAG pipeline as the tool, as created above."
      ],
      "metadata": {
        "id": "emLtesudA9Dd"
      }
    },
    {
      "cell_type": "code",
      "source": [
        "research_agent = create_agent(\n",
        "    llm,\n",
        "    [retrieve_information],\n",
        "    \"You are a research assistant who can provide specific information on the provided paper: 'Extending Llama-3’s Context Ten-Fold Overnight'. You must only respond with information about the paper related to the request.\",\n",
        ")\n",
        "research_node = functools.partial(agent_node, agent=research_agent, name=\"PaperInformationRetriever\")"
      ],
      "metadata": {
        "id": "z-nnAG9XA_p7"
      },
      "execution_count": 23,
      "outputs": []
    },
    {
      "cell_type": "markdown",
      "source": [
        "### Research Team Supervisor Agent\n",
        "\n",
        "Notice that we're not yet creating our supervisor *node*, simply the agent here.\n",
        "\n",
        "Also notice how we need to provide a few extra pieces of information - including which tools we're using.\n",
        "\n",
        "> NOTE: It's important to use the *exact* tool name, as that is how the LLM will reference the tool. Also, it's important that your tool name is all a single alphanumeric string!\n",
        "\n"
      ],
      "metadata": {
        "id": "dA5z6T1CBeSc"
      }
    },
    {
      "cell_type": "code",
      "source": [
        "supervisor_agent = create_team_supervisor(\n",
        "    llm,\n",
        "    (\"You are a supervisor tasked with managing a conversation between the\"\n",
        "    \" following workers:  Search, PaperInformationRetriever. Given the following user request,\"\n",
        "    \" determine the subject to be researched and respond with the worker to act next. Each worker will perform a\"\n",
        "    \" task and respond with their results and status. \"\n",
        "    \" You should never ask your team to do anything beyond research. They are not required to write content or posts.\"\n",
        "    \" You should only pass tasks to workers that are specifically research focused.\"\n",
        "    \" When finished, respond with FINISH.\"),\n",
        "    [\"Search\", \"PaperInformationRetriever\"],\n",
        ")"
      ],
      "metadata": {
        "id": "J0g8CQMBrtFs"
      },
      "execution_count": 24,
      "outputs": []
    },
    {
      "cell_type": "markdown",
      "source": [
        "### Research Team Graph Creation\n",
        "\n",
        "Now that we have our research team agent nodes created, and our supervisor agent - let's finally construct our graph!\n",
        "\n",
        "We'll start by creating our base graph from our state, and then adding the nodes/agent we've created as nodes on our LangGraph."
      ],
      "metadata": {
        "id": "qohn0DcgB_U1"
      }
    },
    {
      "cell_type": "code",
      "source": [
        "research_graph = StateGraph(ResearchTeamState)\n",
        "\n",
        "research_graph.add_node(\"Search\", search_node)\n",
        "research_graph.add_node(\"PaperInformationRetriever\", research_node)\n",
        "research_graph.add_node(\"supervisor\", supervisor_agent)"
      ],
      "metadata": {
        "id": "p0s2GAgJCN8G"
      },
      "execution_count": 25,
      "outputs": []
    },
    {
      "cell_type": "markdown",
      "source": [
        "Now we can define our edges - include our conditional edge from our supervisor to our agent nodes.\n",
        "\n",
        "Notice how we're always routing our agent nodes back to our supervisor!"
      ],
      "metadata": {
        "id": "33qixRGNCaAX"
      }
    },
    {
      "cell_type": "code",
      "source": [
        "research_graph.add_edge(\"Search\", \"supervisor\")\n",
        "research_graph.add_edge(\"PaperInformationRetriever\", \"supervisor\")\n",
        "research_graph.add_conditional_edges(\n",
        "    \"supervisor\",\n",
        "    lambda x: x[\"next\"],\n",
        "    {\"Search\": \"Search\", \"PaperInformationRetriever\": \"PaperInformationRetriever\", \"FINISH\": END},\n",
        ")"
      ],
      "metadata": {
        "id": "yYSJIhijsGyg"
      },
      "execution_count": 26,
      "outputs": []
    },
    {
      "cell_type": "markdown",
      "source": [
        "Now we can set our supervisor node as the entry point, and compile our graph!"
      ],
      "metadata": {
        "id": "hgGcuZzkCj1-"
      }
    },
    {
      "cell_type": "code",
      "source": [
        "research_graph.set_entry_point(\"supervisor\")\n",
        "chain = research_graph.compile()"
      ],
      "metadata": {
        "id": "1l-1I2Z3CnPX"
      },
      "execution_count": 27,
      "outputs": []
    },
    {
      "cell_type": "markdown",
      "source": [
        "#### Display Graph"
      ],
      "metadata": {
        "id": "GDwQpYTSEY13"
      }
    },
    {
      "cell_type": "code",
      "source": [
        "from IPython.display import Image, display\n",
        "\n",
        "try:\n",
        "    display(Image(chain.get_graph(xray=True).draw_mermaid_png()))\n",
        "except:\n",
        "    pass"
      ],
      "metadata": {
        "colab": {
          "base_uri": "https://localhost:8080/",
          "height": 488
        },
        "id": "l8n6SXhpEa2b",
        "outputId": "51b1964c-7db0-42b7-da5c-e1bef2d49439"
      },
      "execution_count": 28,
      "outputs": [
        {
          "output_type": "display_data",
          "data": {
            "image/jpeg": "[encoded data removed]",
            "text/plain": [
              "<IPython.core.display.Image object>"
            ]
          },
          "metadata": {}
        }
      ]
    },
    {
      "cell_type": "markdown",
      "source": [
        "The next part is key - since we need to \"wrap\" our LangGraph in order for it to be compatible in the following steps - let's create an LCEL chain out of it!\n",
        "\n",
        "This allows us to \"broadcast\" messages down to our Research Team LangGraph!"
      ],
      "metadata": {
        "id": "bfRvA2QfCqFL"
      }
    },
    {
      "cell_type": "code",
      "source": [
        "def enter_chain(message: str):\n",
        "    results = {\n",
        "        \"messages\": [HumanMessage(content=message)],\n",
        "    }\n",
        "    return results\n",
        "\n",
        "research_chain = enter_chain | chain"
      ],
      "metadata": {
        "id": "1G7hmEINCx3i"
      },
      "execution_count": 29,
      "outputs": []
    },
    {
      "cell_type": "markdown",
      "source": [
        "Now, finally, we can take it for a spin!"
      ],
      "metadata": {
        "id": "EGdoCdXWC7Pi"
      }
    },
    {
      "cell_type": "code",
      "source": [
        "for s in research_chain.stream(\n",
        "    \"What are the main takeaways from the paper `Extending Llama-3's Context Ten-Fold Overnight'? Please use Search and PaperInformationRetriever!\", {\"recursion_limit\": 100}\n",
        "):\n",
        "    if \"__end__\" not in s:\n",
        "        print(s)\n",
        "        print(\"---\")"
      ],
      "metadata": {
        "colab": {
          "base_uri": "https://localhost:8080/"
        },
        "id": "xIDpFIg2sRUl",
        "outputId": "2a8e0010-8902-4f71-e17d-bc7580dd0ef0"
      },
      "execution_count": 30,
      "outputs": [
        {
          "output_type": "stream",
          "name": "stdout",
          "text": [
            "{'supervisor': {'next': 'Search'}}\n",
            "---\n",
            "{'Search': {'messages': [HumanMessage(content='The main takeaways from the paper \"Extending Llama-3\\'s Context Ten-Fold Overnight\" include:\\n\\n1. **Context Length Extension**: The authors successfully extended the context length of Llama-3-8B-Instruct from 8,000 tokens to 80,000 tokens using QLoRA fine-tuning.\\n\\n2. **Efficiency of Training**: The training process to achieve this extension was highly efficient, requiring only 8 hours on a single GPU machine equipped with 8xA800 (80G) GPUs.\\n\\n3. **Use of Synthetic Data**: A key factor in this dramatic extension was the use of approximately 3.5K synthetic training samples generated by GPT-4, demonstrating the potential of large language models (LLMs) to significantly extend their original context lengths with the right techniques and resources.\\n\\n4. **Performance Improvements**: The extended context model demonstrated superior performance across various evaluation tasks including NIHS (presumably a specific benchmark), topic retrieval, and long-context language understanding.\\n\\n5. **Scalability**: The findings suggest that the context length could potentially be extended even beyond 80,000 tokens with additional computational resources, indicating scalability in the approach used.', name='Search')]}}\n",
            "---\n",
            "{'supervisor': {'next': 'FINISH'}}\n",
            "---\n"
          ]
        }
      ]
    },
    {
      "cell_type": "markdown",
      "source": [
        "##### 🏗️ Activity #2:\n",
        "\n",
        "Using whatever drawing application you wish - please label the flow above on a diagram of your graph."
      ],
      "metadata": {
        "id": "DHAgsbwIIhwj"
      }
    },
    {
      "cell_type": "markdown",
      "source": [
        "![image.png](data:image/png;base64,iVBORw0KGgoAAAANSUhEUgAAAegAAAHXCAYAAAB3fMl0AAAAAXNSR0IArs4c6QAAAARnQU1BAACxjwv8YQUAAAAJcEhZcwAADsMAAA7DAcdvqGQAAP+lSURBVHhe7P33kxxF8z6Kfv6GE/G9P964ESfinM/7YmWRBEISwnsvvPfeI0AOWeSFkQAhEAIZJJD3DnkBMsh776X13s3M5o0nq7OnprZndmZnzexuPrG53V1dXVVd051PZZbp/yGFIi1EPKkL5NpQzXSqg6U6YiQWcm2qQhQJe+lJHthUY0fioGwQD26ZFAqFooHwP26AQpEaomRXN9QkzRjUQoQg03TEJIJ0iCIRSISqq8MB5XLKVku5FAqFIl0oQSsyBDYRitUaomqqZLHDohJA6CkiHCmnSHUZRaornHxccq5NFAqFon6hBK1oYrhEJ2ITcZVF1tgXsVzPdQLyqSCiEm8raUbYkg6HXRPZLpeUQQlaoVA0DJSgFQ0El3CDiAzHIDmLHN0+XleEJKsrqTpSSQR3dAT+6ToIu7K9/KurqDoSMskjH7vIMfkLOaPMkNqsbYVCoagblKAVDQSXqIIIC8dRC5mPhQi96JEqI9VBPOiSdx3ET9vudg7qgpZrYspsW9DxRKFQKOoGJWhFPcMlKFccgPTcKCIgShFwIgxWdBOLuMfpise51dgKSQeQul9mJmzALXiQKBQKRWpQglbUM1xicsUCCM4m4QC5cLKAThzIoT1bT9OWdUdp06ojtGnlMdq08jhtXnWcNq06RJtWHaijHKL1K4/RhpUnzXbVMfpr3THa8+85On2smHIvVUXL4t5GzO24gUGiUCgUqUEJWlHPcIkJA66ig7lCIYusbIKG1epZsUf3ZtPaZTtp7NAptHDWX7Rg5mZaPm87bV59mEl68+qDTLD/rD1Cf/15qO6y5gBtXLPHk/208c+DtGbZAVo8ZyfNnraFZv3yF/04YRmtX3mUzh6viHY3VxOFKmFqe7dRXU1VVbgB7Ie9+61ZD0rUCoUiFShBK+oZsYQUCoF1ZfEPM9eY+35BytVElaXRLugjey7STxNm08Lf19Ouf05RuNgbv1VGROVWt6+IdAW7rupkxe5Cdlzp1civnCjrNNGWDWdp4ex/aOGcjXTuVAGF4FqvJgpX4f6ipIuR3xC3DpSgFQpFXaAErahnxCckIWV/5S5sPbL97dcV9Pv0VZR93riVq8rjDAzDyl/uoC63fzhVwdg015Vtudmr0EAIEx3YfZ5+mDCLNq3da4jcu5/yMjP6nLnZAyzp4AVPFAqFIjkoQSvqGcGEVFlhRmiXl4FhzamSQqJLZ0M0dMBEunC60ic9n5g5nheZxWFsl2jrIjXKa9gaU66qw14ewrOehX1obzZN/n4xVRR7xF5NVAWL3E/TIBwOGuWtUCgUyUEJWtHgELc2RIxKbMtLiX764Q8+roCV6oVXei7kkOnW9SD+bJxE5DKqZr93uhDiF7+5zG82c7ONFUxUUR4m9tZHiMpLiLLOR2jU8J+ivGuTdI30laAVCkXqUIJWNCiEnMPgQJCXx1NHD2XR+K+nEK8N4lmhgeIBRBmOVPhLc4KcsTxnupC1tyPVlX76ZsnP6OIpQtJ2+WFNV5QSDRn0JZUURUla7iXaN60ErVAo6gYlaEWDw/9ilCfZFytp8qTZPqkJKitDLGa/MvoxCxtxCLzOsNLiL2X5aZrCgpwx0E1GabNVb7nq83KqaMrk2WxdR93d+BBHbDo1RaFQKBJDCVpRzwD5SF+xISzbesbgr9mzVlNhfiRKaFVV3uhnc33s4CqxcmOJlGcy1UqCtUkc611S9UZkyzSxUMhsASkP7u3IoQu0fMk/3HeOoguJR9fyRjq41qoXhUKhqAVK0Ir0YBMnb6qomvuHvQFScPfCW+xx1Oa1h2ntyt2mP9eDkLNYzOGw51IOPGe2TKwOQPRCohI/KE2gosK4x8UVLRZvzQ9kmGulHHb6knZVBdHUn1bQhZPeKmQRzJOOplONRgfha1mom9g6UygUinhQglakByEaf8BzFYWpxCOjCFWVo2OWqKwApjLRiME/G0OS+2kNS8d8m9kjZRyXl0cHgYmLGSgsLPT3ARCobd1KGETShctcIOQM2PnaeUjeLrEDse53c+MnDpbTzF828pztqhLTWhGyRz2EqYLF5+WoEa9QKBSBUIJWpAfLGowSNCxofB7SI2Lvo09/rz1AO/45gw9RcXjUrR0lShCtHW6TKWDHO336NG3bti3mvEvUiWDnZV+3Y8cOOnPmjBXTwCZwANfwVCoUKUS0ZN42OnOkKDpdzOPwKEEbC9on6GjbQKFQKGpACVqRHoRkfIIOeUQEt653HmRUQfTtmJlUBuM3ZKYtCUCSLrHiWMLEirWt3WXLllGHDh1o5MiRfhgg1nc88hXCty1jnJfwwYMHU7t27WjNmjX+9WVlmNZlIJa4fX1pSSUT8s6tp2nR75t5lTKey+3BEDQaLhZB+zsKhUIRDCVoRZqwrGCfoI31bBN0wQWiyeOXMjkLeQnh2v3MQrA2Gduuajk3a9Ysatu2LQ0fPpwJ1naHu0CaNqEG5Sv46KOPqGvXrrRixQo/DBBilri2Nc2D4LDwSgHR+FG/m2VELfd13HpRglYoFAmgBK1IE9HOVENEsBaj/MOrcYWJtq0/R9s3XPSXxwQ3CiHbMG5jQ6YnT56kd955h7p160Y9evSgV199lY4dO0ZLliyha6+9li1dSJcuXejBBx/0SfrLL7+km266iTp16kQ33ngjDRw40O+3BtGChP/3f/+Xxo0bR4888gi1b9+eXn/9derbty9dffXVLN27d6crr7ySr4UF7Q5c8617rz8dgobH/BlbKO+scXH7lr9P0Mar4BO0dkIrFIoEUIJWpAmQjDEhjSvXI2jP5c3nI0TLZu+jHRvzKMKGZywxgajtQVwALNSXX36Z3diPP/44vfnmm9SzZ086e/Ys7dy5k5588km2oB944AF677336IsvvuDrQIrYf/TRR+nFF19kcke8999/328MIH7Hjh2pTZs29MILL9Ann3xCK1euZOK/99576bLLLuM8+/XrR7///rtfJtvt7sOzgkuK83h/3rTtdGBbmVm/24riNlzselMoFIogKEEr0oQQDdy3sBI9IxkE7VmJsCxn/vQPnTlIHkEbksMUJyFN2YKYxX0MKxnkmpWVxSRuu7H/+OMPtp6HDRvmh0kaNtkjrVtuuYXTketB0LCae/fuzce2+/yzzz7jc5s2bfL7sRFuu9kBf/Ca/5GMMt5ft+QkbfkzJ8CC9p0HHkGbOlOCVigU8aAErUgTQtAYABWfoKeM30DZJ030qsoS/2p3ZLTtSv7000/Zyu3VqxctXrw4hnjnzp3LBC2DxOx0du/eTe+++y7dfvvtTPJwgV911VV0/PhxJly4zRG+atWqGoPFMEjs8ssvp9WrV/vh9sAwuyHBYX5/ehEz746N+bR6/ikKW4PPlaAVCkVdoAStSBMJCJoJrJKjTPv+Lyq64E254kVMovOEY1cSiw4EKy0tpREjRrBFC7n//vvp3LlzTJRz5szhsFGjRvnWLPqK//33Xw6/7rrr6I033mDCFQsaxI10YTmD3P/6668YqxgQC3rDhg18rrgYH6WOlgmIaVTwSmi44zJeRQwEvWbhGa4Ef2CZErRCoagDlKAV6cGzkuMRNH8uMkw0Y9JfdGKvWbSE3eE8QMwQX41+XfTplhgrG8R9/vx5JlsM3vrggw84fNGiRdxXPHToUD8eMGDAALa6Z8yY4af1yiuv8LWHDx/mYww269y5M23cuJGPbfc1yBv90xjFbVvXAnF5A9zAkAVJMLk7QvTnwmO0dW225+I2RF6ToFFWEYVCoQiGErQiPcQjaDmFfyGiBTN20MHtpRwV31p2LWaB3c8MYpZR3UeOHGHiveeee/gcCBSu67fffpstZ6QHSxqDwUDGYh3DAsZIbozI3r59O1+LOCB3LEiC6/y+4upqJnxY21OmTOEwsaDdj3f45fdXDMOqaURrFx+jnZtyvalkJk4sQWMwHeaa+aa0QqFQBEIJWpEefJJxBolZBB0qJ9q+4Tzt3ZLL+7bh6A4SAwmCDEHUffr0odtuu42nQD388MPsepZ5z+hPRr8yXNWPPfYYj74+ceIE/frrr3TNNdfw6G1Yw3fffTePBMeUq/nz5/O1sMJBwps3b44WxMPSpUs5H5A80n3iiSc43LamY6dcWTcbJpo77W+6eFwGwxkrOZagUU/e6mNK0AqFIgGUoBXpIYagzVSiqKVoplgh4PzRapo6cZXbEetDLGAbsGJvuOEGngN988038/Qpe6AYpkVhIBgI9dZbb6Xs7Gwmz9GjR/OULFjYH374IcfDvGbMcwZgQYO0YWULpF8ZZUC/NtIDqT/zzDMx1r47H5qPq4kqMYi7kuibEX+YT0nj1vkrWC5Bw9PgEbR6uBUKRQIoQSvSQ1yCNha1sFNlAdFXw6dTOTzGWLvEH/1c04wM+lAFyFDIOdESoIgj4e4IcQBxbTe6xLVHaLtxAGk8SF4x87YRFCLa8+85mv/bX0Sel8B8NtOsHhatF3wwo0IJWqFQ1AolaEW9QCxmm6CZtTwXN4zG9St2096dp3wrGp+MFG6NEmRUQHDybWgz4Krmmt1AEBG7S3PaBAzY6dhthGhfc7QMkreUQ9I0A8aiBL1u1R46ujeH9ytKTbnFghaSjrGga7ZNFAqFwocStCJtCNfIBzI8+oo5ie8kF+URffv11Kg5GYq1pI1LGBYnyBWkCKsVgn1IwLSkaObpiw/kYaaOmcFvlRThT3CFeCufyeRr4MquJCrMrfbvDcd2MWOzMZ6FmOwUCoUiAErQirTgcpzf9+xGQFCYaOHctbTtryPMfbyYh2dJRyEWtE3UccgZqFmAukkMZI6yyTsUxrqdIargBVakfBiNHm1ozJy2hA7vP2eOPRe+zPPmuF69RCUgW4VCobCgBK1ICzV5LkpgEqGiPOJ/8QkENv2XhYb/PDKrAg97CZSVWlOQamUwyashJbbP2+4Xr6yo5kbGpXNlNH/2n/79MHHXKLtJTwlaoVAkCyVoRVqojaCx3racDFUZ9++5UwX06+R5TG4+mWEkdIW38Af40IsfkIEFySedrVjocax0L19Y+VKeqkpvFRZImGjYoK94i/up9LwC6Ju2yVwJWqFQpAolaEVaSIpo2IoOG1c2yC5EtHPbYVo4b7lZaay6isIyQRoEWBEia1xWVOKQtRucrEQJWvq5HesdxZHvV3tlwGIkclxRWk3ffDmJigtCvMynXMeNjhjYN2EQLYNCoVAEQwlakRZqI5qysuhXn2wCA9GdPHaelixaHnOuqqIyGg/fkrYJM0is/FPdGljk6abtBYe9QV/chpABbmGi7775lbeYAy3XlJdhGVMvH2s0uBK0QqFIFUrQigZClJBkGpRY0L5bO0K0a9sZ+um7BRQW8vPORcIVVFVVZD7jyBLHymWW88g11a3wp+Qr5ZI4cEV7jYSqcrOmOAZzXzxTRUP6/Ug55000uLxlNLoNe3pWVBQKhSI5KEErGggewVmTjM1Xnzx4rm4M1L5wkmjyd0tp87qDVFlqkaZDljHE6opF+klvJR9bJNxO17OiC3JCtGD2Olowe6PfbW27s+2vclVVecuJ1RCFQqFIDkrQigZGAmICAYIUvRlNfy7bS6OHTqO/1p6gk4eqmLwh1RhMhv0gApXrzTRlY2jLDCnZymytoPOSHvbtcNmvIjqyP5dWLtlGk76bSQf2nDYu7QS3VZOU40ZUKBSKuFCCVjQwaiGoCFFxvnEfgxRL84n2bMulX39YS18On0d/LjlC61ceo+2bz9GhPbl0/FA+Hd5/gfbtOkF7d56gA9vP0fG9+XR4ZzYd2ZVDJ/YV0IHtF/n40I4sOro7l47tyYvZx/mD/16igzsv0P6dx+ngvpN0eP9ZOrTvPO3adpo2rz1MKxfvosVztrMre+7MTZxvFYjZayRUVYi73IVLzLXcv0KhUMSBErQiPYglmzQMYfmLmViu5JDnFeYFTMJERblEe3ecp62bTtCaZQdoydydNG/mVpo9/W+aO2MbLZq9g+ZP/5sWz9pCc6dupNm/rKdFM/+hedM20cp5O2nckGn0/Zg5tOT3rTR/+mY+t2z2dn9/wczNtPD3DTTv93U0Z+YalkVzN9DalTto57ZjdOTARdPlXUX+GuJSRtmaW3DJOAliTrneFApFa4MStCI9pEw0UYKGcJ+tl4aM4A5hnrHwm0eQMe7qCqIIPi0NixbHGGAmbmw5X0zU/+OxtHrhNuPWLjfXYFttXceD02y3ttsX7Qj6oiH8OUl/OnRARCVohUKRJpSgFelBiCZJwqkZ3XyAQj7NKMcxH8CwL7C5zyNSHiyNRVCEZL14n/buSwtmL6x5nSc8n9kaIIa5zCw454ksUGIvqCKCRVjMbrTBUStqVoBCoVAEQglakR5SJBw3uvnwhGFMfDmqvNwM45avWMUDRodHP7ARy7xIM1RVQf3796Xly5ZwWIS/QmXS5K9kRTBf2UyPggQRMMT+0hWMfSz7aa8Q5q6xXSvcPBQKhSIOlKAV6cElnDjE456ORotQKFxuEa0Bk6FlRAPRz0+KqWxIFukgfmUVzhOFvI9UfPX1eFqxYhWfh7WLRcs4HS++C0P45iMXsJz5c5hePEwRiy48Yvzt4Qi+7RxdtjP2vhy4EeJGVCgUCgMlaEV6cAknDvG4p0ViLWCi8vJy8xUoby3u2GUzhRzNl67w6cca6VnLZH/yaR9asHBpzLkqb50Tf5GyGMI387ZjvhvtNRIQbuY2m69amS9toRxK0AqFomGgBK1oZoh1Zwtg3Bq3N0gfREs0cOBAWrp0uX8+PmLTSozg/DMV6/sMc4OaBRq63Mmmnyje0cUr6Yv/+T9ucA3Ei5MobYUCUIJWNGvY1q4LQ9BLed9e0SwZTO9+LyvWZJWoKGu5Lp5SbmxkSjlSRUOXO9n07Xh4FuznIV2CjhdeX3DLq2h+UIJWNGsEEa8MIBswYECdCFqIGWSbrILDNVDYipYLeSZSRUMTcTzUtbyKzIEStKJFQPqOhZyBwYMH14mgBakSdJAydJWkfSwWjm1527DD7TSkAYGtnLPP25adnabEt8MSWf5uPi7s9KSe7LTsMtlhbh7x8gaCrFT3nFxvN5DssgXBzUvScq9x85L83DK7v6P7ewXBzSdRGWo75x675VU0TyhBK1oEbGIWDB8+vNEIGhCFaCvM2gjaVrb2sZuOq5Rdpeuel2slPIjo7PP2sX2tm4+NoDK6x0C8vIPqxiZ6gb1vX+OmWVt+Ntz04xFqvLyBRPnES8OGGydRGdxzdj25dS7HbnkVzQ9K0IpmjUTE+/nnnzcqQQOuxekqSZegXQUq14lSFkmklO3ratuPl5/AJUA3HxvutfHKHHSfEj/oGjlnx4tH3EHX2ufiwY0bj+TseO59BBF0vLIEwY2TqAz2OXnGgs7Zx255Fc0PStCKZo0g4sVCIlhQpG/fvo1O0AJRoK6STIWg48FVyoAQg0sabjqi3IMIT85LmYLyseFe6x4Lgu4TSJS+nZZ9T4nuzYV7rzbcdOKRnB3PvQ+7XIlIOV453TiJyuASdLzfyD52y6toflCCVrQIBLm4G7MP2oUoX1dJItwmaJcA5NhVvDbinUO4ey6IHOIRnhzHIwYXia514cYF3Lqx4cbHsRvfjRME+15t2GFuud06ELj5u/XophG0b8ON415vl8G9b7uBFe86t7yK5gclaEWLAKxme8oV9mFBL1mCpT6j07GSIWqxRqHsgpRjEAlJXBGb2CUNCXcJ2j5vQ8Ldc7WVwQ0DJC9JS64XkpHwZO5V4OYlYfHKbOcTL9wmHhvudYBddvt8vHu14ZYhHsm5eUq6OG8TtFuPbvpBcOMkKoP9+9jXuflK2ex03DBF84EStKJZwyVcELGslT106FDfgk6FoBsLauEokoFL3orWAyVoRYuAS7w47tevX1ou7oaGErQiGShBt14oQStaBGQOtAD76Q4Sa2iAoG1XuEIRhHguckXLhxK0okXBdnGnOw9aoVAomhJK0IpmjaC1uBEGwVKfy5Yt4zAlaIVC0dygBK1o1pDpVS5Rw4r+7LPPlKAVCkWzRYsl6G63blNRUVHxRaFoblCCVlFRaRWiUDQ3KEGrqKi0ClEomhtaBUErWgdkcJhg3Lhx/ihugTsVS9GyoXpA0ZyhBK1ocQDxYpCYvdSnkLGScuuC6gFFc4YStKLFQQlaIVA9oGjOUIJuQViyPIfvd9SXJ91TrQLq4la4aI16QNFy0GoJ+sU398fESRS3uaCl3EcqwHefXQR9D1qgBN260BrfCUXLQask6HjkHBS3OUEsaNxfa4P7uUmQLz6WoS7u1o2W8m4rWidaJUFLeGt1BbcWDBkyRNfibuVIpAcUikxHqybooHOCoPNiedsWqsQT6zVR2u55Nw4aDAiTrYh9bMP2BAQdA25+idKIF0fC7HvMlMaNfBjDDauqqqI+ffooQbdyxHumFYrmgFZJ0C4pBZFN0LWJCDpIko0ncInZPu/GtcOk/C5Bu/fpphHvvBvPDYcE1VlTw/3k5OjRo5WgWzmCnmeFormgVRI0EEROsBAFQdcmImg7zCVKO54NN994lrId1yZGN66bb1B5bQSlaYe7x0HlamoEES/CQNb9+/dXgm7lyORnV6GoDa2WoAWu1Spwj4EgwpN4Nrnb4UCQ+9sWIchEBO2ec48Bl6ABNy8bQWF2uNyTHMcj+kyAS8Bwc6uLWxHv2VcomgNaPUEL4pGSjYYi6GQsaMA+J/u29RtE0G64fc49dsPdushkggYhu/3RX3zxhRJ0K0fQc69QNBe0SoIOIpp4pBTkUg4i6Lq4uF0kS9Dx4gXla0POufeYqHFhHwfVW1PD/Q60hLnzoJWgWyfk2Y33TigUmYxWSdD2OVeSiRNE0EGSbDxBPOIVBFniNlyCduO617jhrrjxMpGgbUjfs5DxmDFjlKBbOYKeZ4WiuUAJOoV4EhZEvKO+PBEYnwgWnhH3fDSeOW+nYV8XLw3Et8/FEnRwfqbswenVFscNzwSJRLCSWPS4qqrC3+/T51NavHghVVfD9Q3iDsfsu2mppCpo+XgSAydOIGo7Xz+wn2uFormhVRJ0/SFKXkuWZ8dROAHKSpRaDcWmqCvEegYqKyt5O3bsWFqzZo0fR/qoERfzpBX1gBrPcQCJB6K28/WDxtEDCkXDQAk6LbgEHYQ4CktJul4gXdChUITC4WhlYr9v3/40b94CPq6qig4gs+Mp6htxnvcaqO18/aBx9IBC0TBQgk4LNkHHDrSKRbJKS1EX2ORbWRn9eMaIEaNow4ZNhO5nIfKKiqjlrETdEEjmOcc5/E7SPdFwaBw9oFA0DJSg04IoIueLSjUsYzue3Wdqn1Opi5SXl/JW+p5vueUmuvPO2+m2226hbt26stx0U0968MH76fbbb/WvC4XgBq+Znkp9iYXA90EJWqGoDUrQaUGUkUXQtus6rlKKHdikUj9SWVlODz30AF122X/oqquuoGuu6UCdOnWkNm2uoiuvvJyGDRuixNxoEvA++MDzD0+GErRCkQhK0GlBlFEqBA3F1DjKqTUALm1xVWM7e/ZcuvnmW6lduw509dVtqX37jtS587V0662307FjGPWOQWLmWnVx1xfk2Xa9Q/HeBfs9aNh3oHH0gELRMFCCTgt1IWjXirau023a23CI6P77H6R2ba9hku7QvjNddtkVNGjgMNMP7cWrlqqPk45uk9wy5D2wxYon4kMJWqFIBkrQaSE5gjbTe0xce/4tTwuSeEIetkSqa4apxIpVb1UVlXy8ZNFiat+2A3Vo156u6dCJbrnpZjpx7CTH4er3r9X6rVX4UXXqyTrmR7i6mlduM8+02freCfs6H/LONLwXqXH0gELRMFCCThuOxQA4CkkI2gxoku8Vm5HH/joblkL0OdxVlio1BHUVrvLq0QvD8aO9nqBOHa+ly/97FX059hsqK6mMuc6Or5KE1PY8gm5DIX8OOva5K8GJY6AErVAkAyXotBFA0BbMEpOx3ykWhVVSHPJ1VQR6DfoK5AwJEVWVWccq8SVEVA1vaThaZ/P+WEEd2nSju27rRUcPnvfjYStxVVIUr57xrEK4HiNE5WXV3GWA7oXkkfi9qS80nh5QKOofStANDnFrG0CRwXpjCy5MFKkgys8iOn6ogPbtvED7d12kQ3uz6fC+HN6q1C5H9uf6W9Tf7u1nuT5ffOZjGtRvPJ87uCeLtwd2X2KR+nbTUokVqTdsUbfYnjleSqUFXsPSI2nfI4HHOowlVTNjtbbM0QMKRepQgm5QGCshHK4yCqsSvlXPhR0m2rPjIk3+bgVNnbSBZv3yD82Zvp1mT9tGv/+6hY8h2FeJLzOn/O1vpf4g82fupGk/buS6nffbDo7zx9StfnzEmTF5c430VGJF6gh1iDqVevv1h/U0ZeIqKi0kClWg/5+oClY1LGlrzEVjWMmJkBl6QKGoG5SgGwSimJx+NunLCxPt23WRZk1fRyW5RKWelOQQFWUZwX5ZHlFxtkoiQT1hi/rDNvecqbfsM0ThEqKqIlOfCLPrteAiUXl+zfRUYqWiwNQZ6guCOiy8ZOr54imiCV/NppJCzwWOxqf3qJvBYvLsNx1JN60eUCjSgxJ0gyBKzpHqSm+VK2Nh4NSJo4X0y0/LqSiPqBDKL9tIcR6x67Cs0OxLmEpiKUIDp8AIugtwHCojyr1YHVO3IqhfxJF6VokveD5Rp1KHFcVGSvJNeH420ZgRv1JlGVEF+v+rZV10mesfMBAscOBYw6Bp9YBCkR6UoBsEtvWMhTS8Pmi4/yqJZs/cSOdOhSkPFl0+sZuwrIiopICoMDdMBTkhKsqLcHhxfrVKAkEdoa5yLpZTebGpS6lD1KfUbX52FVWWkh9eUUKUe6miRnoqsSJ1CME+6hqCcxK2ce0RWv/nAWNFY2Q9E2+Eqv0FeZzRY41EzkDT6gGFIj0oQTcYPJIWtza2YWKX9vgx86gwG8qOqCifqKigOg2J1CJu/HoWlD+RuPF9aaTy1SZJlzOeuPFbkaDecomOHyyhGZM3Utgsi06REEY/yoNvEXQNUm5413fT6wGFou5Qgq5v+ErI63uTxTG8vmf0600Ys5gVG1skrtJLWVzCcMWNX8/iErIrbnxfGql8tUnS5YwnbvxWJOjDzyM6caiUfv3BI2hMYwuDpR2CjrGapV/asawbAE2mBxSKeoASdH3DVUKipzyCxiAbEDQUW/0QdBOLS8iuuPEzTVIurxK0L/mmi+b00Qr6acIaisi8fX7mlaAVinShBF3fcJWQKCbPxY0RsONHL2ILGv14NZRecxOX4Fxx42eapFxeJWhfPII+e7yKJn61kqjCW7xECVqhqBcoQdc3XCXkEDSmqtQrQbsE44obv76lsfOrb3HL74obXyUqnov73IkQfTt2GZGsLqYErVDUC5Sg6xuuEhLF5Lm4QdBwccPyqBcXt0sorrjx61saO7/6Frf8rrjxVaKC+smNJWjmXL9R6q0PqgStUNQJStD1DVcJ2V8C8gj627FLmKAbxYJWokksbj2lKm56rUnyzTxpEPR345YbguYBkfLMK0ErFOlACbq+4Soh35qItaBheWC+bg2ll6q4hBFP3OtUjLj1lKq46bUm8Qj6/MmwIWisx4MZVphmxe+BurgVinSgBF3fcJVQAEGjD5pXakrCgi7MNwORSoqI9+U4PzdExYVEBbnVVFZsyKIQq4/lVrOUIsxKoyAvbOLnhf207DjxBHFxTW52JcfHFzOxj8XRsi+V83kZMJWTVc7lwopSyCsvp6pGeo0tKA/KjC3KinJJPcoxzuG4spwoJ6uC71PCy0q8a726LsX95pv9xiBoKS+2KC/KgrpH3SIMcVBG/Ca4T4QjDu4FWze9ehWrD3rCmKVRC9onYyVohSIdKEHXN1wllCZBQ/lC6QqhSDj25ZgJF4ueIH6xIVQhJrlOSAdxsAW5CtknEuQNwoXCx/GlC6U+aSN9QxpV/j7Km3WxjM9j302vsQX3jbLYjRSUC/eEe8F5kLKQoDR8cIx7wjUQsZhB0KhrETe/+hbUKcgX+/jNZIvyy++P30h+E5A3yi4NDTe9ehUlaIWiQaEEXd9wlVCaBA2BgoYChlIW8gWJQAmDbArzDQFhi3AIroHiNucNOYE4obRBtkJAbl6uCImDFJCWnT7KkZdTyfnCgsa+aQhUe9YciKVppyNJA8WuM4Sj/MZiLueuUtxDbnYF1zEaHIiDOkMd4meU+kRaQpTJ1F+6gjKgTNgXUpZGEMKk0WXfI8qKbYN7MJSgFYoGhRJ0fcNVQmkStFhJ4pYVJQxyMcoY1p+xYEGEBXnGlYt9sR6hqHFelDnSgIJPxoIWy9I+RvpiUYt1DlLDVogOWylHUxO0bQ2j3CiXuIiNJV3C5RVyNuU3ZcY9nTtTyFuxZvGhJpvsG1KQj/xWkj/uI1QZ9azI72Nv7d+7wUQJWqFoUChB1zdcJZQmQUNsN6dYxBBYqNxHmldG+bmGqCEFebBuQR4Rz+oO+f2RcMvCTVteYrZuXq6Im1wIC2WB4hdXN6zl4kJY0Eg/5FvQQtZNTdAgM7uRg3KL6x11AkI2fbrlXG+4B9yP6UfHvZk6QBq4H9uD0eAuZE/EcyHjAExZor+JNDZQNikTSF0Jugn1gEJRD1CCrm+4SihNguYBSp77EspX+kzFcs3JLqZQFVFhQQXl5ZYysZQWg4ygtMOUfamMrS3uR4Uyzzb9qcUFRDmXaneBSr4Xz5fEEB1ISyznnKxSJrncbONCF9d2JhA0yooyiXvfJmfcA45BzNKoMWQIEsZgq6jgnmBZc4PIa+xInTakSDeFjAUQi1oaSohjN56wDyLHo6cu7ibUAwpFPUAJur7hKqE0CVqIWEbngpyhmKGI/968h95680Pq0rkbtW/XmR7p9SSNGP4lFRchbgVdf90tNHrkd3TxfDHH575nb6Q3lCusaDc/V3Ddti0HfStNLLWF89fQFZd1oms63EDt2lxH99/7OPXv+wVtWPcvk7VN1E1J0CA19BmLZXn6ZB7fD45BuCDjm2+6izp36k4dO3Tle2l79bXU5qou1LF9Nz7u1LEHHdh32neHmxHSIL+Gv6+hg7+ibl3v4OcA9Y7fH33m+B3kmZBzMrYABL1rxzE6fjSrRnr1KkrQCkWDQgm6wVA/BC3WEbbiUga5rFi2iYmj5w230+BBI2n8N5Po7bc+ok97D2JrEGQCgh46+EsmTLi5ocTFNSt9mSYfIdGa8tv0RdT26q5MbDjGdbDo5s5eSR3adae+nw2l77/9hXp/9Dl16dSTrutyE/3z124m55KimunFFylHKltX3PPGigeZymC62255kAZ9PsZ3X6MhM+u3hTR29Hf09ZeTuJEBcv7k44E0bsz39OXYiTThm8l06kQWx0W9wh0u7vz0yi/Xxpf+fUfS7bc+xGSM/PAMZF0s9d3ZxqshI9ANYR89fIE6dbyR5vyxPCA/d2uLXZdJiBK0QtGgUIJOG6JsXDiKKS5BO8rRXQgDStCzmEGyIJozp7Po+q430d13PUQnjmX5rk1cjzhITyzo4cO+YsIGWRqSNsQiFiDIxoy4LmcxRGb6sUFGP//0O13ToTudPpnruc1Nn/PC+X+ydfnXpp3sXq8oJ9ryzy7q0rkHfdJ7AGVfKqGyUjQqUK4Qu7+RD7a43u63NvsgGTM1C+VAGZEfwo0bGv3FxsWMa8yIdZmnbeb9Ij4aBmaOdpnvvjajoM31N994Dw36fJR/35KObP/atJvat+1Gc/5Y6uUDYjRdBrk5JaZ/upy4OwH3jWPkYdKI1g+2Uk4pP/KUssB6R90YlznGC+B3MWlAzIC1Cm5M3HLTvXw9wjDqHOmbkfumfpAOfk+UA+nt2nGYG1VLFq3xGnWmkYL42CIduV5+B3Mf5tmR54nJP+B5jHk2laAVigaDEnTaaFiChjs62t9oCO3HSVPpmo7X0ew/Fhm3c0F0Tq5RrrCuqqlHt9upX59h9P67fZisb735PrYWQZ4YiQzCGD3qG7r/vkepQ/vr6NZb7uFjJp/8Kpo+dS61b9uVXb4gYxA1wkAcC+evYktz44atTMQgr/Kyak7j4YeepIULVlDbNp15++QTL9B11/akUSO/ppLiEDcwXn/tPbqx5x3U+Zob6I3XPqTtW/f7A7Um//gbPfn4S1zWG7rfQR3aXU9PP/kK/bnqL/r4wwEc1q3rrTRqxHiPeMJstcOjAA/C7bc+wHHuvftR+n3WAioqrGQyveP2+/k+4cq++qprmKwNMUeJ2iVoCMr01+Z/6emnXqJrOl5PN914J/XrO4hOnTzvkyLq+o9Zi+ntN3uza7xnjztp2JBxXE8P3v8kexYe7fUcN2jwuKCh8s5bn3CZ3nn7Y7r9tvvo2i430Mcf9eP6wW+EvIcOHsu/HTcQssuYXJFPr4ee4brDuT6fDmELH3GOHDpLV1/ZmcuA3+eKyzqylwMEjGfi4vlCGjJoDN3U826+9vHHnqO5c5bwOWlo4HmEK509LAGkrAStUDQOlKDTRsMTNAjEEK+xgp579lW6vmtPKsg3K3nl50RYbEsbyv3azjcyoXz26UCaP28ZvfrKO6y4/968iwkA8sTjz9OQwaNo0g+/Ur++Q6h9u2vp58kzuB/75IkLNOKLr5kIFsxbSdu27GMigDIHgYEQYTWD/FAWxIdl/+47vWnZ0jXUrm0XJrN5c5fSn6s30bGjZ+nSxQLq9fBT1KP7rTRt6h80d/YyJlKQ6vGjF7jcUybP4kbB88++wcSNOCgDSA5kBDKGO/qqKzoxWaFOtvy9hwnp5RffoTWr/6blS9fTe+98xvcDAkIjYvu2vWzhv/fuJ1zunf8eqt2CLqjgewGpo37++H0+Tfl5Ot115/10370Pc2MFDQvUBer2l59/p3+3HaC33viYj++47UFatmQdrVy+ke675zEWqcPXX/2Aune7hSZ+P4XW/LmZfpsxl0ka9YOGDPIeOGAk3XbL/Wwl4z4xIG9Av+Hc6EI9oUGFhhDqHNdkZxXRrJnzuUE0ZvR4vs89uw9zWhhQ+OILb3CjYML4H2nxolV8T1dc3p5mTJvnTc0yXphwlTewMICUWdTFrVA0OJSg00bDEjQvMen1N0q/7kMPPkH33tOLlS6PsvZGV0scM+e3kq3MTz/5nK1bKO+LF/Kp67U3s9vbuHereIoWyAtWM+LA2n3s0Wd5H/LrlD/YIjt/Np8JHcQC4po/dwVd/t8OTLI7/t1Pq1dtpEcfeYYu+29b3gcpX3VlR/ph4i9swYLw4Rqe/NN0uvyydmx5M2lklbLVB+v8m69+5DL9+MN0JtuTxy/xeViNICUQtFiRuD9Yph990J/D9u4+xiQJMhRXOazFe+5+mC1f3Dvu57Zb7+UGC6x9kFltBI1yP3D/YzRs6Bgz+C6vhEpLqmjf3sN0xeVtadGC1Zz/XXc8zN4KsUSPHTnP9QZvgHQdIE14IvbtOc4j6+E5wG8pdY36WDB/ORPmiuXruNED6xeNF+SBxoBZKQyubWPZo0zff/czewTwOyONA/uPs6cAaeEeUe8IX7liPXW6phudPnWJr5Pnos9ng+ihB57yujnMwD5/JTKXmJWgFYpGgxJ02mh4gpapTkLQDz7wOBO09N3iHEgcA7iMe9u4UG+84S4mltKSsOkPLg4xIWAwmZkSVc3KetjQUUxcN/S4jd3OIDUQGkgMBAwLTaw+099Zwf2bIFUQDixFkDUaBBO/+9UnI4TDskU5ofxxHVzQKJf074JskebDDz7NFjPi/vzTTE4XDQKQEPLFILR77nrEdzsj3uOPvkAvPv8WpwNLG1Y3XOogIzQKKiuI7x/WLxoiIDyM2IbHQBokNQl6J7v1haAPHzrFngAQIEZ6d2jfhTpd05XatrmGul53A1vMaETAWzF65AS+Rwi8Abh/WKZIB/ewasUmvq/1a7dS1sVi+uC9vtyoAeFz/3ZRFV04n8flxWh8/G4of7frb2ZiRj6XLhRxehiY98B9T1DX625kLwWuOXjgBN/T7l2HuMziOcC9wnrG2ACEt7m6E6cJsoYLHF0Ipp/bTCUzYxK8KVpBxKyDxBSKRoESdNpoWILmvmVvoJgMRHrqiZdZMctcZFGmMkAK8UBu3a+/jd2cUP5Q0FDesCZfevFNJtETx8/TbbfeTT1vuJUtXriA4QJFfygUO4ju119msTV29nQukwOUOAZkoX8Yih2EvHTxWnY7nzuTx4QL8p83ZzkT1P69J7wBaujfDNMLz73JFqEMgkI4rnv26ddYcH8/fD+VyR95wtWKe0FfLPpNEV8GW730wttsheIauJVBfhvWb2Gik3nhX381kQkJxIc6AJlh1DvIj/umvYFd8QgaLmKQM6zU/fuO0YH9R2nvnkO0f98R+nf7PiZNpIH+bHQHmAFu1dygufLya+i36fO5zKgDEDPKiLrCNZgiB2/FpYt5XB6UGb8V6vuLYWP5PgYNHMEj9ZEuflukg/tGYwiNA3gvpBECVzbuCb8rGlWLFq6M8V689uq7fP+4Bveyd88RbkigcQOrXgbhQdDY49XplKAViiaDEnTaaFiC9onaG1ULZQ9XMBQ93Ku4VkYxg6wx51lGOkOJw53No369kdYYFPTmGx+w0h439lu6+qoOdPrUBV+RwyUOaxpkDqvzlykzfQsablmQz4VzBTz4CQQNCxkEKqO1pZ8crmZYZ+jnlZHhuBbTmDCgSkgLAhJGPyvIG+QufdAgbhwjLgZcYZAb9qUR8MxTr3KDA/e2a+dBJmL0q6Lc4taF+xb9vHD1VkeI+2ZhQeN+Ec8QdHREs0vQIDLcP+oKaXC/f3GIyR4WOixhEBmmmKERIdOwxIKeOWOBP/gNxAzSFq8CBsqBoGFBi6V75PBptnIxEBB59O83lElV6gpWOOoG/fKcbn45/fH7Qi4jvCG4LzQq0L2ARhfuUQbJffhBH+6TxzGuw++N3850iZhnSNZY57ENWJDFfRaVoBWKRoMSdNpoWIKWrydBWZqpVBE6sO8kK3+4OM+dKWDrD+FwT2JwlEzbMfOgxzJBglSyLhXSs8+8woPFoLhhpcHlW5BfasiqoIIHG91y890+EWGkOAgDFipIRuYCo3GAfmJYhWYpTDNlS6YKoY8aZYRlJm5qXItBXSAYsSIRhrRB9phzjHjog8YAMJCHTANC/y7csOLiRjxY3PAGoJw7dxxgSxeD0XAfEFjNcOXCK4D7QRjc93DxgwzZaq2FoHEdprNhUBvqD8QPosa1GPBmSK2MGx1oDCEdXIf+c9wnXNxIF/WDUehs5a/bxnWCUdyP9HqaCgvK/D7or778ni3odWv/5i6GkSO+4kYFLHVcs3jhn1zvB/ef4mNcg0F9IGhYxCBdWNCwqBEungL8viBy1BHmzKNxwW7+IvQ3l/qj4WV1MlnBzH0elaAVisaDEnTaSJeg44gQtLcClqzgBTcsXNlTJv/Bc11vvAGu1fG8IMnTT75GV195La1fu50JG+eEoJls8iq53/bdtz/lY/TXwqLCSOBVKzdQ3z6DeZQzCPnMqRxW3mgMYAQ13Opw10JwLQgaBLR54y6vb9yMNJd5yYsXruXy7dtzks9jWhfmJkN6PfQc3dD9Lvp95hImsLvv7MXTok4cu8jEO2niNCZ3uNRlvjIGS8GCxnkQHsgbFjf6rdFgwAhzENdzz7zOA9t+mjSDrXIQPwgRZcZ1GAUOkkQeiLdtywGuH7NUaQWPcMf532cu8usN3gCEYSAV3MroI3/skee5IYEGBuoJ3Qkjh3/jDwiDBY3yYFoa8kW8TRv+5YFsa//8h4kcU7Iwyn7smAk8gntA/2HsBYArWrwRGD0PTwTiHj18jokZ1jpGcaNc347/mT0lKB+8GjL4D4PWMIIcDSJ4XKQ/H78/yoAGD+4Rc8IRDyukRb9GFv2UZSAxs5hGpRK0QtFwUIJOGw1L0PLFIkMWpq8ULuEL54po6eL19NQTr1Lna26krtfeSk8+jrnC/3BcWERdOt3ES32KBQcljWlIsDxBGAj/ctx37EKFGxiDiNCPiXnRsGah6JEWSAb9xrDI4VYGSUK5gxQ2bdjJyloW0RCyXrRgDRP03t0n/PIgHvZB2h+815+u63ILD6567ZX3eXEN6ZcGuYLc0EhAfFh4IBL088Jaxb3A3Y650RgkBjLb+s9eTgsEjbKiUYH7BIlhaUyki/vBiHH0WyMuSGzJonVcp2dOmf5zWNAgdXgAZGAbwnEMUoZ1DTLG6HH03coiLyBNrEaGsuAYFjSIEC5uszRoBW3euIMH04GoEYZpVmh0vPzSW2w1Y1wBLGbMgxaCxnUgfgysQ6MI9QEixj1iRP4rL71LO7Yf5C3qEdehYYMGCxoUaOhg/rVY3BjZ/tkng3lqG+4Fg/NA4Nzf7K1Iht9PPlmpBK1QNB2UoNNGAxG0J2ZwmFimZi1mHIM0ZOCYzF0VkoQ1BIsVbnHzHWNjGYHUzEpU1UzyMnVH3LRC4maQkBkwhHTlGihlWQgFIoPUQL4y+hfnZapOdLWySk7DfCLRjDSXT1LiGvd6mYcr92a8CKavXfpLYYkjTEgM06wwrQlzoBGGfBBP3P+GfOTznaZsiCP3iPxQRjkv949jXGcs0+gnKXGNWVqzyu//t49xvVk9DN0CJszeIo83X/+IF2RBAwR54Rz63U1/fbSepYzGujW/Ncolv7X8XnZ8+R3sdBAf57CPrhHZx72hPk19efPpva+eKUErFE0HJei00bAEDYHSFMUJMZ9JNJ88FJIxS0caxSzTrrA1BGMGmYEYZMQyRAZcySAvHCMtISMhRJskpa/SVuq4BukIiQqx2oLrQRBClCAjlA3rSuN6cTHLsRAc8hCSRZ7SWBBykX30aaPfGtO/QNhyD6gfaQRIWYWozXQ081lOxJWGAsKFFIWwpewIF9KTBoXkgy3OSV3JfUq6CBMPA+K+/ean9NgjL/r9y9K3Lg0pm1wlPfldzBfKzFbOQeR5kI96yG+CMIiclzRRFnl2TFnNl7owvU++fKYErVA0DZSg00bDEnR0cJhHKrAwc6t55TCbPMWCM8o3wp+SlHgg6CiZGGtSyEcE6UgY9mF5G2vRWG64zpCsUeY4b6b9mDhwxUOixGc+xiEjguV6+UCHLCUpjQ58QpEVfmH0k5C4zvYE4BpDtqbhAJJBHJDRrh1H2dUPt7+QB9I3FreZI24aEZiCBpI394IwKZNJE40QuwEkc7XNfUm5pR6k8SP7SMf+EIlsUVdIB/cp+bz5em96tNcLHI60QZ6oe5Cz3CfqAmmjzFJfUt9Sz0gTaSBNu0sEW/kNjHcl+rlMu9Em9ybT9ZA3SFm+ehZL0DKoUQlaoWhoKEGnjYYlaFH8omjlc5EgXpyHUhVXqhAnE1E+UVkxUUUp0cVzZXwdzkFgKYk7F4J9KGqx2MS9Kw0DEACOQRJwBQuJoUxiqQvpCFnhOoQLaSEewoWgUAa5L4mHcOQjJGgTDs4JieBafJ8ax0Iu2BoXrbEMpWEgaQkR+9/SLjL1I6Rkro+9H2kImAVgpEFk8rLvV+5P7lnO2wR//iwWGDHkJ3Un9S8NI/kdjfUeS8amH90QNvJEw0UaNWYAnrG4pXxyrYTxs+N5YeT3gYjb3b4edYTnqwoWuBK0QtFkUIJOG2kSdA0FWJOghRCxBbHgO8728p5QlkIYkh6TT3Y1C/bxQY1QhSEOKGOJL4Qt6dtExITgXYv84PKE4BhlwBZlkPJJeWxSxjHyk3RxP5IXiABlRTogBGl8QCphtXqDlFCGrAuGNJAvtlwuz/oWaxJbISWkj7yQDq9nXuCV18tP7gN5IF9sIfLhEZyXRWJwPfJDvtkXKzkM6cJLIfWN+sF5XId0EE/SQSNJpsshLrbcx8tej2i9gXztxhjfn1dGlAHXSNlRH/wbePdvb3G9LDQiFrOQNgTnkJ9pBJguAvxG0kjBOdyf3KsStELRNFCCThvxCFrCPbEJetTSmgQdR0SZC4GI9ewre8etiTAhDiHWglxjSV86b4jSkHq0AWBbf5KeKHSQgZAT0kM6QtRMoFYjQkgZIm5qsSAlXAhArEEhRKQl+cByQ1mFVBGGxoXcN+LhHqWB4Io0BthjkBUyy6V610ojQIge+7gnxJM6wxZ5SP1jK40DIVrkjzhMtN5gKknfbkTIvsTDdchP7ht1jPqw3eLSOOJ78corZZP7958R737FIsex1L00nKQupH78xpfnPmcCtwaGSSMpZpBYDaL20soHQVcagq6QV8F65uMi3ntTv2g8PaBQ1D+UoNOCWAG2onGVE7RWmYkHgr5ANH7kao+goxavikpzFDzD506W0YTRyyyCropazTE87L4rDY/G0QMKRcNACTotBBG069KD1ioxSssn6DVUnFuPBA1rRre6TXWbrrAFHUTQ2KnyvUZRq9qP0GhoHD2gUDQMlKDTQjyC9ixon6BhQcchaG/pyrpLtD9Qt7pNfes+T6mJIehymjB6RTBB+xa0ErRCkSqUoNOCaJ9EBA13HxST4+JmgoaSDPFayXWSGGUpyla3uk1lm97zZ/qgQw5B45lXglYo0oUSdFpIhqBxDIUViRL0qJUeQXvuxjqLp2SFrHWr21S2LHiG3OcqSZGPZRyPJCZo/z1QglYoUoESdNqojaBxziJoHsW93BC0N0K4zmKTtIpKyuKRs/tcpSB4js8dJ4egrUZpTENVCVqhSAVK0GkjiKAD5oJi358HvaR+CJpH0aqo1F3c5ylViRL0MjMPOiFBe2GNiMbTAwpF/UMJOm3YBO2RMSCKSUhaCPoSCHpB/RE0pmupqNRR3OcpVfEJWhYq4VdB3gPvXWAoQSsUqUIJut4gRF2ToMNVxoLmpRNziObM+JsVW2GOsWJKCogKckK8LcPyj1gsIy/C29xLFRxWikVKvDjYx3m2ggKUbmsS1GEF1iLHgiZZ1VSGesomKsolKvHqB/uyxfnci2HeSnirFrakMV0qWApzw/y85WdX+c8dtvyM5hLlXSTKu0A0c8pmqvY82NVh/EMfNAhZIIStBK1QJAsl6HqDTdBR115VhSFnrKXMwZVEo4b+TOdPVjGpVJYSZZ0v5S2UYV5WJSs/UY4Ih3JEOIi6HKtX5YaZrH2SbsWSjyU5sZQnVvLCkpxYY9uTIpCyJ6g3EAu2iIt6NfXc2qUmKduCepRGYgVWfsuv5meRn9VLEW5o/r3+OC34fQs/+qVFIaIIHv4QRcJgbPv9sC3qxkHj6wGFov6gBF1vsN16Vt+bRdT40ATc3KuWbqe9O86zhQclB6KowgcusNRioSEPkA32sbUJJhfLeOZFlWUJltpsxYK6KsAHL7C8KJatxFevLpbxFucgmKuLusvLqqDcS+V8DmG4zk2v9YlpqNQmIPO8rBDlXKxkwxjH8EJUlhAtmL2RDu3N9hclYQvab7A2LRpfDygU9Qcl6HTBfcxAHIKORK1oOYYi++7rmXRoTy5V4etE2US5F4jK4Ka9ZNzgcB1iWwrLMJuoIMtsYbEgrATuXbhyc4yrsbUK3NnirsUxGj2RCkMe4urOzzLHkHJYgrCivfitWvDs1CJ4xiAV6HpBQxFfuzoffVZXLN5K035eRGwse49+JFTtWdFK0ApFOlCCThf2QDC3n822oilCIXwU2NNboTKiyd8tpTVLT9LhXdV09gixZJ0iOn2I6NxRc3zygAm7eMKES7xTB832nApdPE509rDZx/b4XqLTB4kuHIuGnzlkwrCFnNwfPdeq5WhiwXOHZ/DMYbOP5w6yZ0sl/TF1K/X5eAxd1+lmanNlZ36u2UvkPfM89qKJ0Wh6QKFoAChBp4sUCBrnqiMh/n4vrGhYz1s3XKSpkzbRgpl7aeywefTtmOU8IhbTVgb3mUaf9/6VBn02lbcDek+hQZ9O4+PhA37nON+OWd2q5ZuRK3iLxV8mfrmWJn29nr4avowmT9hEowYtoBGfz6Ofv91M349bQxNGr+K42CL+D1+tq5Fe65Pl9O1YPEfB229GLqGfJqyhgZ9MpX4fTaYv+s+iT96dSG+/9CXdd/sbdOV/utJVl3ege+663zzi3vMeqvQWKqnxnjQuGk0PKBQNACXodBFDwN5XfGzXXjVRZbl83QfzUIy7O1TuRUW/XZiMixD7VljbK6+jLh1voiv/24muvvxaPr7qsi702MMv0LJFG/x4rVn8egubfnoeOIzGTxlRv0+H08qlm7kfWsJ9wVgm+X6xSlLywjNvUce2PahLxxvpyv92pnZXdaXrOt9AHdt1YWs5AvOZLWfTxcOubvc9iSHphneBN5oeUCgaAErQ6cJXOAEWNE5DuWEUdwTWc5SgMeWKFZ+ntMzUlOjx2j/X0PXXdaWrr7yK2rdtR52v6URtrrqa7r37HlqxbLmnAJGADMZpvRIOyQRcT7wh859+8jEtXDDPDzcEEubfwk2j1YpNnAlELOIP3nuf2rVpy89juzbt6eor2/H2jddfpRnTp9KFc+e9+GFzrf8ieBIDlKFh0Wh6QKFoAChB14JwGMo+MaJxIhQOV1F1tdFEkUiE90VwPsLkIKQde/22bdvo888/p27dutHrr79O8+fPpzZt2tDVV19NXbp0oZ49e9LKlSv99BXBQH1CUJfLli3jMKkzrbvUgGcYiD7DRL1796bOnTtT27ZtqU2bdnTjjTfShg0baOTIkXT77bfTQw89RF9++SXt3r3bSY2oshKNKQM7TTmW/Ox8bVRV2XOra0d96QGFoimgBJ0CoDRs0hUlIudCoZBDyMGwlcyOHTto8ODBdP3119Mrr7xCs2bNouLiYp+027VrxwQNJXjgwAEOEyWXTOOhtUB+FxtjxoxRgq4n4NkWAT766CPq2rUrP5/33nsvh8n7cOTIEfr555/p6aefpu7duzOhL1myhJ9rOz0A74JLxvZvhGfcjgNgXxphtaEh9IBC0VhQgk4SiUg3iBxs5SH7FRVm4Ya9e/eydQcr+bnnnqPZs2dTfn4+n3MV0R133EE33XQTE7coKyBVS6KlIqjuofzRiOnTp48SdD2gvBz9MVEIuX7xxRfcsMSzaNevXccFBQW0fPly+vjjj+m1116jl19+mWbOnEnHjh3z0xHI+yHXB71Dqf6O9a0HFIrGhBJ0EggiARu2W85WKrbi2rNnD3311Vd07bXX0gsvvMDu68LCQj8uIJaxkC/SwvWugiwpKeGtq+BaM8Sisn8ntaDrF/bzbHuLAGxt97X7bMpvs3XrVho6dCjdd9991KtXL3aLb9myxY8nXiqBpCn52A1TtaAVLR1K0LXAVeg4hmJw3XKAKCUh1QsXLtCkSZPYBQg3HyyHoqIijmO77WylhC3ScZWPrfwQxz5uzXBJWcJQv2pB1w9cbw3q0CZRsXwBeS5tgratX/u5Pnz4ME2bNo3ee+89Hl8xaNAg2rhxI59Dnu47IA0E+z2rDfWlBxSKpoASdC2wlYCrmAAhV7HgoKymT59OzzzzDN1zzz00fvx4On/+vH+9KB1RMm56tjLEvk3EclybRd8a4VpewNixY5Wg04RrCdveHZt45Zzd0LTP2cAzbKeLxiz6p9GAfffdd6lDhw7coF2/fj3ngbhlZWUxabjkHQ/1pQcUiqaAEnQtcAnaht2S/+eff+jNN99kYh4xYgTt27fPj2eTrCgWW8G41oK4DwVu35zAtWxaI9w6AaQh07dvXyXoeoJ0s7jvgzy3QR4dIWlpVALuc25b3EgPgrhr1qyhYcOGUceOHemTTz5hsraJ3W04xEN96QGFoimgBF0LXIUkAGlmZWXRN998wwO5XnrpJVq3bh2fE+IUZeNC0rH79NzzbrikA8WUrHJqDbCVultnaCgpQaePIHe1TbS2i9ttXLrPv21Zu++WHItHSoDf8IMPPmDLGo2u1atX+9fUhvrSAwpFU6DVELRtbbruUFfBAEEKXfahIDAK+84776TJkyfTmTNn/PO2klE0HlyFj/qHMl+8eLF/3t4qmg/EygZp493DdMRHH32Upyfu2rXL/03dhivCbT0g5133OJ4Vu1EtcNNTKBobrYagBXg5g8jTDsM+SFvCSktL+QX+7bffeD7yp59+Stu3b+eX2R5h7Q7kUjQ8bOJ1yXfgwIE+QQvcOIrmA7yDQpqYAYHpiU8++SQvjILBmJjSBeCdlN85SA8IGSOtRO+pPiuKpkarIOh4LWHbcpYX1XWvHTx4kOd7durUiQcdnT59OtBKdlvl7rGiYRCkRCUMFhYWyAg6F0ToisxDUJcO3i3bar548SINHz6c7rrrLnrrrbe4/xpwLWgQdxAhIwzpuONCFIqmRqsg6HjkK2GytV9euM4wXxlzNefNw3rOsaQro0pxjavo3WNF40LIFxZ0PIJ29xWZDbxntofK/u3g4QJAslgKF4uiYBEgjA8JsqBxrd04D4LbKFAomgKtgqAF7hQm+xjkC8Hoa6x2hD4uLKAQZGnJQiFBSGRVKxoO7u+E36Ffv37aB90CYHcj2Zau3ah2LWO4u3/44YcYPSDEbD8D7gwKVycoFE2JVkPQQSNRAXkh//rrL3rxxRfpqaee8hdLsF96mbrjQlr2roJQNB6gcF1PBvZB0IsWLfKP7a2i+QG/nTvY04b0KdsWsq0H8G4vXbqUw93GnLzb8iy5cRSKpkCrIWghZbzE8vLiZYfFjNG+6LvC16Rs4EV1+8DkWpwLamEjPN70KUX9wyZet84HDBigg8SaOeR3dd8pEKpNpva7aO/begDL7WK6FqZEYgUzvMvyPruN9qDnSaFobLQagnYHfWBgCYgZo0AxEAyQl1Ti2i+o/cLa5Fxbi17R+JDfQfugWwbs9wrEbJNp0G8o7yrE1gOSDj5MgzXA8REazMyQd1i2QQ1vhaIp0OwJ2n555cVyX0x3nvP333/Pn8Fzlbei+cF1bdvhdh+0ICiuouXCbagDeAZAxujbxswMfH8dy/MCQY1qW3/gWnGlKxQNjWZP0IC4lW0EvZgLFy6kHj16MEGrom65wPMA6d+/vxJ0K0eQHgDwHKBBj+cEa+V/+eWXrBtkzIJrVSO+TcryjCkUDYkWQdA2OeOlg7gv5htvvEHjxo3jKRl42aQPS9G8IRZ0kMLEWs5K0K0bth5I9NvjHL4+h0+UYuET9FfbesW+1u0PVygaCi2CoAEhXcAl6Kuuuoq/QwuXlvttZUXLgxC2WtCKZAjanrqFLRYjevrpp3k5X3F5yxbkLHFrm0utUKSLZk/Q4t52+44SvZgyj9m9RtEyoAStELieNAGeA/tZENKFTpBwLFCED3TMnz9fnxtFk6DZE7QNEDUUM1YBC3oxxcIWV6gSdPOHurgViRCkBwTy3NgQnWAPOB06dCgvXIS+ah3prWhMtAiCtvuKsBABXFNBFrQ7+lKVdcuEkLVa0IpEBC2QPmVp7AH2cwK9gfUS3n33XX/mh0vsCkVDoNkTtLwoeMkwVeLDDz/kl8t+Me1VguTF0xZwy4CtVN1wnWalcAna1gFyDLgNd7fvWXQI1k6AZ0YJWtEYaBYE7b4kdpjsY2F8fHVKXjj3xVS0HsgzMHr0aFq2bJl7WtGKUB96QHSNDAqbNWsWPfbYYzUah+K5UfJW1BcynqDlYQ/qL5aX45NPPuGl+wTuKG5F64JMtcNSn0LQajm3TqSrB1wLW7rTdu/eTddccw3t3bs3Jhzx1TunqC9kPEG7H6hwp0l999139Mcff8TEU4JuPRCXpUvAOFaCVqSrB2wr2baOhYgffvhhOnXqFIfZRoS7JKlCURdkPEEL8MBLK1VeBIyu/OWXX2Liybl0X0xF84LrbgTwfAR9vUjRepCuHrDd1W63mgDfn16/fn3MVC2Foj6Q8QSNh95+ScRSxiL3gwYN4n33G6/YT/fFVDQ/uH2AgwcPVoJu5UhXD8hzY5OuWM9iJeMcVirctGmT/+y5nj6Foi7IeIIW4CUQCxrL8D3xxBO8Ly+EWFBlZWV8nO6LqWgecAfk4BmQZwHT7ZSgWzfqQw+I3sFzJfpFYLuxH3/8cdq5c6d/7HbPKRSpolkQtL2kHh56rO4jkJcH4aKsEb8+XkxF5iNRPx/6oIWg7b5DRetBunpAnhds3WdH5k/jGRQ9dMstt1B2dnZMPIWirsh4grYVMNxGn332GQ/KsC0n+8WRFyXdF1PRvIDnwX5W8Exgzqq7sISrZBUtG/WhB+yFkISoXc+NoLi4mF5++WXeT9R4VCiSQcYTtA3MP0S/YjIPfn28mK0B1RSpRRAnc6UqHPL3Q5EwhasjXGocjxw9ipavXMHHCLevq6iqrJFWY4v1I9RdFAnRGHpA9BFIG11x8Npg6icgDULEcRuQCkVtaBYELQM0OnfuzC1UQAZnxENjvJgtATUJOUhq8kKsSJym2VaGKmKOQ5EqqgxVUb8BfWnl6lVUFTZkjC2IOlxtSD1C4cD0Gmtr/Qh1F0VCNIYecKdUgaixzOzKlSv5uKioyD8X5CpXKOIh4wlaHnysCvXzzz/zPvqYaxsl2RgvZssAXHVo6CQSxHFFrpXrm2YbiYQoUo3BOOa4vLzUPz923EhaunQxhSMYwxCJiYethAel2zhbSBDkXDKiSITG0ANu9wmOIR07duRjMSRcYk7GE6ho3ch4ggYKCgp48AVg9/0kGiXZGC9my4Cr8ONJPLjxGl/CYQzWwbQXNNqgHA0Bfvppb1qwYJ4fD3FkW1aGT47WTKvxRdGQaCw9YK8kBkA3zZgxg0aMGMEEDRGvX7z+a4XCRbMgaCxOv3btWt5Pth+nsV7MZg/XZdrMpKoiFLO198eOHkerV/5peLCaKFQZrnF9k4v9O9hw4wWJolY0tB5w9ZGM6ha8/fbbgaO63T5phSIIGU/QmHfYvXt3/9gekJEIDf1ithi4Sr+5ikfCkVA1wVDG9vP+A2nZkuUUror48UqKSv39jCDseHDjBYmiVjSGHhAL2Qa64aCjVq9ezZ+pFOK2jYradJhCkfEEjX7nkSNH8r7d4nQfdheN8WK2DLgu13gCBRQkbrzGl9ISDMIx++GQ9DNHaMzokbR+3RoOi8AN7rm+WTx3d9MLBqwFCQaS1S6KxGhMPSA6ySZeEPXdd99NZ86c8cPgDldyViSDjCfoRx55hI4cOeIf2w92ooe8MV/M5g1DErWTrU3K6G8Tqe26RhKPcG/o0Y169uxBPbpfT926daWu13Whm2++kW6+qSc9/PCDTNJmIFm0r7rpxNRltS/JEnQ0jiIxGloPuKO3BbZFPWfOHPr2229jzqt7W5EMMoKg7bmCNvbt2+cv6Qm4UxTc+DYa+sVsKYhV/KANM4fY3Y+KSxZRb2tTbvnZIKJevXrR1W3bUJs2bahdh/bUrl073rZv357e//ADs/qTF9+UPji9xtgaCFG7jYWawPNulHzieIooMkEPYJpVjx49+JkDcSfy/CkUNjKCoAF3qgLwxRdf0PTp02POC9xjF5nwYjYHgKYwb1jIOBwhqgpFiTfTJRQ25a6sCvP+z1N+pe49elK79h1Z2ne4hi6/4iq64867af+BQ35cbCPVNdNrbDGIT7ihEEapw21qh5q4IXbnKxIhE/QAGlZYuGTx4sV8LCO6FYrakBEEbZOy7IOAb731VsrJyfGP7fO1PeCZ8GI2B4Cgw9WVMSQtUllVzSRWQyz7GT9HUwsgBFZYWEz33fcAdezYidq370hdulxHbdq0o48//oTJLubeA9JqXJFvWZu+SyPeOXjtIdFXg2EGJEX72RWJkSl6AJ+jfPXVV2uMo1EoEiEjCNoemS0EfP78ebrnnnt43yZwd7RkPGTKi5nZAMWavk8zWMnUP6xoPusxNde+bGMsPwvuycbaCkdhelWVGZU9ffpv1KXTtXTVVW3o6ivb0G233UG7duyOua681PsAi5teY2/jEa1/3jvkd0Dimt8rFDbzvhXx0dR6wF6k5Prrr2cdl6wOUygygqBt61j2Z8+ezetu2w+zELhrTQehqV/M5gHUYxVVhYopHMJn9Ew/KI8yDXl16xJKzDY6fanJJORNlYpUU6iyio9Li0vo3jvvoms7d6H2V7ehz/sPiLkmgmvkuqYWIV033BOMfasOR8wI9GoZmIfGRQWRvzKaIh4yQQ/IIib4/OmaNWv88ET6S6EAMoKgAbGiZfvee+/RsmXL/IfYJWp7G4RMeDGbA2rMNpJjEIM9UFu28cSN15hblBn7sq0imv7TbOp49fV0W497ad+OY1SN9gfiisi1Qek15hYi5Q4S9/fB62DvKxKiqfWAbUzgYz9Dhw71uzMUitqQcQQNlJaW8uhte+6g219T20Pe1C9ms4AxoIlgiJUTleUQ5Z4iyjtLVHKRqOgCUfF5Z3shurWl9HzTbEvOmbIWnibKO23Ci84T5Z0g6nXH+9TnzQl8vgxxLxJVXCIqwP2dM1s3vcbeFqGevboOkuKL5vfIPUNUkkUUxrdi8HtBQODxXwFFBugB0VGwok+fPk0PPPCAb2y4Ok2hcJExBA1gUj+A/ucXX3zRD7etZ4lTG5r6xcxceO5UsZbLiDatPEk/jFtGP361gqZMWEvfj1lG40cspoljV9B3o5cllO9HNa1MGruSvhm2kPd//noNjf9iEU0cvZy+HbGEfhy3Kmb/66EL6IcxKzguwnDOTa+x5bvRS2nCmKVclxO8OrW3+B2+/3IF/fT1Svpm1EL66ovZNO3H9XRge4EhafyGPkmLaa0QZIIesPXXK6+8wgNfExkXCoUgIwha5nfKQ4t+mg8//DChC7s2ZMKL2RiQ7kpfMfsBRlnLd5DxqUWzMEeIqkorWbnDGvttylr6Z/0punCSqDCLqCiHqCSPqDSfqDCHqDgvjuR64oarpCa5REXeftC2tMBsywqIsi8QhUqJjh0s499t5z8XfUualy31/Ob2Aiwy3j4K219e9/eruSAT9EB0/jrRG2+8QZs2bXKjKBSBaHKCdt08IOlff/2V50Cng0x4MRsawsXeGPjYQD423z2uqML3kM1xRXmROVVGtGTWbtq9NYvOnKig4nyikgKiQpBDAVFxIVFhfoSKClypNpJPRuRYpW5Sox5j67sgL8ySmxWiSBVRfrYh7Koyotm/baZ/N14yJM0/P76LLZ3b5qtdNVccM8+BEnTjwNVv48ePp4kTJ/J+oq/xKRRAkxO0AH008jCDnH/77Te1oGtBsgRdGTKrZyEsBM0eITq9t5RmT/mHCi4Rk3NpoSFmEDQIAwQNcQkjPrGo1Elq1GNsfeM3wJcxQdBlxeb3uXQuTBUlRNnniaZNXE9VhfLzmyVDo8QL61kJuqn1gD21Ch/P+Prrr/2R3QpFIjQ5QQf1xbz00ku0ZcsWNzglZMKL2dConaCjLu5QRNxsIfaEblh8kHZvzqPiHKLCXKP4hZyFLJSgG0Fq1GNNgs7NrqTKMqKC3GrKzyEm6hx4t0uIZv60mS4eJwrx0AyxnM2SkuZxCHJxK0E3FmwLGr/LsWPHeKBYbYNcFQqgyQlaPssmCgVuHzzAZ8+eTWtCf1O/mI2BVAgaYgg6whesmrObdm8q4D7QAo+gSwqNwLUNt2phfrgGYcQnFpU6SY16jK3vgrwQ5edWUWlx1MNRUUpUWgRLmmjF3EO0b2seVfOrYp4B6H1ZNa01EPT6PsPcIB9NrQdsEsZ+YWEh3XTTTTFjbhSKeGhyghbIw4oH98knn3RPp4ymfjEbA8kQNBOztwoY+BmLXuCCRdO20Z7NhTwgjF3aBfhWshEQczA5K0HXu9SoR9eCrmYXd35uiBtNaEDB3Z2XHeZ+6NULjtLWdefNz10Niy1W6ddG0NO730tf/M//oaOLV1pxgoE4iCvXQDIBicqRCXqgvBwrvhnAosaSn3l5eTFxFIogNDlBw2K2LWXMfcb3U9NtXWbCi9nQSEzQJswlaOxEyolm//QXHd0RMqOIXdLwyQEkHfJECbpBpEY9Sj2besdvkJdTzhY0wuHdqCw3Dam8LKKlfxygbesu+dOtZLlTfhT4C1+JCVqINhmCTjZeJqGp9UCQHsMndA8fPqz90Ipa0eQEDcBqFpcP+mgefPBBDndHQKaCpn4xGwO1E7TZxUcvONgjaOjnhVN30K6NRVTiDQizCQJWG8ihML9KCbqhpUY9xhJ0QV6lZ0FX8e8Cos7JqmBrGgP7lvy+n3ZtzqMw+qBhQYN7vd+f36kEBC2WZ7LEK9azC7iY7XD7GPsQ2/K2YYfbaeBYrpNz9nmx5iWufZ0IgPf/wXbfxuTjxrfzaQiIboNAp73//vv0559/utEUihrICIK2sW3bNnrhhRfc4JShBB11cftB3trO0M9zJ2+jfX+Xmfm2NdzYUYKoGR5AMir1KG59x/sdIjzdavmcQ/TvhtzokqBWAy3YgjbPhk2iIKZkCBoQIrPj10bQNvHZx246LnG6jQH3vFwr4TZpC/D+I8zWA+61bj71DTE0xJr+7rvvaOnSpU4shaImmpyg7bVqsb927Vpeh1uO6wolaCXo5ilufcf7HdIj6Hhklwxci7M2gnYJ0CZosYzFupUBX0Flcsscb9/OL4ig69o4qSvsLjz8JqNHj6affvopLf2maB1ocoK2B4dhf+HChf4iJUH9N8lCCTpdgnbFJRKVhhW3/gMkKYLGPOjY2RDr+wyNIUch21SJqj4IOh6CyiPldS1lNx1pQGCbCQQtekyMjqlTp7IVrQStqA1NTtAuZs6cSd9++60bnDJaH0E7gV5foxJ0cxW3/gMkHkHLoxCHoP3GnIe6klQ8ghbyl3M2gSZycduIdw7h7jmXoAEh8SCCtq9306pv2CQMVzd+k+XLl9O4ceNi4ikUQcgIgpY+GjzMkydPpu+//z4t6xlQgoZSdggaWyHon7daBO2SQzKixF0/kkY9+gSd7RF07DsTXeozNYJ2j+1wW8QdLedsN7VL0PZ5GxLunqutDG4YIHlJWrge7787SMxtTATl01CArlu0aBH17t3bPaVQ1EBGELS/6lF1NVvPWKtWCbp2JEfQUTc3n44h6JI406ySkTSIRcWSNOqxngi6IeFa142NTNEDdlcextl89NFHbhSFogYygqBtjB07ln7++Wc3OGVkyovZkEieoA1J82lvoZK5P/8TJWiZ6hMkLim4btYa51VSk1rq0/09bLEJmt3bMU8Cr8ttRAm6qfSAuLhlKinw77//Ut++fbUPWlErMoag5WEdPnw4TZs2LSasLmjqF7OxELWOvbryA6QPOgmCTkQGLmHUIJQ4xNKoIvm72+YgtdSj+3tYgt8uxoLOUIK2XeGNjUzRA/ZslXXr1vkzVRSKRGhygsZDKi5uPMRDhgyhefPmmQEuaTzAmfJiNjQMH+PlT0zQfvzAPug45FBQ7a/RjcVMsDgGtljFCvGxeAbWisZiGhIGwYIasrAGlqjEQhvy0QdOMz/Ca0nn55iPQSDdvJwqXiELi3Bgv7zULG+JdLMvlfN12Jf05Bh5IH+Td4jTwLEpF1biMvGwb66v8o6xSppZ+ANpIs+qCuIt8jPpmHJFv+xlyh79FGc15WSVU0UZ7q2Cy4CyyVKpsnQqyiDH2EoZzKIj5RSqNNfLeblPU6c1fxORGgTtubjlEYhwoPGkWC05PhNz2IKRCXpAZqiIFY21Hl555ZW0DBBF60CTEzRgE/GwYcN4qlW6yIQXszEQJWDvZcfG175mxaiYebCevo4dxR2wUpgnIGd8RUkIEcSEbdbFUoqEiM6dyaOBA0bSjTfcRR3bd6NbbrqfPu09hM6ezud4P/4wk6664lq6dKGUiQhhQsYgIYSHq0wYrzXtERfOCSmCrM+eLqDtWw9xGM6B7EFmWArzr0076fVXP6AunXpSh3bX0xOPvUhzZy/jcyBDIT3cn5A28sC9CBHKB0JQFm5A8NKa5oteQsqICxKXBgPim/vAimumYQKixdbEK6OxoyfS4oVrmcQlb+yfO1NAV1zWib75ajJdulDiL+WJOLhfpI/83N8jhqDh4p59xB/F7U/nUYL2kYl6YM+ePfTWW2+5wQpFDWQUQWM7ePBgWrBggRslZWTii9kQqB+CrknM4kaFpYuPM0QJGqRYTXk5lbTz3yN084330BWXdaR+fYbT6JHf0aDPx9AD9z3lk9GUyX9Qm6uuo4vni/kakBOsRpxHvjgWghPLE1YoGgDY4hpsb7zhHvpi6NeexWysaJRn/dqt1L3bLXTn7Q/RF0O/pLGjv6MH73+S2lzVhUYO/4ZKi0GyYU4P5Iu8cR22YtkiPbGCQaogS4iQrRAnyiKEj/OmsWGsd/7aVKFpTOC8WMR33PYwfd5/lJ+GsY6rmJQ7tu9Bo0Z8y9fKcp5SD7yUp9dIiCdK0LWjqfUAfhOZXiWW9I4dO3i1RLWgFbWhyQnafnDxIA8YMIDmz5+vLu4k0RgEDetWiMX+ytUbr31M7dpcR/v3nmCiEgLHvrFQwzTxu2nUvm03JkQcYysECMICkQlxCVkKSSJMSPTWmx/gRgDKIMSdn1tBjz7yDN1801106UIR5WaXUUkRyLKa3nvnM2p79bW0fet+DjducVNukLHsIw8hR9kHmeOcWPwoI8oAj4HUg5QXFjTKIvcmn4bEduXyzdSuzfV0/XW30emTuZyvNEJA0KiXL8dOimkMwPLGtVLnNX4XJeiUkIl6YPfu3fTss8+m9a0BRetAkxO0QIi6f//+7OJOh5yBTHwxGwJpE7Q7zcodiOS5dkEiYi3CJb5rx2G6/L8daOCA0Wwdg3QMoUQ/toGvMP38E1zcndjlfN89j9G1nW+kl198h44cOsuEBTKd9dtC6vXQM3T9dbewq/zD9/vR+bP5TKywfm+75X4mW7iv4UaH1Q4iXbP6b7r6qmvo58kzKCe7mCoriMpKI5SbU0JHj5yhazpeT/36DGPS3rv7GF15+TX08YcD+PrO19xADz3wFM3+fQkTPfqtkRfiIQ7KCXntlffpn792czkR55WX3qUxo75lax1lRTqffTKYXf2wnhFHrPb33+1Do0dOoO7X38b54OMjxmNQwfeHxo14BVB/2EKkESL95PFECbp2ZKIeOHToED3//PNusEJRAxlF0JB+/frxRH4l6OTQ0ASNMOkbFnKGfP/tL0y8/25Dv7B8s9gMGjMkbfqHJ//4G5Pq7bc+QDOmzaMfvp9KXa+9mV564W3KvlTCJPx5/xFs8SLusCHjqFvXW7lPGUQHMtuz6yiT5TtvfUIb1m2jnf8e4uu+GvcDE/ThQ6eoqLCS8vPKKC+3lMrLqqkgv5xuu/VeevzRF5g0YUmDEJHv1n/20uqVm+ntN3tT+7Zdad6c5Uyux49eYPJ+8vGXmFBnzlhAzz/7BpMwyoA833rjYy7/Jx8PpC1/76E/Zi3mvu/BA0czASMvlPnk8UvcoAC59/1sKL35+kd8PeIgr4vnC7nRgT5oHEv9wpJGQ0gGqbmknIkE7S4ckkmobz2Q6r3a7m1xaR84cICeeOKJOuu4VMugaL5ocoKWh1a2mB+4ePHiOj+8gvp+MTMV9ULQLik7BG1GLBvLGKQLkunXdwgT06EDZ31XsXFfm35YcTeDdEGChw6eZCu3tCRMk374ldq26Uznz+Wy1QtSLS6qYusXxDpm9Hg+n51VxPGxvenGO2n4F+M4Loi4sKCCBg0cQe3adqEzp7P4uKQ4xFsI4r3y8tt05x0PcJr/bt9HHdpfR0uX/MlkLvHuufthdpNLeo89+ixfC0He2N56yz18DuX74P3P6Pbb7uM0pCzI55mnX+Zy4j4qyol++nEax6uqJPp91gK25nG/uA7luXghnwkag8hQb+LiNgPEzHefWwtBN+RUrPrWA+5qZ6lAfp+DBw/So48+Wuc+6FTzVTRfNDlB+0rF28KCro9PsdX3i5mpaAyCNiOZTd8pCBpW4uBBI+nKKzqwe1sGhJm+YQzCArmgTzpCkyZOY0sShARyAuktXrSKyXLb1j1MViC2id9PoYcefIKu73oTEyLOHzxwgs+DPG+5+W4a+PlwTgNEDCLs32+oT/Q4FpLGNbCiH3zgcbrj9vv5HAgaZL5i+To+RhykNWzoGE5D8uh0TTfOu0vnHkyqnTt1ZysdxAxCfuP19+nxx55jYkZekCGDR3G5pWxwsT9w/2M0etQ3HA/3fm2XG+iHib/4lj7uuX27a3lgne3ajvbjGze3S8otlaAbajGT+tYDLkHXtkyord9k/8iRI/TYY485MZNHuvWtaD5ocoIWyMMrFnS6qO8XM1PR0ASN6Uxi1Zl+aEPAY8dMYILZ8vc+JujoNKFKjgNLGpY2XNqdOvagC+fzfBJd8+dmJsWtW3ZzGCzQ667tST9OmsqkPXLEV9Tm6k7sugYpwnK9ocdtNKD/MN/KBhFOGP8jdezQlbb8s8vve0YDQKxbWN3PPvMK7yNdkO2ihSs5rsT/6svvmbjPnslmQn7v3U9o186DtHfPEdqz+zDt3HGADuw/TqdPXWIPwDtvf0y9Hn6Kr0UaIFtY/CBolAv5b9q4jcuPcqEsWZcK6eWX3qInHn/ebxhculjA+cKClv7naPeAmWIl08ziSToEfcT7mIS9bjXgkg7Oi4Vrx3fXsw7ad4+xb6cByEctgtKUeHYadliQ1W2XFYL3/6P/q2eNfAVB4UFx3H27HFJuuRc3PYGUa1LHm2OuA+zr3HN2ncdLW9EyoQTdzNHQBA0ikFHJ4uIGCa9d8xcPEgPB4DxGPhsiNwuXmNHNZpAYpjyBoMUljGuvuLw9k+bqVRuZrOfNXepbtn/8vpDDjh87x4SHsBt73uG7mXEMAdHDuh018msmPel7Bnlv3rSdGxCwkHEMCxpxYUGjDIgPAenDYgbhwoJ++qmXfHc7tmKRo+zYhwX95BMvUCRMvgseln2P7rf6BP1J7wFsgYOAcZ+wykH+8Dhg8JoQNPrwMYobxCz999GGjvT71yTm+iBoKHn/0CIeIRE33EW8OG5891hgh7sWdNCxkHG89ARu+fH+49jWA3IeeQSRvJtHvPvDvvuRkUSQ3weDxHr16pV0Wva+NAIUrQNK0M0c9ULQtuJ3CFpW0ZKpRGIZY4AXFgRpe3VX2rblgD+tCm7Z9Wu306kTWUzmcHGzBX2uwB84tmLZBg7btmUfLV+6nokeo7plJLUMLMOIaqSHKVT33/s4D9BC3zbKYFbfKqMH7nuCR39jgBfKlZNVyoO0MBgMfbywhEGaf/+1g63t5cvW+gQNyxYDvjD4DI2L3h99znO6MQgNaaGxgbRkmhbK9+7bn3JZcB7lwDnMvUYZUHaMzu7Z404eCb5pw798j0hv4/rtXB4MbEOaGCQG1z9c3Kg3Q8rR6WYuGQdJugQtFplrlcXbB1KN7x4L+dqE5BIyzsUrn5yL51p203rx/36L48OKdtMCsO+StFtmN769b5dDGgduegL5fWBB9/n//D810rIhx+792OcULR9K0M0cDU3Q4mqVgWKGRDAoLEKrVmyibl1vp04de1KfT4fR8GHf0FtvfEJXXdGFLWcQmoz2BiHJ9KNlS9bxiGqMpgaxXtOhO7368ns8snrid7/yMUZOL5y/igkQ5ImpTCC0b8f/TL9O+YOJDySJUd0ge0xlwghwkOXdd/biPJE33NKwbPfvO8bWLCzkGdPn8EA1DCBDQ+DPVX9xuU4cu8gjyEHaE76ZTL9Nn8+NApAyvAEgbIzGxshwmQIG4h70+Si+BveLa5A3yBlzmoXkUVZM0cIiKkgL9YHBc+PG/MCNG3gcQMxiTTf0NCsoef/QgRCPbWEGEVtt+/axWH5BrnSXhFzic2G7xV24aYGgQc6J9IBrdbvpxjsXr5xuXbnh8SxoG3Ls3o99TtHyoQTdzJE2QdeyUIks8ynLX8pcaFnUY/fOI0yuN3S/i67tfDM9eP/T9O34X3jwGOJNnzqfrWws/Qnigaz9cyuvooX+ayxKAov7ztt7UZdON9GLz79DO7YfppdffI9eeuFdTgNEh9Hir73yITcIsGjJ8qUb+RzKsH3rQXr6ydfoui63UI9ud9KjvV6gRQtWMzGaJTYrmdBB/LCs7737UXZrY8Q2Ghlw3cuCKQf3n6F33+5DHdqhkYA52+/Rb9MX8r0j3nvv9KWHHniGj2VqGazg7tffweV55qnXqeu1t/I+3P6yCAnKgSlVWN4TU9MunCviRUwmfDOFzpzK43TkfqR+MVCsxu/SCAQthOUSSDIuWJc84hGNnZ57zj2OBzcvwL02yMUdBLsxYqebiLzdOrERVDaJnwpBu/vq4m5dUIJu5mhogsZKYkzU3tKTsPJAOLD4cB0sSbibQdyyghgIFWSGfUwhAgljFS5xgYOMZEUxWMdYVUsGSokVKWtcY18WQRGikwFVIEBZuQt5StnM/ZjlQGG5QnZsP8gW69LFa/mYR4IXmlXPcK1YrkgfjQtszfXRMiMOyoqy4Dzyl35jGeWOvGXZUNwDziGO5CMubNwD9nEOP4/sQ8yqa7LiWU1irg+CtgeJBVl8OA4iBokbj0DkfLx4drhL+DhnW9h2fJs87TxcBBG0O0hMyuTmIbDDg84J3IZMUB42jixaweEySCxeuu6xxLXTV7QOKEE3c9QPQcf/WIZN0NIfjX2QllkS0xCdTKsC8Yj1DNKByMcfbIvQduHKBzjMSlwmHwlHPPvrURDEwTFIHwR44VzsSmZCdNiXvmIsVILBanCjw8UsLmtDzMaNj/xlehPSly9ZSbmxljeOZfAWyoHrZZoU9kHMKJNYxLKWuLGITQNGljLFNQjDsRC9LFqCPPVjGekjk/SAO0hMoagNStDNHEbRWgTta14cx//c5OwkPzcJF3dxQZQwISARkAq2xnI0VqxYwEJIIClZcEO+CCVkjE9N4lOWEg5CEhKWpUVlH/GNq9is9y3pGYKMfrhCLFPki7KZ/MO8//fmPeziXrJoHTcopAEhhCuNBXtpU7lniZd10QwWw9espNEhlq94DJBftA/ZlF3IWUjY9hSYRoGZymZ7FqQRkEj4c5MWQevnJmsik/SAErQiVShBN3NEFW1ighZlXB2OsDKfPeUf2vtPSewgMXeKlTfNKlaEzF1x42WSSPncbSZInPpzf4cAiUfQgmqq8iUKqzHXCpBJekAJWpEqlKCbOWpYQn6AsZxsgmYJIugA5Z88QbvnVVKTOPXo/g5B4ri4kydoPButA5mkB5SgFalCCbqZIzmCjgazixsE/fPWmhZ0ShKHWFQaRoIaTDUI2n4Q8E6FqZqfAZuQlaCbCkrQilShBN3MUTtBm0OMOK1B0H4fdAAh1CpK0I0qStB1QibpASVoRapQgk4Ae3oDJN6cRxuJpqM0BOITtPRBm0OUI5agt1kE7bqtgySANFSaVnyCzosStPUw4J1Sgk5fD9QXlKAVqUIJOkkku0BAskReX4gSdNAgMce9rQTdsiQeQXsknQpBJ/NsxwOe93jPPDw3Moe5KSA6wG4sJ3uvtZU71XfdJuhky6Bo3VCCThKpEHQyCyjYx6LEbMvbhh1up4Fje7EEWVhBCProYrMwAg5lC4KW+BAh6D2zTNxfr7vHPyfzo7G/6sOhVngAWajUTYJc1yxuAylAkiJoZx58AxA0nrl4ZJboXKqoSxmFnG09kGw6tcXD+WQIWt5vJWhFqlCCThI++SUBITL75a2NoO0X1j5207HjYR9pmJozSpjPewSNfawYZRP0kYWmoeFa0AizlT+O98xa5u+DuM05l0hU0pJ6IWirDzopgnY6q5Mgo7oiEwm6vuC+m/Eg77oStCJVKEEngWStZxu2ZSvHiQjaJX+5DltpHEBwLAoP+0LANQk6Sso2QeMf9r/6z420569SKso1i4UgDMQgC2is+nAI/dr1XraicQ4WdgxBxyUWlZQkbj0aEpYlRGXVMSyAgkVdsLBKeTHR8jmHaNfmPKoqM78tPoMpv7/5uT2CtojbeFfij5Vwz9kkJGGylTCbhN10452zn/l48d3z2Ep5JH5QOQWyzGeir1nZedtlcuOJ2GH2e26fE0hd2mkLQdt5u41wu0yK1gsl6FpQF3K2Ide6JJwKQccDzrkELUpIyo1zZeWGZIWgI5VEP9zzJoeten8YEwL2ZcUsrGi14v0hntWsBN2gErceDUHLKmRYaUyWWa3EB0ByqynnItGy2Qdp2/oLxoKuJqqsjLqvIxGZA1+ToN3nyj6Ody7eu4DnzW40umST6FzQfjzYcdx3Jl7ZgixoN9/ayhQvbYTFI3QbtVnQdvrufeE4qMGiaB1Qgk6AeC9mKoj34tkvt7TCBfaxq0Bs4JxL0GIhm+tW8LmqkFHI2HJAhGje1C3059iFHF5SaK6RNanxkQcc75i+mEkC+0rQDSRSjzXq0xC0WM1YXpSX/8wnysuuZglXEK1ecJS2rT/n/fwRCofB1N6jYLu4UyRoaeiJJQe4z7DAJehE59x07XPmmQ1+1gG3jG5cN28gGYK2Ee+clN2GWwb3WFAbQQNyLPXg1pOidUIJOgHkZbFFXsB4L6Mb3279yosn4S5B2+dtSLh7DvuJCBphopdxXFxaQuv7mMFeX//XuP52TVvJa23v/8M0Rn651gwS+/W6e731qJWgG1RqIWiIWeM7wh8uATGjQYX9C2eqafmcg3Rge77388N6ju1fritBB6E+CDoRpEEcL55bRvf9C7quvggakPfUvp+GIOigNBStE0rQGYB4ii8ZRPVulKBNgBkMJE7OUASLVgAhqiyL0OaVx+jv1eeoEh97yIHiJyZqKH/0cUKEoGPFIRaXcFRSk7j1aOpbPt5Rhm9xZ5sPlxTnExXmElUUE82YtJEunSQKVeLXxZKe5neX96k+CRoIOueSsNsojUdo8RCUB2CHC1nGOy+oT4IGbK+aez/usSAVgk5HFyhaHpSgMwDpvJSJCdosVAJyDld7VB2p5KlWF46G6fef/6aCS0bhs9LPMyRd7n2NCl+PUoJuYIlbj6a+0eeMRlNuVoS3GBh28WyE3dtZ54hm/LiewsXym1dQOFJhWdHcNAskaPHGyNYmDCGheF4b+zrAJmj7WmwR7hJ2vHTtMgXBvlaO3bK4qA+ClsaA5BPPi+Ye25DrcT4RQcu+nZ9df4rWBSXoDICrxFJBMgRtxCjrUFWpCSgn+nPhEdr05zE6e7KSRwGXFBBlXwwxUcsnI5WgG1ji1qOpbx64h8995hNVh4gHhuVeMh/K+O3XdbT771yiyihByxKvviUdh6BbCzJJD9gWtK4kpkgGStDNHIkJOuK7tsPQ7h5phyrD7A2NlBAt/GMrrVtxiA7vKaKCLKLyQvMZwwK4vGFRx5NcT9xwldSklnrENDj5XS6dMfvHD5TR1B9X0aHdhcarHYKLGzvmIByuokjE/N6+izsG7nHLRSbpASVoRapQgm518JQzNhjwW060569smj5xLX07cj6NHz6fvhwym8YOnE1fD11A4wbNjSNzMkK+HjqfRg/4nb4aMo+3Xw6eSyP7zaQJwxfRmM//4H3EGdV/Fp9DHByP/2Ih36ObXmPL2MEicwNkDo0ZNJu+Gjafvho2l8YMnklfffE7zZ32N53YV2Es55h5z6ZRpogik/SAErQiVShBt2ZAl8Pogme01NuWEFXlEYVyiCKFRNX5RGG4V+1tQeZsqYCoMtcrf7EJx7b8ItHg3j/R2vkHqSwLk8GJqouIwrlmi3ihDLgfSKjQ28qxtcW9VWKQdpG5ByZl/GbY1hy0rXCQSXpACVqRKpSgWzN40ZKq6DKRQtie25TDZV+OM3ELQTlxLNsQ0Sfvf04LZi33yaxaumhxXqzPoPQacwsRb0ai81XRD51QpJooFPbc2opEyCQ9oAStSBVK0K0atgkNBrDMsmqicBVYzerXtkUY3Q1vZKm2ywjiqsYAt1KicIT69+1Ha1au8s9XVVQGX9fUIvUIxNvy74K+5VKKVMOUhtgjthVByCQ9oAStSBVK0CnAnRqRCjC9It4UjHRGcaeHCFWFyigcKfeJubo67P8WQDW4A4TmS7UniGficr148Rp7Gwl5Za0mKimBH1sKTjRq1BhasWwlhWQFNS+8qiocvS5Ouo2zNXWJYVx8L6jfSOwWa2tja4puBvlhZHakuoJ/O05IERcNoQfqCiVoRapQgk4B6RC0PVfURaJzqcCdg5pMeWX6lYz2xX8zZ7qmoRcr0dHByeTTkAiHPQazgDWpe/f+lJYsWRZzPgLi8zjNe+SaFDXrNViYrEHkVt3XHJ2tcNEQeqCuUIJWpAol6BTQUERUXwSdaKGEeAhFqqgqXOlPx7IJoRKWpmfZCUEYCUfFW1o0Jl4jCspaURnidcaxL1vIl199Q8uWm6VQ5ZxcAwmFq2uk1+gSQ7c1yxPyLGgpczhCVBUO+YvPKBKjIfRAXaEErUgVStAJkMgidc/ZxGiviCTXuCTsphvvnKyaBMSLL3Dj24iXpqQ3vbtZg1uIWtzuch5hEke2hlJqrnyE9cEB84s27BYfh8CW3cVeOEpVVVVFn/Xtw8+SHQ7wPVrxm3JrROjZDosVm6RtUSRGfeiB+oIStCJVKEEnAMgm3nG8c/ZavTZsgsZ5d4nAROeC9uNByNJNwz2OwvRrQvAhDQjC5KMacv7o4mXesRmsZA/3jsbDd4ZXxBw3mvAQZ7OPvnFsx4wZRSuWL409b8VrejH1HhX7XBAkvLZ4tUOeCXle3OfMbpxJGCSoQWqHS/xEDdigPGtrfNYV9aEH6gtK0IpUoQSdALYCcY9F+YjIOSiXICvWJehE59x07XOusgtCkHKNlyaUPMgYVrGIHSZEED2uSSomnyhpuMeNJdWREEXCVRQOVfJ2QP++tGwpnqVMI2ZXXHKGNCzkmbCP3WdQ4D7TdiNUnikX7jMux/EasEFh9YH60AP1BSVoRapQgk4AV2nYx+45gavMBC4JJ3vOhW311AaJkyiur5irrbI7+0HHtnD6CY4bUsIw4uUYvGadGzhgCC1ZtJzDmZ8Drm92YnM4jusI/EZ2Q08adUHn3GMJi3dOwt1GoXvOjR8vrXRQH3qgvqAErUgVStAJ4BKbq2TiIeicS8JRCzb2OFklFZSHi9qUKMBxPOWfiKAhdtxE4e5xg4pNyrKPkdohor6fDaCli1fEElpzlwYkaCFN95x7LGHxztnn40EaBPZ7kErjM1nUhx6oLyhBK1KFEnQCSMtftrbiEGUSz0Kwr5O0RBnZ14qScgk7Xrp2mVxIviLJpmmLpGsrbDduUBpuvKYEBo5FIhEaNGgQLV++nMPk+ZJta4f7DNnPC/Zd8nZ/Uzl2nxO5zo0fBHkPXASF1RX1oQfqC0rQilShBN3qIfNpk9ka1KQ426xrfJFFU9zwUaNG0HIZJGbFdeM1b6kb7IZWUIPLtYoRFhTXPSdkHa8BK2QvYTah2+WpL2SSHlCCVqQKJehWDtS6dM+mus0kQfMB84J5ilU4xNK3fz9aunyZf969JrPFnxmdcApWXRFEwi0RmaQHlKAVqUIJupUDte4Sb7LbTBBZ9UwI2j7Xp19fWrRksU9x7rWZLUrQ9YFM0gNK0IpUoQSt8BV9qttMAfqbIS6++OILWrJkSUyY3QfdmvujXTd1S0Um6QElaEWqUIJWNHuAnO1BYBgkBgwcOFAJupUjk/SAErQiVShBK5o9XOtZRnH369evxrOkpNy6kEl6QAlakSqUoBXNHi7pynH//v1rPEtuXEXLRibpASVoRapQgk4R7rzP+kCiNN050orkMWDAgBrPkhJ060JD6YG6QAlakSqUoFNEIjKtKxKlifD6IujGGhjUlI0Km4DVxa1oKD1QFyhBK1KFEnSKSESmdUWiNJsrQce7n4YCnh8RQZ8+5nOTct7eKloHGkoP1AVK0IpUoQSdALKyEURIUsjHXvnIhsR3z7mkZR+75+zr7bxtuPnYc1qDymeHBc1/dfO0yxOUnlzj1ou9nrKdRkMiHunaz5ISdOtEfeiB+oIStCJVZAxBy0hc9BsuW7bMPZ0y6uPFtMlIACKyw0FCQlJBRBmPhOMRtJuGTYKJIGWKt74xEC8cCMo3aN89ln07zL3XxoJY0PIsDR06lJYuxVKfSsytFfWhB+oD8kxihsH+/fvp+eefp1AInxlVKOIjYwhaMHjwYFq5sqaFlyrq48UUS9D9cEA8onWJzA5LdF2iNOwGgAuUSxoB8fKx4aZtwz1np4d9ycfOC5DjRHXUGAiaavXpp58qQbdy1IceSAfyXNrP54kTJ+iNN96wYikUwWhygnZdj59//rlvQaejVOvrxbRdtoBLPonI1Q5LdF2iNOIRtJCmfQy4+dhw07bhnksmPUAIOt69NSbcZwlfs1KCbt2oLz2QLuT5Q8Nx37599NRTT1FVFT5mrlDER8YQNNw9eHgxsGfRokVpK9T6fjHjEZZLrjaZxiNhiRt0zk3DPbbD4x275wTxwgH3XDLp2e50O457rw0J+zkR97asJDZ8+HAl6FaO+tYDdYXdeDxw4AA98cQT/nOqUMRDkxO0QJZrzKRBYkKi8cg06Ni+xiU2+1w88rY/0yfxggjazsPNS44ljh2OsCDyDCqrwK4DOy9sxbUdL6+gAWkNAdfFjWM09pSgWzfqQw+kA9erAxw+fJgJWqGoDU1O0K7ixOpPWD/ZDU8VTf1iKhoXeF7cZwbdJUrQrRuZpAekEQkL+sEHH9RBYopa0eQELW4eUaCyPKP9AYS6IJNeTEXDIZGLe8SIEUrQrRxNrQfc5xM4evQoPfLII1YshSIYTU7QAnl4M8nFrWg+cBt02MdKYkrQrRuZpAek4QgX9wMPPKDPpKJWKEErWhzEilaCVmSSHpBnEAuVqAWtSAZK0IpmDbGcgwhYp1kpMkkPKEErUoUStKLFAaQNwap0StCtG5mkB5SgFalCCVrRrIHFHuDOhrgkrIPEFJmkB5SgFalCCVrRooDnCGQNC1qnWSkySQ8oQStShRK0ollDLGcRG8OGDauXZWMVzReZpAeUoBWpQgla0aLgWtDxCNo9VrRMZJIeUIJWpAolaEWzRqL1jPG5SSXo1o1M0gNK0IpUoQStaDGwl07E84S1uLFsrH0O4fZqY4qWjUzSAzZB9+rVyz2tUNSAErSiWUPWNy4pKfGPQcaQ8ePHJ/y2eHl5uRukaGHIJD2gBK1IFUrQihYD1yru3bs3LV++nPcrKip84gb0W7ytA5mkB5SgFalCCVrRrCEWtCxOgjWOr7zySmrXrh117NiR2rZty8edO3em559/nuNWVlbyFqStaNnIJD2gBK1IFUrQimYPsZxB0F999RV16tSJ2rRpw3L11VdThw4dqGfPnrRmzRqOByu6tLTUSUXREpFJekAJWpEqlKAVzRr24C/g1KlTbEWDmGFBg5yx//LLL8e4wF13uKJlIpP0gBK0IlUoQSuaNeS5EVc38PXXXzMxX3755UzOPXr08K1n9D1r/3PrQSbpASVoRapQgg4ElH08cc8rmhp4doSgsQ8r+v777+d+Z1jRL7zwQkxcgVrRmYwE7xh+QpFakJ4eqF8oQStSRcYQtKz+hLmrixYtilGkdUGyL2Z1xIi88GYAEdymVRSpLsNQIqLqSqqOVFIkjEFFiOydD2OaDhJwlIZKo0qosoq3FWXlJixSTePGjKVrOnSkm2+8idatWUvVYfM7hatCfhw3HZXGl+oI3iXnHfLfMREMACSKoD2F84iOfXlvEyBZPdDQsPXZwYMH6fHHH09bxylaPpqcoOUhle3AgQP9qTHpPMBJv5gxikH6NCNUzQQNso5QJFRNEXhFoRDCRGHwNk5BSag0qUS83yGEtpK1zb1UQbff/CA99dirxO0qxMdPGyaqxPiwgLRUmkYi5eT/Rvg9+V3zGlPVPhPXfF+5YV0LktYDjQCZaQAL+oknnlAPjqJWZBxBDxkyhFatWsX7dr9iqkjuxUT60AYVFKmGhhCFYFnVOKwiOnuMaMr3a2nKhHX05ZCFNG7wApZRg+bQqMGzddtE27FD59MXA2bydvSQOTRy4GzeDh/wO40dNo++GbmE440btoBGDvqDhvWbSV+PXEQjPv+D47np6bYRt4Pm0JhBc2jkgN/pp/Fr6cfxf9KKBQco97xpTFVXeVYzQ7xaeE+NhMHsQS5wC8npgYaDTcKi406fPk2vvPKKFUuhCEaTE7RAyHjAgAH++snpILkXE3nKyw6zyrOepesrTAR9sHH1CZo1ZRsd2kGUfZwo5wRR6UWzn3+OKP+8SlNJnlf/JdlE548RFVwgKs8jOnvEhOeejYYXXiTKOWPCsS26VDM9lcaVkotExeeJsk8RnT5EtOvvYpowZqEhac9rZSxl05iOEFaMMxKuLvbe2fhITg80DqDjQNKHDx+mp556Ki0PoaJ1IGMI2h4k1ph90PZCF4xqr9UOV3Y50d/rj9OSuTupooAo9xxR4SXi/Twol1yiwiyiwmyVppKSPKKiHKKCLKLKYrOffY6oosgcIw66I/JAzueJygtNnLICc42bnkrjSnEOUc458y6V5hGVF5jjH7+dT+dOlhkPFkia1QHeUbtv2uu/ToBk9UBDw/YG7t+/nz+WYa8dr1AEockJ2iXifv36NSpB18gGBO31VV44XUEzpqyk0nyjTKDcS/KJ8i4RFeYQlRcRlRSoNKUU5xOVFRGVF5t9hGG/KI8o52Il758+nk9VZaZ/GnEghbnVfM5NT6VxpTiPKFRm3qv8LKKyQvNeXToboqmTF/tjDLjP2X9XTV9uMkhWDzQkZACsQPqgFYrakHEE3b9/f55m5YanitReTPFpe6NJsaki+vefY7Ri8VZWIvnZYSaCksIw5VwqYLdb1qVCKs6PUHF+tUoTSkFOiApzw1RRQpSXVckCxV6UF6HSQkPgIAMMHMMxwuU6Ny2VxpWivDDl55RTaVGECnKqKPdSFVXA85FDNOnbOZR9vsq3ojFYUxAKV9c2gJuRmh5oONhjbfbu3UsPP/ywv+SsQhEPTU7QAmllNvY86OgoUXR4eS4z/FUSrV72L+3YcooJuiAnQhWlRPk5xVRaXEY5OXlUVgoFrwTdlALyBdGyNZZf7VtmIGlYyPnZVbwFgYOgYUnb8VWaVkDQZcXVTNLlJaYxlXMhwl0QyxfuoEN7cinizW6sLI8uMNNcCNo2NGQffdBPPvlk2kaIouWjyQnaXmACgIu7sS1oQ9J4+c18WuHrRb//Tf9uPE+lOcYVxwqlIETFRVW8LSoQco66TlVUVJKXImy9rgp0S5TjOIuoNJto4cx/ac8/2dG2M6sEDLQK2zMjEyIVPdBQcN3xcHHDgk5XxylaPpqcoAUywhEEvWTJEvd0ykjlxTTviTfoRAi6kmjRrO3074ZsVhbFuZ4SASkXhnlbVKDkrKKSjiQk6N920p5/csyaA82UoG0SFqI+evQoPfbYY1YshSIYGUPQtou7UQlaFjyQN14GioKgZ+6ifzfkGoIWC7qwki3owsIQFRZUs4JRUVGpo6CRW1hNxQWVVJRfwaO4i7MDLGhvoJisVdAcCVpGbR85coRHcSsUtaHJCdoePAE0uos7iKChDAIJOsIEXVRcQYWFEUPQKioqaYjxSBUXllFRQSmVF0aoOKeau5UWztxGe7ZcihI0t5wrKEKVzY6gsRULGkt9qotbkQyanKBdCEGni6RfTJ6+gRcFI1HKiKpDvot78UzLxW0TNCzogmoqLIAFEDJhKioqqQmP4xALupyK8suovDDEBF2WjQbyP7RnyznPvQ2GxgIlhRShIqqGJe2+ywFIWg80EISE7RXFDhw4QI8++qgVS6EIRsYQNB5kCD6WsXDhwrRbl0m/mD5BY4FtKICKKEHP2kb/brzkEzT3O0OxFIUpv5AonwkafdFQNCoqKqlJhN3c3AeNY7i4YUFnk0fQW2nPlguBBB2mkDGqa0HSeqCBYS9KgmlW6IPWtbgVtaHJCdptYWKpz6VLl8acqwuSfjH9RfeN+8y1oHdssAka1nI5W9A+Qbt9aioqKklLoT9gzEy5kj7osiyiRb/tpL1/51gubm/dfKryv7VRG5LWAw0M0WUgaqwk9vzzz+t3yRW1oskJ2p1mNXz4cFqzZg3vp9PCTPrF9AnaGx2GA8uCtgmaW/meBQ33Nru4A5SOiopKciIEzcd5keggsSyM4t4dS9CsIiL8rTmoi2Ta70nrgQaCa2SAoE+cOEHvvfdeTLhCEYQmJ2iBPMiNvVAJEPMSYRcEjXnQ7OK+YOZBsyLxplZhNaoAZRMkhXnkLXASoYLcaiqB5e0teuLGravkY21pLMaBFc+sfRG4EHMuVXE48sY1KAfOuWm5ImVGGthHWF522A9z46cqtaUv4VjEAtvC/AiVFJnRv9jH/ci9SHykgbDcLLhNa+aZUJxBTPit83NDnH5pkak/2Ud87Lvlh7jHdRWkj3vHvaBe8NxgH3niPMph7jXi/+74rSvLkrx/d9CWez6epBo/gchvht8TK71hFTGQ9PyZu42LW8xl7zVNhpgFqeiBhoboGcyD7tWrl3taoaiBVk7QYGIzr9KHTdC/b6lJ0JZCqaHcAqS8lCgnq4IVfbiK6NKFUl/pu3HrIlDQednVPtlCWZuwsCE0T8Ejz4K8MFWUGUWI/IXoEgnilWJta+QFAsiPcBpIy41bFwHhCdlhKw0aST83G4OJDBkbCVNBnum/RHkQr6yE+F5Qz0LgdrkTihBFTDgaYkZMWlVUVUGUl2OIT0iZGxIoc36E85bruZ4sEk8obnkc4caBd09yv/L84HeQ31HKA5LG7419lNVNr6ZE71Xm9rO45axRXid+GiIN3iCC3rXtTHRmBd5N33KW+ZCJkZweaBwoQStShRJ0AxM0lA4UEBT8xfMlTNKiYFkxBVyTitgWoxAyjqHI0TjAFiKkLPsYOQuyc9NzpbLcKM7sS+V+ebHFMe7JjZ+q1J5+hLdCyrgnbIWoQVpCUkJeIGwQezINkGDygRgCcvNDmkgb5QtVmrLjHnCNkCiI3G/AuATnilseR+z7giBvHCMPiJA3ziFvaZyIuOnVlCQJOu51bnjqogStUARDCbqBCVosObGwRHELebrxUxVYoLCaxH0NkobCg7KTOCAsbEEkhrDROKimvBxjnSYSIQcpr1irOAeCcOOnKrWln5sN7wPqEYRUaZ1Hg8Pkj4aPWPY4lkZRUvUbl4gMAeVklfskDUHeODbWvMkHv638xlInKIsQT0JxyxMgyAf3gmcJjRWki4Ye7j/7Upnn0QhxWdma9upPfvfEogTdWFCCVqQKJegGJmgoc7FcsS9uSgmrqSBTEyE4yU8UNCw+KGyJh32EGRIz7tG8nOj5eAJyFMsRApKEIC0hynSktvRNeeHOBlGBpMspJwvdBGHfwsbPhzRA5rgOgsaIIfCaeUYlERGZOPjNUB5pIJjfs8oPl7JjK78vzmddLKtjAya2jEgLaUJAxpLfhXNFHIb7RH3I1KWCvEqvrqJdATXuOUF+Nc+7kmr82kUJWqEIhhJ0AxM0rCpYMlA+c2evpMv+cw1t2rCLice4Rl2Fl5qIpSjWJxQziApkgfRBIuPG/EC9HnqOrr7yWrrlpnvps08G055dR9lF66YXJCAEkMGlCyX0z197PWtX+nhrxk9VEqWPexkyaBy1uaoLtW/bldpefS116tiD2rW5jv7z/7ble8N1uFexbnEsJOrmVVPiubmjZcNWfqu/Nu1morTvHWW8+85HaeTwCZwvfgdzvubzULvUrBvkh308M0j37Ol86tSxJ115+TVcHzffeA+9+fpHtGrFJm7EQEqKTKPGTa+2/GqeTxS3tvjJiRK0QhEMJegGJmhb0c6dvYIV655dx1mR2xZuOmL6kiNMDEgzN7uM9y9dKKK33+xN13Tozgr86y8nUe+PPqcunXrS3Xc9RLt3HqmRlitiNcJiG/T5GHrogWc4D7EU3fipCixik34BDfp8FD30wFNsEYJc8nPhOq6mgQNGMjmP//on+uarH1m+Hf8zCwjTDHwLU9bFUp/ExC3u5ldT3N8r9nfLuljMlnr2pRKaOWMBXdflJjp88Axbq7Di0ZBAXaNexoz6PsYjEGzBpibSWJHji+cLua5Azq+/+gF9/93PNGL4l3RjzzuoXdsu9MuUmTwVMCe72PrqmrM4SNqSSnpuvdYUJWiFIhhK0A1M0LCuYKlCyf42fSG1vborbfl7X725iEWQnhn4VcXWHghl0YLVTGyTJk7zCQWW1T9/7abOnbrTG6+/X6uSBdmBpFHW3h8Nojtv7+VbvNIwqLvASkZfM/pOI9x4uPP2h3zrD/eCMvfrM4wbFSBskCHcuEIQIGEph5BiagRZ8zczYs5LOSAzps2jKy7rSOfP5luWarR+TJ9vtMGE36NmfqmJ3B/ENDzCdO5MHv+uX477joqLKig3p4jy88rolpvvZqIGMZeXVXNY/RN0qum59VpTlKAVimA0OUHLQyvb/v3789es5LiuSO7FTJ+g4Vo2RGv2oaSjU5iifawI/2PWUmrX5nr6d9shJpn9e0/Qqy+/x+7a2265ny1IWL9Q/CDY0SMnsEu6Q7vr2bJctmQdky+sup8mzaCnn3yF5s5eRnff2YsJ7PFHX6CD+0/xeeT3zFOv0g09bqPcnBIqLQmbr3AVVLAM/Hw4tW3TmU4cu8jEBxfy99/+4lmFph8TFtoTj73I+30+HcKkgLJcfWVn3j904DTng3u4565H6MP3+9H1191CN3S/g95/tw+dPpnNShwEjPgTv/uVy4Y8kOcbr31o0i8Jx00fZD108Fi66opOvI+ySUMD+6irCd9M5jqURgi2f23aSR3bd2O3L8LeeuNjGj7sK/py7ETq2eNO6n79bfTRB/3pzKk8v48XRDvrt8X02CMvUvu23ejmG+/jcuE+YD0jj/btrmW5/LJ2NGvmfDqw7ySHQ8aM+pbzRplOHr/keyuQ1ysvvUvbt+73PQNTJs+iJx9/iRYtWEO33fIgdb32VnrumTdp356T/MygXpcv3ci/u/z+06fO5WvPnMqhazpeT2PHTKCC/FKqKI9Qfl4J9f64L3Vofx1dOJ9HY0aPpztuv586XdONet5wO3017geuB2kMDeg3nG69+T5ateIvuueux7jhiP39e0/Ryy++x+XGMwnvBa7BtSjTzz/N5OcNvzN+c3g1YNWjzKdO5FDH9j3oh++n07tv96Ebb7iHPv5woPceGAKW8RIyyK41ELSty7CPj2VgLe50dZyi5SNjCFpWFGvcr1mlT9D2AC0ZNWwUkbGexd0K9+vMGYuoS6ebaOP6Hayon3riZep67c1MvCAZKHEoTyh5KFCQFEj6z1V/0WuvvE//+/+0YeJBHBA0SAukvGnDvxznjtseZKWPtEHwIKj33/uUCvLLmZTzckt5v6KcmFxA0MgbRIe+TLiOcS1IFCQDAkX6KM+O7QfppRfeZqW8fu1W+nvzLs4DhPHeO5+xGx0Ev/WfvUw+aFg89sjz3OCAIH1Y8sgLblsoezQAHn/sOXbJJkofDZdrO99Ix49eYLKEax5WrJAxiBf1KAPfcM2/2w5wniBoxEHjAcSP7bYt+5hw0ZeN+kVXACzV77+dSm2uuo7eeuMTmj93FU34ZgqXCXmdPZ1LXwz9kq6+6hpatnQNbd2ym06dvMj3Nm/Ock5r3Jjv+bcBYeG3QEMFVjfO33XHw9wwQFoo39RfZtPl/+1Ajz/6Ej8Pf676h2656X565OHnuW5OHMui66+7jetwzh9Laezo72jwwNF8z6dOZFGbqzvRDxN/ocKCMsq6lM9E/cLzr1KP7rfy7/zQg0/Q8C/G0aQffqUB/YfRZf9pz88M6h9l/Lz/CCZhkDPyXrJoHef77NNvcLnRGPjxh+n0wnNvcjiuGTViPP8OqLPfZy7i5wXH8HDAwj93poA6tOvO5cbYAKSLMQXmd6nypxai8RptxLYuggZgQev3oBXJIKMIGvtwcS9atKjGQ50qknsx0ydoe8qNjM5GGJSSjPgFQUPBwdqFpQqSBRGCxF55+W3KziqikuIQuyQhB/YfZ/KECxPklXWpkM/feccD9NKLbzLZTvn5N44D4gBJQOn/OuUPJm1Yb1Di6KccNnQMuzuhtJFWVSVxHmv+3Mx9lrN/X8JECIJDn64oYxABCBqNCJAeyvvxhwPo3rsf9UlWXM5oWIDIMfUHZIjyQIHDqly9cjO7ZKHI0QjBOaQFUgRBP/Xki1w2WNEff9SvRvooC4gJ9QaCxRYNj//+bzvuq0Y8ECPSx32ISxoEjwYOCBrhsKAfefhZTg/HuD9Y/rBM0WA5cugslxdkI40kiLiwkSZIHfmjflGXaOygrPitQdBoKOAYdYrfAb8z4uH3PXniAncrjBv7LV8H4kSjBqSGhhyszMk/zqJrOtzAYfv2HOf7RZ2hrPjNUU5cCwsZv/1nnw6kw4dO0aaN27ghhrDBg0b6Lm54TvDcQJ595hV6+qmXOB3U9cgRXzFpb/1nvzcX3bjRb7zhLnr+2Tf4fvGclJVGOD3kc921PWn+vGWcNu4Laf3y8+9M9HjeYNmjflCv0giT8QFCzNKAxXtiugRaF0FjHwStX7NSJIOMImhA+qCbC0HLdClYyobcTDhGEss0HBloBYKGuxLWHUgPLlG4Kvv3G0oXL+SzAoYyBfmCPLdv28vKEIoQxNq3z2Dqet2NHAcKvmOHrmyRgVCQ9/y5K1hB7t19jAkHpDVo4AgmeOmTRFq4ft7cpdSlcw+28EAqUNbfTZjCBAfig9KGogXxCmGB5EBoiIP8WIl7FnSvh55h8hXShLIGkcLaQnw0FkA2ZrS1KS9b6I89x+WBwn/rzQ9rpA9yggUNAly88E9asWwDk664+5H/iC++5rxk9DLKijoGwa1cvpHHAKDscM2aueCmDxskdX3Xm5hAUR+wSjeu384eBEPOpl8bBIqBYj98P5VJnOvcIz6x4pE/GgogJOTVo9vtZvpTYSUTIogVA/NefeUdvu7XX2axNY4uBpQJjThYsf/5f9vTzn+PcDrPPv0aD0qD5Quyla6Kc2dz+PnA73fF5e3pyis6cGPk008+53tBXieOn2eyvuvOB/mZufWWe+i2W+/1vSl45uCmxvNpnmHTGME94B5hfZ85ncXPDJ4deFxQXqSF7bVdbuDnD+SM3xaufjRc8Dvhd5aR7rgvvAu4HzMuwMw4ACmL96m1EDS20HP43OQjjzzi6zyFIh4yhqBl29z6oMVVJ9OdsG8sBLM8pLESjDU27dc5rFj/2vwvWyZQuCBj9BPDusKIXISJ8oaChHUJhQrF+t23k1khX7pYQBO/n8Jpmf4/KLwwLVm0hhUmXMAgGbh4YaWC8IQEkRYU7vRpszmP9ev+YaWPfaQvZIJ8MYjssUef5WtQXli4cJ3iWMge1tU7b3/M1hlGDuNbIziH/K66siMNGTyK90F+uD+kDRLBta+/9h67cEGsqCdY6CBoIX4zECtMn/cfxa5TmdokZIIGAeoV5QZZSNmR/7/b93HYurV/c36wMB995BnOt7KCuKxDh4ymrtfdwAOtfpz0C7Vr24ktRTSGQOJoRAk5Y+T6Lz/PZgKCR0DmYougMQRyQ72BhO+/71GuZ9w7flP0Ez/x+LP01JPPU1lpiMZ/M5HrHL+T3M/SxeuZ6NG4wP3DnY+xAriP22+7j+8Ffc3nz2XTlVe0498Dv/mGddu4L93Maw8xUWLqFboLYPH+/dcOeuH517mBUFpSxYPKRo4YRzffdJfn4THPqZnaVs0Ee9ONd3K+qJe83GIub6drutKK5eto/75j7OXZs/sw7dxxgPbtPcr3DZc/Gnpo9KFxg98v9vfC+IGo50lWOmstBC37akErkkXGELQAn5sEQaeL5F7M9AkaInNeZblKCCwGKHW4U8VljH49DOKBIgNBwGKGYoPLEsoWVsnGDVtpzuzFTG4gGZAO4oFcP+k9gC0+WNsgWAxWAllAuUI5L128li1ouHehaF9+8R22kkDi4kIH+cACg7WK69EIAOGjXCA6ITDI88+9xi5oXAcifu/dT3jgkVj1IG0Q4ptvfMBEjnhCkEePnGEFD0sf94e8fpw0le9H3LWvvfouu9BBRqgfWOLouzXdBoa0YYFhehcIWgbeoV5RvyAXXIuuADQAcI/IH3nA+4A6XLliPdcxGgOw1pE3PApoSAz/Ygzd2PNWKi4qp8k/TaU2V3fkvmVufOSbedSm8WUWgJn6y1x2raPOxbrHbwsyh9WJPmrcFxoluHdpqICgKyuq6Z67H6Tnnn2ZCXLWzLnskoarX6aEYVAYLGEQNH4/zr84xIT44AOPU7frb6ac7EI6eeIcde50PU0Y/6PnMTBzsc3qYhU8cAueGnhRUAY80x+8/xlb0/hcaklxJX0+YCinZ4jZjDpHGjhG3nhGPvqwL3XscC39tXkbTZ/2O3Vo34XrE8+i7T5HfSMf/M5oYOA5l8aTjD4Xt7YQM8JkzEZLJ2jXUj5y5Ag98cQTMWEKRRAyhqBdCzpdJPdipk/Q4rKD4hFLBAoIg8KmTP6DLRyxCIcNGcduyfPnclnJgRhhvUFh7t93hK6+qgNN+Xk6HT50gq2577/7ic9DKcOKufWWu+jpp15gK2ji95NZwZsGgHHDrlm9hRU8RgtDOc76bSG7eUcO/8ZXmFCm6H8GYX74QR8mXoTBmoJLVFypIDqQLkhN+jPRQEA8EJ4QD86B7GGd4p6EJMd/M4lJ85+/d3Ie6L/EYCXpvwRJ9nr4KXaho+5Qvk8+HsiWnxlpbO4JCn7ggNHcNysLsJgR12aKEwgKg6WQPggCeUGWLvmT81+9aiM3NkDQTzz+PBNJOERsVQ8bOoq6XteDCguL6fCh41z/sFjZy+D1gSNP6SOeN2clz2PfvvWg704X7wZcvzJmYOZv85igce+wePF7bd60la7peB1bopcu5tGkH6bw74c5zbAwkR8saHg9QNAgfTSs0AhCWefMXsgNiN27DtCJ42fZgkZ+ZkqXWTkMgrT69x3Bg9JQfmlc4TeCpwbWOwaUDfx8GDe20P0io9hxn7gnXIe6REPgv/+5in6bMZv27jnEeb77zkf8TEqXCeJJtwnc6nje0FePNED0SF9GceP3kt9ORnC3BoJ2jRAlaEWyaHKCFrh90OkiuRczfYKGYsVqYVA+4rIzxEFs+XW+5kbua4bShHX7ae9BvuUFC7L3x/25fw/Wiri/xVoG6YDo5s5ZwoN8QKqwsKEQJ/803bOgC9gCg8ACM9O4DnhKMUyvv/oRk/Ybr33MI4FhpcLKuf3WB9gVCuUNRQsLC/nBQtryzy5W6OgfB0mDgBAP/bSwStF/OWP6HHZ3oiy4DxDU6FHf8L2AiEGOCBdXeJ/PBlH3brfwvWzbuofzg5UHF7eZOlXNo52vuqIL19WMaQtoxbJNTDhfDP2aR1eLJRZV7NiG6NDBk+xaRR/slr/3cBnQBwyvAAapoSHx7tuf0n33PmIGkRWAdMt4KlKP7jdTbo5pAIGwQZpY3OW36fN5VDpWCDt88ByTH7Yox4vPv8NWIgTpiQWNUc2wiFEmDHZDHaOe4O245+6HuY7gPUGDAY0K/C5YAMb0t4dp8cK1PL0Lvx/IEnPC0ahDI+/ee3rx9SBreD3w2yA/41WITuVDOpi6hWcNU8rWrP6b6x55wUODwWogU4xNwPQvuV4s3Vdeep+nny1csIK7OJDP2jV/cSMODTg0POAxwXQrTJvDVCzMq8ezhsYiBsdhsKIZGCYf+zCjt2UQpfFKtB4L2nVxY5oV+qBd4lYoXDQ5QQsxy8Pap08fWrhwYdoPb3IvZvoEbYs98AVWAtZj/uC9ATzt5Ibud9OH7w/w593CssA0Hiz8gf5LDGCCYoOyl1HOUM6wKDHaF3OesfCI9O1hyhKU+fmzhb7bcMmi9XRNh560bcsBLgeUJD5v+dW4H+meux5nK7RHtztp2JCv6OD+M/5ALBAKRoNjUBhGc99/7+Pcn4rBTnBBy9QcWEUYqYx+boz2xbQbhCMeyvni82+xS71b11t5YJcs6JE4/Vf9Pkq4eYcPG09dOt1MN95wL40a8R3fx4B+ozhMyNkofaPczUIeVbxKG9zj13W5hUeVg+BBmsuWbOBBWJg6hf5tQw7G2kT9ojzSYALBgHTuuuMRbujgt0H/99HDFzyXLLwSi+mG7ndxPT7/7Fv+b4n5v6hnY9FGuH7feesznt+MqXVvvt6bdmw/7LvMJ343jd32588WeetpV/Dv17H9DRwP4X0+HUY39byXG3lPPPYyT1nC/Z4+mcv5fTl2kr+kqbjJ4frHoKzvJvzKddH9+ju4b3/3zmP04P1PciMN9YW55ZinLAMcUS6U4bsJU3nqFe7/vnueYLe+lBn3hjnOd9z2MHsSMC0MjVDMf8Z5TA1DAwbz/fHcSddPbdKSCVoGhtmABY1pVunqOEXLR5MTtOvibm7TrCAyzcomaelzE6sBYbJeNBQhRhabQTPG+oHyg6KV9bMjISxIUsrxMSIW52UgD8IwcMlYKYaszGA00w9uVi4zBGb6wiv8OOKSF2vUpF/i5y1EJaOhQc64DoOipN8VDQick/5KzNHGiGO4piU+rpdFMeKnb6ammfTNt5xxP6LYES73JQPwxEthGhfR1cOwRb1J3zS2SB/7QqIQ1JtMfUMa4uKVr1YJERnL0gxwkvEEiIffRVb3QhyUwfSZm2fAnt8rZTdf5TIj+fH7iEs5Wn5TBxIGQTwmLK8uEEeeMXnmcC/mvCknBPtIUyTqYjZz8dFPLfGMRL/zjfJJWeTZRbnlU6mIZ6ZNRX83e6AXRD7ziXPSWK1NWjJBB+Hw4cM8SMwlboXCRZMTtKC59kGLEhLFimNRjqK0sA9rGlubLI3CjX4sAsrUDHyKfjlJCEjiSV8jBKQhX0wSZYp0ZBAO8pbGgZRTCAHXSdkQV76UJGRn+iMNqcINC8WOPCUe9lFO7MNSfOC+pzyFbcJACFL+2tMv9tI3xCRkhLILGSAerEo0PkASqE9zzqSHvEFAqCfkizLjGsSVKT84RhzjcTAkK2HYCmlJ/WJf7knI3l4/XUhaujjkXlEulFM+MSr1IL8Dzkv9Q3DP0kgxv7F8hzpKnhKOcuJ3NvdbFtPAkzLgWJ4lIXCZj4y6MGUBOUafWXl+ZKQ1rpN6ld9BGhfYRzz5bWIbS6bRmMqXvFo6QdtGCEgZo7jh4g6HLb2jUAQgYwhaWpMYxb106VLeT8eKTu7FTJ+gRfG6CsdWxmIFIa5YW9g35ClpGIWJffNxBvMFI7GAEC4kIWFQupI3FCNuQwgO50SJ4looTCEAUbJGkUYHCdkKPWohGrJCPLkW9yDxUG64b/GxCChqo6yNhS5Wa+L0DUnIoK/Y9GPrV76FjHvEvYm1bNcdtiAxXC+NAiFZlAVx7TKhoSBeCyF4Y/lG07Pn9KLcYrmaxoiskR37DAjRyf3ht0b9S9kknvGERO8f6UHEEpcGFuLKLAHjxi7la6WBIi5uuV/xBmBf6sGQvlj85neVPKXuTZ0aQpZyotxoQCFv21sgdSjlwjkhZuOpMNZ1bdLSCdruxoPAxf3444+70RSKGlCCTpOghYhdpQMRRSYCRQcFKAoRccQ6gwKFsrMtNCE8hItChRJEGOLjWrFeRKnaIudQvmh+8h3q6NrhYvWgfIa0DVlIXLh1xRoUdy3OSfrY4ryZL1zhlwVp1Uf6iINwiS+NERyD8KQBIZbxxfPFfneCkDC2NkmJ5SkEh+vFS4B9bIMID+dAeFL3KIMQtNw36gFeAVjRQtK4Xupd6gHhIDeESX0gTewLcSJMfnN5pnC91I00drCVRoQ0jOScNArkfhBm0os+K8hPfgN5PlHnco8QHMvvIeWT+xbiNh4Lc0/x3gtXWjpBuzh27Bg99dRTbrBCUQMZQ9DN1cUtCs5VOiJCghBRZiAghEOpifUDEjHkbaxqIWshcChVnBPyFusHyhBbISTkKZYM8hMlj/REiQpxYl+ULo5NQ8CQiVjgopyF7IQ87PsWBS/3iuvF+ko3fQkzBBlNUyxUWL1CQmLli6DubFc66g3HqF+xhtE4EAvTbihJGtJQwm8h+YjFbuKbe5a+V9MgMC5onJNjeRbkHqQv1/Rvm/533CP24boWQjf3gWl7xjUt6ZrGiGmgoBzSqJCyifWMfZRd+t7lmUMXgNQzyigWL47lniRvaUzIMyN1L7+buN3xu0Dk3uT5qE1aOkG7hoZa0Ipk0eQE3dwHiSWjhKDwhKigjKDAJBxbKDlR3ognil1E4sr1hjiMNQyrD9eIUpd+QlGsCLOvl/JiG1Xw0YYEwpAGtuJSthUy4kqZIMjbkJaJJ3ljUFGUGOuePsKkkSHkYVy7pr6ETLEVy1LywfXSMEB5hNiEcBAuXQJmkQ+TB9ITt63kgThSh1K3CLfzsn8bqRucgyCcici7J0lHXPVIWwgTW9nHeZTZeArMNaYLxDTMcM9SzyiL5CFxsS9poTxSX3YDQIgVcez6kevt30HSFwJHGMqC61CHUia3LhIJp9lCCVr6nQFsITLNSvugFbWhyQm6uU+zEiVuK0YhQVFSQgxyzlborkIWBSoWsFwjeQhJyDWIh62xlqINBlHAolQlHOlLGYR4RFGK9WPni3gy4lzKh7hiMUpZEE+sYlxvNyzSSR/x5R6FPNAYASFJXUCEfGTfJgekhd9UyoB4UpeSH8KlvJKP3B/KaFuUUvfYx3WIL3lKunY6brnk/qUcEPntxBrHVsoq10maOMa+lAnXSZ5IR9KTY9kivsST9OQ+pVxSDmzttMVilzCIlF3CUC5ppEFsgk8knG8LJWjA1WU6iluRLJqcoO2HFw8sXNwLFiyIiVMXJPdiokWLl1waCRZBVxIt/mMrbd9w3ifoIhBCnkfO+clbCBkt3r00mbjlUWlVImRfImSPsByi0lyLoEHOeCeriSJ+WzpCkepK+2UORHJ6oGERCpmGhFjMx48fpwcffNCJpVDURJMTNB5aIWmboG3XUF2Q3Isp1nMAQVcZgt6x6SKV5UJxBFvQzV5cwmxsccuj0qrEt9w9CxqN4IJsopIcorkzdtLu7WejBB0hXkPdf3fxktaC5PRAw0L0mBA0+qBB0OnoN0XrQJMTNB5S24oeNGiQv9Sn6xpKBcm9mN5bn4Cg4eIGQYuLG+SM1r6vUAKUjoqKSnLie6G8xhos6KJcorI8Y0Hv3XE+LkE3Vxf3iRMndC1uRVJocoJ2MWTIEH+aVTpI7sVMQNAV0T7okmyiwtxqbt1DkQhBu8pGRUUlNfH7s9HwxWA/vFu5URd3DEGj/9kjaHi+moMF7ZIzcObMGXruuefcYIWiBjKCoPEQi8CCxihuCa8rknsxYwmaIQRdTrRw1j++i7sIfc9eH7S4uGVQjYqKSnoifdB4x/IuRXiQmLi4q2WYiEfQ8AybrqnmYUHbgMfw9OnTOkhMkRQygqBl+gHk888/5z5o1/WdKpJ7MeMQNN79CqKlc7bTzs2XqCLftOzZ/Wb1nypBq6ikJzISnBu9CPP6oMvziRb9sS+QoJvbKG6B6DRY0Pfee69Os1LUiowgaBsDBw6k+fPnp926TO7FTEDQVUSrF+2hrevO8ihuEDS739D3nGdECVpFJT3BO8RubnioMA0QDeF8Q9ALZu2hQ3uzzetpubmj727mE7R4BgEh5EuXLtFtt93mxFQoaiIjCXrevHlpty6TfzGj5Mz9WxZBb1hxgDatOkKFF4mK88xIbvSPsTLBwLGWNJpbRaUJBO8Uxnfw3Od8ojIMGsslyr9INPXHNXTySKFP0OzVtpxqMesXxEHyeqDhIAQt062ysrLohhtucGIpFDWRUQSNBxgEPXv27EYjaN+LXk0Uxvvj9UFDUZw8kk9L5v9NxRhV6klxFlH+JaJyj6RZuH+6eYqZ323uNy8r5IeJ4sS+eA8kXLbsUQhIszEF5RApyDELXSBcyot9bPOzwxxWgdW2vHAz8K9mmq1J3HriRqh3To5RdxIX+whH3eGZYUL14orI9XIukVTi98oy06owcrsCz1e2ecdm/LKcwhVEkSqr8Rx9Xe3DuEhWDzQGxCuYnZ1NN910k3taoaiBJidot595+PDhjbhQSdTt5EMGiUWIQuVE8/9YS1s2HeV+6BAUUg5RFZTIJeLR3SBvWNfNVco8l2J+FlEF1uvGvFQoT+++eE5qPlHeJbPCE4T7CLESFe4/IM3GlNICoqxzYS4Pyo9yo6wIZ6sMSh9LcnorVGWfj/j36qbVGiXnQjX/vlIfqCMcS/2xu9mzarEfwrKk3u+fe9E8N1VYZSwreo3UN34XN78Y8Rq8ZdnE7xfep3wM2i7Ge7eetmw+YMg5ZE+vsl/T2ik6WT3QGBBdc+HCBe6DFotaoYiHJidoF2PGjOGlPgGXvFNBci+m6ceqpkoW9mvjtQ9jqKg5XVVG9NuvK2jTn8co+yxR0UWikiyiciisLNPab86Sc9ZMacE+LJjCS9EwiFg26BNEHLFw8s7XTKsppOCiKSfKhTKhvDhGeeW+ECf/grkPnIfFJvfqptfapAoNMu/3RD2hbkQQjnq8cCJar4iHMBzLefkN5BpJJwxvRUCethScJwrBMj9HVAnL/CLR7KlraOfWU9xAjvY7S58z3tEqilAlRbz3NRGS0wMNB5CyO54mPz+fnn322ZgwhSIIGUfQo0aNYhd3ukjuxcSLU0XVVE7hSKn38oeIItWmv8uTSAXR6qW7aMwXU2napJU048c19NM3S2jqxFU05fs/PVnbLLfTftzI218mrqMfvl5GUydt4OPpP23i7fdfLqNpP67n+D+OX0E/jl9FP01YyfF+/QFpBKfbWFuUG+Wb/O2f9PN3q/l+Jn2znMsn5UU5cR7xcR7xfv5uTUaUv6m3qIfJ367iepz+0wauHxxP+mYl1x/O//bzJt4iPuLh9/9pwmr6ZeIaPkZ9Ij1scYxwnMfz5OYXs524in6b/CdN+W4xzfhpJX075nea+sMSOrw7y3BxzMAweVfRmC6nCAsa1ZlN0DZkwFhubi7deeedakErakVGETQe3hEjRtD06dPdUykjlRcTg02ia3J7LzymdISIQhVGUXBfWAXcdpV07GAOXThdRmeOF9GZ4yWelDbL7YXTlXTicAGdP1VBp48V09kTZXT2RCmdPFJE50+V8/lzJ8vo9LESGj9uOg0Z8C0fHz9UwPHd9Bp7i/KeOlrE5bl0toqPEX7icCEN7Ps1zf9jAw80unimio4dzPPv79RR3CvSCE63tWzPnSzn3xP1gXrCc4B6mjtrHfXtPYbr9cDui+xFOrjnEncfHD2Q6z83OJ91LkRHD+RR7sVqfm4QjnQvnqmskV+N7dE8One8gLLOlFIIn7PMxWAQoohwr0/Q3uIk/tK8iYlZkIoeaAxAx5WWllLHjh1rWNYKhYsmJ2jXjT169Gj65ZdfaoSnimRfTPsdQZ7+SyOjUDDvEka1eNM84bmZtq5oplIBx4F1zA0Sbx/3eOFsPk35aSYfZ18sNucy6L6lvDJX1v6dfpw4jbb8tZuqPFepbP39DLqPphK7vsIgRatOpL4Qp99nQ+n1V96nyjLzHFw6742utuLhnB3mz19OJBidLfl6ZZHreBtvNFhQWACS1QMNBdEpLhm3a9cu5lihCEKTE7SLcePGMUED6ZB0si+mPzrU+4wd+ozsD3jIORjYVRXQGua4slyYwVIizVgiIc+tX437xKgczPMuobvvvId27dhdI657fZOL9TuWlYAdzL5dVrk/bDPyHppI7N8egn372K8rr46PHz1BPXvcSJMm/sjxSopKOTxcZb0P1u+RUCJeZD+vaN7s1HLhXl8LktUDDQl7LjSIGq7tNm3aUFVV7UuVKlo3MoaghRTHjh3rE3Q6SPrFjFmdCLCb96IobCUfoWrPHR7CCDKJy9c3z20YH2T2jnF/C+bPpTOnTlMpFkcOiMf3z5/+wxDbmuk19lbKYd9HJBSmo0cOUV5Obky4vY0X3qq2IEhusSDAHOP35YGSXjyp30p8nNu6/sL5sxxv/rw5dM9dd9PuXTs4HNej/gPzc7cinH30PQtVopWAOAHw4sQ9byFpPdCAsK1n6DgQdLdu3aiysvbPZSpaN5qcoOXhlSkI3377LU2ZMiWm1VkXJP9iIn8QbnSEqD9YjM95iKcU7PAmEihD2+KxFV2MINyzbCrLPXL10zDX/PLzrzR08BBWkKyk3TQyTGzrLlTpEXWVaUB82vsTmvPHXP+8hGMbU18qdRfvebpw7iLt27OX9wd9PpCGDh5GhfkFfCzPEbbye7G17V0rYWj3cdu3mqiiQqxL836aD2NgkJh5NyvQWLDfzzhIXg80PKDPRM/17NmT+6IVikRocoIWCBl///33TNDpIrkXU1rwLjnXQtCmqMHhjSxsqbjhPArdmy5mEZbElW1pcQlvL124SHP+mE3lpWV08fyFmGuagwgxS8ME91dRVk4zpk2nvbv3xDRY+N7lOF5DRiUl4e4ebx/1i2cHdX/i2HEO+2nSj7R65So/jvxedgOwrMTzZvB57EijPUJhjM7kd7KCItUgZvOOmvDEJJ2cHmg4BE2zAjAPOh0DRNE6kDEELQ/xxIkTadKkSe7plJH0iymKJsaSFqn5YkX1EpZJEIJvOrFHn8eORI8VsTjCcFdigkqlGdmDax544D7at2+PH1filJYW10gnkyUEl7VVDzjGfeLYPhc7ElilvgTPDerXfSa3bdtCvXt/xMfHjh2huXNnU05OlneNsShj3jGQt89dSCdEZeWFFI7gmbUbz5DESFoPNBKEsG+55RZeUUyhSIQmJ2hpRaJfBg8uCHr8+PGN5+L2CVrgKp5YGGKGy03cbm78phEoRyEhiE1CQs4IE2JetmwJrVixLOZ6IWZIVZU1nDuDxSVliNzHhg3rmBDcaXQ4Li93hq+r1Emk/u1nz20o2g0mNPqGDRtCfft+xmGnTh+j7JwL/Iwacsc1UXew+S1jG81lZWUUDienG5LWAw0Me5AY9u+++246d+6cG02hiEGTE7RAXszJkyfTV1995Z5OGUm/mKJHahB1LKJWM4i5wpdMQKzFYaaOhUJQBMFx5s6dT3379ud44n2TfX/wOtyV3rnmAFdh4/jDDz+mhQsX+/eBOhGk0fZTxAHqubISJEpUVlYR85ug7t3fAYOkjp84RHfedRP9MGkCRaorqaAgz79GICOfAX6Ok3hfBUnrgQaCGBqusdGrVy86depUTJhC4SJjCFrw66+/8nKf6SLpFzMlgrZJGgNWjNLwIzTRlhWfdxxBF6tzDJQUV9CXX37N4dnZubyFouQPhDjpVFWZPmrZyvlM3YrS5oFFVvj69Rvp4IGjfCj36a/p7NSbbuu2raqsNqTsHaN+mYCteKWl3rQ36/msKBfXNn6YKjpx8ghb0Bh/ct9999Hu3btNfKuV6E9L4hHl1dFnNwGS1gMNDLkPbOEZAEHv27fPjaZQxCAjCNp+CadNm8ariQFuqzMVJP1iIgs/G2Fry9KqRTIBdj+eWDBASUmJbynef/+DtHr1alaOUHRi3dgWs70FmsNShNyIcADLDPdn10tQPEX9APUtVnF5uZk65Ho0ACFY+30vr0BDNzpeD//On8ui06fOcxroux41+gsqwFc4vP7ncnyNw3lP4yFpPdBAsF3bNrAW9/79+2PCFAoXGUHQNhHPmDGDv2jlhqeKpF9Mn2nxAtl9Z7Gn40kmwF7wQBQB+um2b99O69at42N7iodA6leut+dlNgdytiH3bdfFwYMH+du79n3Lfekc1PqB1KdNQDYp2eH2M2XOmXdIyJm/UeNNfxPPT2FhPv02cyodOAiLuoq+n/gN7di5hT1YcInXRtJJ64EGhls/Tz/9NO3YsSMmjkLhIiMI2lag8+bN47nQQf02qaBuL2bil72pYJOJvR+vfqAIjx8/Tq+++ipVVFTwsR033brNJAghBzVS+vTpw8+TGxfnUS+K5oLoIDQMbnzllZd4oN+lSxfo77//NjEcC1XeE1sPSBx59u13Ceca4p2QNN208WyiAa1QJEJGELT98OJLVsOGDath7aWKuhF0ZgL141p87jFIGDJ16lQqLy/nKRyoQxkdb6MlETRgK1ex0nDvS5YsYSvaVsyuFafIbNiNKndpTHwV6uWXX6bPPvuMf9uzZ89yeHRAWXUNPSDnpIHmeo/MyHEj9QG3UQAg7U8++YT+/PNPK6ZCURMZQdA28C1oPLzpKk/3xWyusAkFSgX14rqfRdlMmDCBRo4cWauVHRTW3BFkqdjuV9cV29IaKS0VrmtYfkebrCUMhHfttdfSnj2Y028QpAekQSckLHnYpFxfBB30XCLtfv36xXh3FIogZAxBywO8du1a+uCDD2LC6oKgF7MlAUpJlAisZgAWRTIWYjr1mmmQOrAVttzfli1b6OTJk7zvujDhZVA0D+C3lUYofkf57eT5tpfMhOdIvCb4tnyQHrDJV9KQ98Z+LtyGcDqwnz3so2y//fZbTByFwkVGETTkr7/+ojfffJPD4hFMbfjif/5PzIvZ2PLi//0WixuuoqLSdLJgwQI6etRMuwOE9G2Pk+tGry+4jeLvvvuOfvzxx5gwhcJF0gQN0rPl6OKVbpQaQBzEnd79Xv86F67rZ/PmzdyvlA6amqA/+r96KkGrqGSY/P777/TQQw/RxYsXWU+Y6XjBbm3su+M86gswPH7++ed6We9B0bKRNEHbWN9nWCDZukiGyG2CxoO7detWeuONN2LipAolaBUVFVcAkC4sZ1jKt99+O3388cfsyrYHidXnCH/XcpZjNBYwXkShSIQ6ETQsYkhtEOs5CLZlbccRS1vOCdAokIaBhNvX23HdNOI1EuJdG2Tx2/m71wRdh7iA60VIFdKqP3LkCO9v2LDBVyZ2F4DdX5Zs35mrPJoz5F5sFyUGC8FachuB9laR+ZDnOWievvy27jPv/r7xrOE1a9bwOTw3gwcP9lf3QnoN8X5ImsuWLauXJY0VLRspEXQQodYGISybJIOO5QXCAI9HHnmE94UUZd8mOCG+ICQTD/cgaQtwbN9bovzt64Puxz6HlxIKw1Yasu8OHrHD5XjcuHG+O8wmIBC2naZcYx+3BqAObPek1BFmA2BWgMAeAFRfo3QVzRs2wc+ZM4efGYShYYdBl4D7rNiNPLle4rgD0Ozz8n4iL3Tlvfvuu3xO4gTpB0XrRkoEDdgWYbJwLV+5XgTH6z4byucw6vat/23H4dO63ePnE0Se8crgErJ7LLCJVI6Dyga4+dnHbvo2eeO+7HyCWvLuyyhEkpdnPhyAueGATc5YxhNwCdk+dtNt6XAtLExj+ffff2tMOwvyQLRUSCMuqLEWFNbaILMh7DoSgr7pppvop59+8uMiXm2WuryjLqm7g8/wXD755JO8H/Q7uOkqWidSJmiBS0rJwCZoAR5c+wHFuZf+f5fxvk2CiQjShVs299iGbRljG88d7uaXLEHLizb1+rtr3Lf7sstLjfr44osvaP369X7duJYzgL6yoJe7tcGdEyvzxW3Y03QEQY2l1gBpyOmzEwubgLFULiAu75kzZ9KXX37JU7rEYyPPHY7dLiaEiQjsBgC+ZPXggw/GhMu+++wqWi+ajKBdIsQDD8G5G264gcPWfjokLkED8crghrvHLoRQg/IQuOdcghZCDjoG5N5sEpZw+xgKAPN3MSXEhow4dVvmrV3JSn249QLAjXjo0CHedxVfayao1nrfQRADwW2suSSJ9xJTo1auNHoLg1mD4rneGruuhbBB4Pn5+WyhSzxJx31OFa0bSRM0yAUibl+3z9UlXAm3xSUxpCXpAXgw3WtqI2i7THa4G89FomvtcCmzm7997A4EE7KX9OCql3SlZY4X0R0tOnToUH9wCuLZL6tNQK4ysZUA9qF0EEfSaski9YN7xT3LfaP+Ro8ezQvfuJ4KHEs3gpteSxP7WVAEw34PxfoF5J2zu0QkbOLEibxqGYjWrVv3GNfht7CJF11Ubdu25XCJIwgKU7ROJE3QDQXbPYkHEy/DddddV4OEmjPkhZMtYL/ECMcIUnfpP1tRiGKwCcludQtQb1AaWFEJg1wuXbrUouXChQt05swZOn/+PN8z7h1hxcXFdOLECTp9+jT35Z87d47D0beIeG46LVXwNS88B+bTo7ENOUWUhN2V5exjtxtOdFZRURG/g3i+sPohPh8Z1Acd9J5iv2fPnvycyrFLzEFeIUXrQpMTtAAPtjyYWEygpTyc9n0IKctLDDJdvnw57xcWFvL9I8xubWPf7etyB5zYL758KEMIyVXYLU1ycnKYgHDPIF8I7h2C8yAobHGMuFInEt7SBR+QQJ3I8yUQq661wzYEsG/XESxre1lR1Je8w+IJk2VGMf0RHhvgwIEDfhouKSMd0QnPPfcc90ULXGK2y6JonWhygnaJGC8AFhCA0nXPNVfYLjSbXN9++22aO3duDZcY7tt9sYMgL7D9IkPJoO5ARK2BhGA5g3iFgGWLOhCixrFYztiiXlpL/eAecd+w9oKsOkWs6xrA+2Yfy76E241ngf2Or169mtq3b0+HDx/mYze+pPfiiy/Srl271HJWxEWTEzRgt+axj9GN8pGDTIeU2yZZ18J1FaO0mnfvxkfo04etbJE3yElcviAkuOCQJxQ2XMAgLSFx7BcUFLAih6sYZIZ4OIfrIbDCbAsV55E+rsH12Eo44skxBOkgf8THeVhySE/iCJHKvpwTN7RdHtlHWogr+dsNElyHeLhfPEPiSZDzIsgH5UJ8qSuEy31JmZGWhEl5pD4gUrfYigtdyiP3gDJItwPi4hzqXOJLuSU/qUchWMkf6eI8zuG3EhKWxofcJ/JDPYsXAdfjGLBJxX1OFakjXkMarmt0r0Av/Prrr/5gRUDq/f333/cHndnXii5RolZkBEHbANk89thj/EDHsxwzCXYZg/rN3ek933zzDbvD6hPyIuPFh0tOCERI0SYuOScEaROQkA6Uv630xTUs8SVtEAaICWEgIGkEQDHhWIgGcYWw0C+M/lDkIX3DcBPinE3Y9rXYotzIB+XEFuSLuCA6Oedax8ePH+cyIR7OIS2UDb+JlFXuH+dRJuSFckmaSMt2oaNsUpdIS+5VGii4Vvq97UaB5AGiFNKUe0F8IXHsI570pUv60ojBfQuJIw9YxkLWUn/SmJDfEIJ8bYUf9KwqUof9/rteCXn3161bR/fffz//VkK+eOa//vrrmA9mIK0gr5ii9aLJCdolYSgRuH4wkd91/WYypKzuYBMbO3fupF9++cU/ro+XUF5qOy2xtDBv87bbbqNu3brRXXfdxZ+3E0KCUofiFzKyrTEJF4LfuHEjjzjFqlzSpylECOJAmJCqkLUQEOIgLewjjhCXEBO2INJ77rmH2rRpw9KlSxe67LLLeB+uwlWrVvG1OO7fv7/fMLjvvvu4sSONDeQJwQjba665xiczXNOpUyc/X5QXce69917q2LEjD9bp27cvkxjSxv6VV17J5A9yE9KEoAwjRozgfZzHPWPJxjvvvJPzhCKePn06l0PuWwgZ+QtRi7WL9KUxgmlhHTp04Cl2tmcCil2I1m2IoKEhRI9jpIXf1m0cSJ8pGnHN6b1qLpD30NVnNnAez/rrr7/Ovy90wfjx4/kad3CZ/QlNRetFkxO0S1I4/uijj1jxJnrYMwV235N9LzLKGi/ctm3b6NixYzVcVvWpKO3BKyAmLMQP8kErHev+Dhw4kJWBKHqQBxS57dYW69V2M+McPgF61VVX0ZIlS3zLTqxb7INAsC9WtJwXi1PSQh5CHNIQEHJ69NFH6dZbb+XyYrANljeFt2Hs2LHcWEO6V199NTc6JO9evXrxgEKUF1a5WMtY/el///d/uR6QHxZ9ufzyy30Cw3zWzp070yuvvMJ10q9fP95HOojz+eefM6EjPWlUQJAeGgyYDifEiLQRBsLHKHyQ96RJk2JIGeXFVlzfkiaOkSe2iI96RkNo/vz5fhgEeaGRgHSEcKV+0UgQcpbfSxpWUgZsEc9+/twpfor6gdtgxtb1Vvz999/ciFu0aBG99tpr/LsE6bqgMEXrQpMTtAs8lFB6S5cudU9lLGRktbyUNvFioAg+n2m/sC5RpwP75ZcXGsR344030qeffupbVFDsUNJwMUOxw1oUSw79ZeLeFTKxrbRNmzYx2UOpgADEjWuTIq4T4sFW+kCFSISIJR7Oi2sWJAKifeqpp/zz0lhA/ig3yBHW5ZAhQ/gcjjFWAeUCYSINsS7Fgt6xYwdfDwIGIQtZoQsF+Yk1j3sREkOcQYMGMekKoUrDAmlfccUVNGrUKP+e4JnAF5FwHeoL9SsWrbjhcU/SbYC6FnIXLwauxb2iUWp7KsQbIfnbRC+NHFwr5bd/A8QRUsc1MjtAnhcl6PoD6tUlU/cY77099x76AmNQ8MzDIME511hxiV3R+pARBG0v+oGHFFbUtGnT3GhxgQVAghZKqQvqkla8AWIgMBkIhjh4MW1yFrdjfUCUBNKH4sZqbH369PGtK2xhlb766qusxGHRC5HApYylDN955x0m9h49erBlKSQNggbBYXH/u+++m+M/8cQTbAHgHkFEcN2hQXD99dezSx35YIQqSKh79+7cbQErGYs73HLLLTR8+HC/4QCSgYsbcXAMghErGcfS1wu3Mz4agnMgILiT4VoGcWOwjZA5rGwQNOalgjBBqIgj/c4gZ4jUi1j4OEaZPvvsM75f3D/ykcYLygMXN7wR4knA/Q4YMIDTlbSQ/9NPP811gzioG+yj3vBcf/jhh7yP7geUTe4ZlhUsd9Qz7gtlQGMCngsQO/IHceP6rl278kpUmAmAr3YhDTQE77jjDr4e94v0ERfjOXAfAng8FPUHsZpdUgbkvReIfsAWzxQaeDBG8JEgQH6n+vSuKZovMoagsdoWAIIBSU6YMCHwgQ9CXUg1HpJNy159TIDyyosFBWu3mu3WsbSg6xPS2kb9QYnDNQyi/Oeff9iKx9xMECD6XWXwFKxYKHaQBQTEgs/vgTTEpQ3iwZrgIEcQLKxouKCh/EEmiI84IH9Yf3BLT548mZ5//nlWOsijXbt2TMpwAaM/ediwYUwg8JSIpY0vmD3++OPcTw/CwbVYB1ksUJQX5AhrGWVGnuiDfuutt5hQQdZC5FOmTGHLGo0QXIs+ZVwrFibc0DiPRgjqQtzJOAfihQUNlzjy37t3L9cd3OzYh2WNcos7HPWMPmz0H6Oe0SCQekYDAWmC6BEfC/BAUFdo9MAbgPRgMaORA4JGOeEZAJGjbxskjAYT5suDoHEtfhv8VnDl4zfBp0hRJyBr/CbffvstjxuAJwHPABojuC9AnsP69OIoDMS1LXrL1l/2+y/zrSF4Dm3gvZIFi1yLWtH6kDEEbS+jCfKDAkoWyZJqMkg2LSFoeQltdxQ+WwdFLefEnQjythVjsg2QRLBb2lIGkA0sd5AgyBHEiX2QAbYg25deesl3MYMAYG2L2xTEA6sXg6tAaugbRToYvCRWL6wykA0WW0B8TBkBOUifNogJaUNg7cFiRjxcC0Ls3bs3lwtEjLAHHniAyweFBZJCOWGlozwog/T/onGANEFWuAbWIkgZliOsRcRF4w7lBUEjLlZpw7XStw5ShrcARIeG1IwZM3wrGfmB0HEvSAPXSR2ibNgiPcRF2tu3b2dLF+eQnh0PaeCLRYgLQX2hTsVlDYFHAUSNcmF9Z9w7nh9x14Pk4Q2AdYw4b775JntHcM/SUEF9Ii5+UzRyxDOAc7NmzeKyYByEPCvibVGkD7ehE1SvdhzXMpYppYgjhIyGMXD06NGYuIrWh6QJWtaYljWlJUzWn7YtSjssmbWsZR8PqVw7+P97pX9e0gqyWgG3bHY8OXbX3JZzbvmxFYKW87a1izLK2trY2nEhU669IyaNhoYoBHm5MfoTChouZljFcJ9h0BEssGeeeYYJCfuw4IQwEQ9WLawsISooDpABzsOCBkmAoHGNEAK+nQtCwT6sQBDTCy+8wEQDMkQ6IAoQGKxOsVKxRVogP3FNw+KEFQzrAa5znIe1LW5mkKpYr3AHIw0QNKxGlBFTWUDquBaWMcoLSxwNJVjdKKf0y+J6pIsFJdAIAJGC3MS1jvvCvWARGaSHLcoDQToogzQc0EBB/SEe6hX3A5JEg0HqGWVFfDRUUM/Sd4zr4QXAMpGoL9Qz6gp1KY0bxEHjB+XBb4MBf2gw4LfER1Vw7yIYHQyLWvJDGO4fg+tQr/KMqGWWOUBDEWMP3N8EOgeDGdF4s0lfyN4melxru9K1AdZykBJBxyNYObY/EOEiKD6O8XDZBA3geihJnJMPUSSCWzYcS1ls2GVEfPsagZCrnabturbjAVL+nzrdysoRkOvr240dD1I+ecmhlDFNCWQAxS+EBisMI5/FOsMWpAXiAOmIBY24IEu4j3Et3KUgBSh5IQMQDKxiECHIE2G///4791GD8NAfLSQEaxwDtZCXTBkC+WLAFa4Rgn7jjTd43x1Fji2sYZQB94RziANyg9UsZYZrGu5mxEFcuKZRBig5lEkGcMnIabE0MeId94FpaGhAID6sTsTBsfQtgyBB0IiPNOBaBjmjT1oIFfExMhf1LA0ZhKMcqGc0FnAsdS2NDJQF3RFiQQvBIhxeA9wPyo98Qfzos0cYBqjJdDI0MpAvrhGSRnngMfnjjz/8Z8Vt1CmaDnhm4eUQ2CO68U7jHJ5/jGFwrfV4UzqVoFsOUiJo9wtWQmIiQlpyzo4fj6DdfQDXwmqwj4PIVBCUl03qkr5Nyu41Aim7XG8Tsz3yFeflJcD+jAFDeR9uZhCznX9DwnZbAhh4BrcoCAaD7YTooKhhVWPQEUhXBkxB4YNAMbUIJCLEhXiYegSLExYxrNPZs2dzejJACqQLF60QEMJBFLBgQQroQ8X1WLoVikj6bSFTp05lcgMpIRz9pOi7RVooA9KT8mFfBmiBrFAGnMM1IHXki3sEgYLwMHALViOOpc8Z12Jfyg+yk1HcSBsWKvp3cQw3NI4RLtY2BGUBkYPAkT8I+r///S/3u+M88kPZYRWhoSKubeSJcLi4URaEIT7yQt87PBXICxY0fjdYyXL/qE+M8oVljXIL6SLN77//nuOjzxnx0DBAI1EaFoiDfnHcOzwptoKPp9wVjQv8LvgdAemXBuzGPcLwrMGilvfdXSMcW9tNrmgZSIuggwhOIFakEJVLwnKMhwv7MkgMx7jm4Ycf9uNKfIQHWcZuWey87Gvc8KDyS7hs5eGXF0bcSTiPLdyRdlybtBtjmgTysxUvGhFQzrDW4AaFQodih7IGEYAscR6Ds8TSAqGBoMWiBhGBoGFB4zr0X4Jwca8yLQgWLaxVkDgIB9fgemyRJyw8kCfCQCIYfS2khDzENQyiRBjIFv21YnXLVub5os9b5iCjDCB+kDEacrgHsSIxchxllT5o5CWEi/tGXmicIH3cGwTWPK7BuAeUEQQM6x7XSlnEmgXZoWGCvEDIaKCAGKVOcf9wNcMDIfcq3QYgaFyL9KT+cQ9oOOGe0NePhhC8ClLPKCsGDiEO0rZXEoNg7jjyl3xhQWNfGhbwcuDeoOAB1wpTNC3QKMN7Ari/Dd5tuyEFIke3jXjLXK+eC7Wimz/qTNAu4cZDPIJGeBBB4yHFORCM+4DFc3dLWgLsCynb8RNZ7XJvcp9BebkWNBQvBhRJ48F+wdxrGxLSMJB+KChnuF3h1n322Wd50BRGG2MkNQgFo57hpoV1BSWOQWIgJbHOQAyw7GDRIi30q4I44FLGCG1YxiBTWHWwrkEiyAPXYJQ3BlGByEDKSA9EDpKBZY2RxWg4gDBxjVipMs0K+yAYTCvCVgaygZBB9LCgxf0Ltzj6bxFH3Pi4BvmA/DEKG2WTPmhchzhojKAvHnWE+4YHAaOlMYIcDQK450Hw0hBAmDQu/vOf//B9IT+UAe50hKH7AAQPaxrWM/LD9CvUs0xzwohqxEc60pBBXaDfHmnJPGjUM0Zx4z5k8BzOIf4PP/zAfdxYIhJpw1MAyx/po0GF3xy/NdZ/huUNix8WPcYm2FaZ3ZhUNB3wu2O8gg35BKUQsG0giPdL1lZHuEvsakm3HNSZoCVMyBFbmxQlLIiUJW48spR0JZ59nVsGie/Gs8/ZEpQPwiTczkPSBOwHHq1ahH/X9ga+DuckLRlABjSGBS0vpz14BKQH0gIRgRih4GE5w3qDJQYlDnLDACbEhQUN1ytIA6SElx8eDBkkhnggCsQB+SA+XKnoC4VFBwKD+xvEAWKEVSf9srgejQKkBwGpIw1xv0NAPGJBiztYrFacQ781LECZmiX9whjIBlISaxPXSd8rFoDA1CjERVlkHjTIEX3NuBZlReMBBCbkjPsBaaOBCHJG2qgXWMC4XlzcQtioZxyjPmVuM8ZPgLBB/Kh3DOaCNY9GgLjHxQrGdcgf5cc0K9QDCBfz0VFvuA+MAZDV2jDiHA0h5IW0xfOBMsKSvvnmm/3GExpkaGygywO/qTzD4hVSZAbwPuE3dIkWsEkaQByE4fnA827Hs/uvFS0DSRN0Q8EmGOlPgfz/27sKNruKpL0/51sWiDtRNIRgQRaWxTW4s7gTiAAhIQlxdxt3l7iHOBGi4z53rr3f81afurfvmTvJRGAmmVPPU9Nzj/Tp06e73q7q6moKOgqdjib3nBBTmmXptaudgZq1W+D9HeCspOXQMlLwU5gTXPi/pqodUxgQcHhM50NVayVAEYj0OFnnNNVUrs5WPM7zvM/WChWANMqYzr3yHmoAzIv5q4ldzeOqBdvneZypDdiqvfI4r1UzsuanrMBll5P56LvyXualc9U6Z8z/dXCh9zNvrTM1b+tgwC4rjxPoWVf8nynrlADJZ+s9vF7rQ/PWgQfvUzM161BTXsdy6wCGAwhey7z5PwdfHATxeh7jc/kMjTFO4uDSvYGLRx1LnO7hskhb81VrGMk+bv9Py5YNyG6ryN/lpOrRX0cdDtDuBqYptQCO/Dua7FEty0WzMM3a8eZ/2HGUSfFGxH8F2YMBdkoFMgUqCnYFEhXu/K3XMVWgJKAo4PC4zsESOHitgpoCuIKggozmqf/zXprQqenxt87HKgDagwQFSR5T07cOEux7bJO2sjpQKQCq1qvgqnVgv7c+l/coUCrwa776DnYd2YCs5ec1PKaDGQVbzcv+Bna98zr+z/P2++ouXcxPr9N30Xrib7tedJkVy6L1rGWjBm63k79zAOlR20SZwmkP25O7LQuHAq4texgoiN9ayQZ2T5u++qnDAZqkjdFOaZZkdCY3uUeJl0vxQJT5uwHYnn/ujMJN647lVCGvANLRrACtYGEDs/vai2UdcKgmrADLlBoktX2NsW2DsgKpO7+rjRXo+a2piTHEqP2uWtcEaE9wdz6i/OH6eg3M5PYTuBDxGvossC2rLFNLpEdXP3U4QMcDXDYwCnTOt8Ujvcd93+WQvZmAPZ9rO2FwTtY+15lI64LltwW3W6B3JOuggawg4r7mYpl5qImc/1OTJvjSJMx5a9VsVZNVbbWz1c2lsprNbW2arO+r76mORx51PmIIWfoaKClIx1Me4pGtMNgg3RkVCY8ujjocoG2yGxS37LM3M3cTASmeGehiyV4+5SY9x2fRG5rC0AbszgDSbq2IdahapAJRR7Kabgmi/E2w0LlZHURcLvMZOs9OjZlgZc9nc36Wx/QaXq9me3deVxvbAx59Lx2w6KCFHG+DjCs5wPXo0kgVDTpyUgadTx61RZRHHIDl5OTIfe0Fdo86P3U4QNtCwm6UXAtKr2O95u8QJjpAYAPX9Ye2adveRN2e6+lIigfQFMyqTamA7ii250iVeVw1P/f1F8vMj/nQnM3f6oyl5mv+1sGAOnYpcKkWf7Uz31UHH2Sa9HnMHqBRgLvbq/u3R38/6Tfg+nWucXYfbw9RFlF2MpAJl+GpvLyYPDzqnNQpANrdkAiQnH/mRgh/B+nz3SNPHudaWu4rrIDtXvbQ0aRl1/LoaJqhAZlSc+pIJmAwZf0RKAgerEMCJ8vovv5imfkxZf6MokbNmdoy64OxthlkhfVAJojxmXx2Z6ibK8F8Z74P65YDSP7mAETrV+vYHmi6+5tHHUvss1zfr45iFzOH7JZZdGJl//L2+742qMMBmmRrgcrUbuiV6iY3oOva68shd2dQTZnraGnaZidgp3GDc2dYxqBlsQcM7nJ2NLH+7OmAK11/mh+/owosWhJogaGXq3suzv37aib73d3tWAW929rjvs6jjiV+Jy7bZOAZ+1h7if3I/s6qTFxL7byrUrsB2g48ooFBrgTFa4hsZNQCuBg/nnBRwRMv2telEIW6eyRKolbiFma2ptoZSMsXrx5JKrg7iuM5vNhg7b7+Ytmes4u3DEWFFK9lGZgqadu62lnfV3+T7PrWY2399qhjid+K0y8MQEPSNttWn3aTfn/95tw0hZYjj65+ajdAXwkgPB/ZgobExskIOzTZuTWtKy1gtGHbApxxkQnQSnZwh3hCsKNIy2LXSWcqHyne93IPvC6H2EaU1BufpN/MPm9/v2uBbFDW33ZKst/Zfb1HHUv24IrR6zgNo78vhrSv81tzSo7R6Gx56tHVSRcF0PHCbLrDdLpDeLYVgpNkH9dY3Hpced3Yd2OezYbIe/I/+raVBm3fp+TW/OOF+iQzP23k3JqPIRk7C8B5dH6yB1hKFHAMuck1piTVRph6pj+POhPpoIkbv3BKRttxe0FaFQu7jZP0mOZja+TtzdujjqV2A7SCoQ1+pAsBtH29/dsGXf2tDVXP6WbmeR9+E7mPjVH/twHaDdZK7mP2b/6/f31qzHnm3xkimHnUPrI1Q03V4sJNPfLy8iLX2o4ztrXEI486A82bN080XxLbZ3tM3Coz7d8kbtBiRxgjMb/25OlR56F2A7SSgqzOQV8IoO1zJBugeU5Z82QD0msmTJggGxvY99nnDyVltALctspiX2PvXGULdtvc5HlBXj3k1hQUoOmpbX9Ht8nPE1YedTTZ4Lp//34J1Upyt9X2kLZ7Woio2OgqmLamdTwLYeeniwZokq2tukHwYgCaFE9I6jluucf9bPUYn8v8dHDgBmiSPYBo6/k2QJPU65H7An/88ceRa+M1ao86H7mBmUThQx8CLjNym/Y8weRRZyHbwYv/cyc4Osi2l2wN2m7nXGrIbVHd19jk9YPOT1ccoG0t1jZpu38rUMZrPDzHxsbNzLmFnn2vnV88gCbZ5XOft3/b//N59H5ko+W6UZLXgDs/tfWN+D05B52YmBj3mkvRUDzy6EqTgqqmlHdcv28fuxDZDpcXatfMM15/8KhzUrsBWsFR2T1/bJup3QBtn7dJj+s5bTj8nw2O8ZS59MA+bufhHijYz9Hy6W/3cc3PXoajplKPrm7S+eVp06aJqU+Pua/xyKOOJls54f/Lly+PWQ/dHrLzoDwjSFOOcTtKRppzK0DuQYFHnZfaDdCXQm7tui3SBmQLTR7j/OE999wTMUHb117JxsVwlAyTp8RyuJd2edR5SduN3Y5UU9B2otdcyeVdHnl0uWQrBWybjBv/zDPPtNsHRgejJHe7fuGFFyR8qFuWxZO3HnVO6hQA7R7RsQEFAub/2267Q8I3BoPaqGLTyyW21XfeeQeZmcas1NLSOuLVhYnXKXv0d9L5NhdgRDied4M06UKmwK5DXtvtaNK2qO101KhRKCuraAW4bZF9ncpNykf68Pz++37rnHmO1/b/KtI+5E4vnf4R20FbZ8hP3xZf6CJ11HIfvxh+6YVXsHXzNvObxXOOh9jGrN/nZee6UCCMMGW0czzoDyHQEsapP0+3eb5VXm6WzFkY5fPXp0dXnlSLcA/0Pvzww8g6aFvL9jQIpfO0XXc79/ivYVa1I3Mof5iO/34C1q5OiD1uybqWZv9577evt+WZMo/FO+7xJXKk32gfcqfn4/PTP6IPiE/usri51YErzD9O/Anr1qyP/Gbj04bYHg60sDXGHotpnE5Dtht9TAe4EJ/3Q3j0dxPBWbVqerEy8IOSHaDEA2eStl0PoDuaVRmgbCrML8KnH38We03IUhgcmaXXM40n53Zu3xWRZb6mllbnPZC+gtxK9rvYfX3kvvOTAeh2XOjON3pbnMJcQV65YhkmTvgBAT/nZMxwMfJ/O7nFx1CPITQ21CEYoJAOIRT0Y9/ve/DqK/QSN9fxvP7va+aGGa3zas0edSQRaNuKXcx5PBuU7bk+j5Quty27+4PHF8uURUxt2TRk8CAj5wRFzXX+FvrimP/1WrLKKt6nspHnhw8bIufCEXOjkYW8jnldrBz12MWKm25QvBi+AF0hgHar9FcuLcjPxdtvveaArDkeDpnGqWm8+86XBvwGsMf/8C1+37sb/hZtxAGn4ce/r3VKtirIow4hNVnbgWYYf5vroOlgSGC2HWk8gL6SFK9feOnFpJQ/BojNb8qnsS+9gNKSApFL8eSdAdeA3BcMNEfkox5vaqzHd99+Gc03HEQoqIAcvxxeerEpuQ1SPHDjwkWAM6ndAK3UGqBJWtArn3LbyfvuM3G6gzLSpCbECop/vTs1psyQaFNhaazmuNGmYq/neTOfqbtbtc4vNo1TIResT32u/XyPLpV0Iwxqym4NWueg3V7eJA+kL0Tudnq+9uruF156ManKpaamhsjxlStX4vvvTUAmW26ZlQm6EiF+fn6/Wo6MnAuI0hF7HfcLd9/npZeSUo7EYz13vmsuLIOuEED/dcSG2LdvXxGo8QRte+mll16S3WJ4L+coV69eLaH1lOxdkOJ5/bZJ7gq5YNGYt80eXQ7Fawv63RiFToM+uM/Fu69LUtw2q21TBYzXXv8q0nZox2OgfOLA8+abb46xCpFsmWSveiGPHDkS999/vxw7ePAgioqKIteS1JnS/u3R5ZD2ESqOym4AVravsa89f5+6wDIrd+eMx389jRkzBocPH3YfbqUxnY9efvll3HjjjQL2t912Gx5++GE5rpud26QN9/Ib8N9bT12R+O1U8Li/F3+7l7DYy648aj22NBxCGAGE4XdSm3muDVz36KLJtuTY7ZJLBJ966ins2rVLfrtllPsY87n77rvRr18/dO/eHddddx169eqFoUOHSiwJgj2Jz3D3E48unUx/sNndl+w+ZbPpSxeiNgDaDcJt8d9D3JVI1ynb65/jNVo3aZt//fU3pfH26NELPXr0QJ8+/TBo0CDnmtbvEudQO8hdP39/XXVVsgWdG6zjWUTcwRu6KrUtSBSglT2A/qtI264ZaJpjbLI0cy9atKRVW7XlFa/Xdv3ZZ5/hhhu6oXfv3hgwYBB69uyJXr364Prrr8dXX30T8xx3Ph5dGrXuP+1l088uRA5Au8EkqpobxwJVxbluOLoEKRSwRmJOw/or0lmz5mDG9NkGNKVBmmVWsig/zvXulNe/8/YH6N69J/r0HoCePXujV89+0ni73dgLd9xxJ0L6KszaeT9N3fnFpDLPo/Vj6iwQpLelEXDtMWN4dOnknpawj33yySdISkpqJeDaM7DrahStE2pYsaY6AeiIN3Eb5O4XXtquNKxVSnnqyDdSc1MAZ86cw0MPPirHA04TDjrjUE31fsqv3Nx8DBk8An379he5RvnWt89APPjgw/C3mIw1H3c5vPQSUzfxuJsd0iAyxmn1Av3JoTiBSqIdM8qOi7/zQK7H8/voGejO7soTI3sVFBTh1Vdfl98XK1tV43755VdFe2bjJffu3VdGmWPHvhKTZ2NjNKxo+yiEULhFhFqLvxHBkC+iddj114pcH8+jSyMFFvVRsMF3ypQpMg9ng7etRdhLsLoq2doUPd5N/UUFSNRBKUq8hMBwsX3Ro9akdWg04dgK9fn8GD36Hpw4cTLmuBLPk1RmNTX5MGrUaFFEBg0aLFbCYcNGoLR0Y8x9drQxj64wqVx3mAOiyKAoIq8M1tKZ70JkAbQblJ3RM7VD64EhKtAO5shAW75x6/uuJJ84fgQPPXifpc0H0NhQ0+q6Njnsx/vvvYVBA/vixhv+iT69u2PY0EGYMJ5ekvHzMkux4uQVw0Z7jvUud9el1q9F9kf06LKIwOLWnlVjtv0LmPI6ArRn2rMpVlDYdUOtTCxLVnslMOtx0d7+hv7fJTjsl2VUZilV9PiPk37A4kXz0OJrkGt4rKmRHtjR+zSlzHr3nTfQs8cN6NH9evTr2xOzZ3GPgWh+kr/e4/Flchw54gJoZQ6KovHVFRPi3O8ilwatD7VYH0Izi8YK4fdlx1Ut3Tn/V6TyzDDQ7fpe5rg+s43r3WmQ7T0MfPrRl7j+um7o03MARo+6FwlrU2Ku46CDYT/52+8LmUFInPzcqWgSekzN7kK6vEF/W+RcK+zRFSM61th06NAh2RfXrSmro5jnLEPSzmRNGbHfxBEF5EiYSPt4nH7hpZeYOvWrStDvuw/iqSeeleOiB+iAifK4JRyRbyqvMtNyMbD/YPTq3g/PP/uSyM/Iffx+KtesfLz0ElNl/la2jztsR2wTbdqxlrRHT3A5ibUOSaYNJQLIbBBkP+Crtn7/ldwEPDT6FZw9GkSISwWd4y1UfN3XxuMm4IPXJ2FA99F4bMxbqKTFqAXRvJqAMGW76xhoOXLnZbPV8DkDIIoIQ4X6wtG5JY/+UrI1ZjVfKyBzDjotLU3+d89DNzTomtOuTiG0NDNiVbS/B4wLRSzTcqZt3j7u7hMeXxxTZrC+mbqPtwDBeuDO4Y+j9qz5rXJK5JN1vR4vPwGMGvEEHrzrZfnfnZ+wyjX3Mz2+OHb3Baef2BxUQyzxst7CUVu5PQ+19uKOMxqgxkyLb3HeHqxblodlc7OwYn4els3Jw+KZOVg8k+lfw0tnF2DJrHz88v0azJqcigXTszFnSjoW/ZaLNYs2trrezXOnZmDFvGJM+no5Jo9bjdm/pMkxvXf+tCwsm1Mo1zBPMp/B5/J/d342L5yVjRWL8pCauAnbNh+LDmZo/teR6gU+gEdXhhScuayEy03uuusuDBkyRNa+33vvvbjzzjslJaArgHsaNNunieFMLUusVY7wOH28GWkJW7ByUSGWzM3BgpkZmD8zFQtnp2PRnDQsnJOM+TOT//L+3xV44YwcYf5PWcdUZRF/T5+UiGkTE0TuJSzbipk/p0TO8T7KRcov/ubx8V8swZQf1sr/lG88Tnm2fG5R5Le7DB5fCudg4axM6ROSCmfH8KLZvCYbKxYWIGXdFmzbcEIGuuJHrJr1ecjZLCM+MJMJzDUVIUz4eiZyU3ZiR+lpHN7VgD2bKnFkdxMO767D4d01fxn/vrUMx/Y1yP+aHtlTK7xvW3mr693M6zQ9tKta8jj6ez0O7qzCgR2Vkf/1Ofyf1+7fXhF5Xlt8cE8NjvzejG0bzyEjeTdmTlsHH0eywag23foD2PYPj64E6X7hBFyub+da9xtuuAH9+/dHnz59ZHkdf3/11VeRe7x5aEMm3rOjHdOM2ghkJW3GqoV52Jh7HMf3BXF0rx+HdzXj8K5GHNndiD/2NkT6k7tPeHxxrLJM61PrlCllEWXQns1n8cfeOpw40CRyiTJLUzLP8TreQ5nGvHicv1W+Mc/j+xtFzjHlOd7nLo/Hl8qsyzrBRsONwod21mP/thr8ebAFWwqPIWP9Fkz+YQF8NYC4G7TCh1iKRhKLB9BB4NxJH+bNXI/maqChHKgvA5prgKYKoL4CaKwE6qv+utRfB1SXAU1VQK3zvAaWhf/XtL7endaXA811QO05cz/zqas0qebDlBXGtK7M5Mv31efFyzeSf7UpH+89cqABs6YmGbOGNe8QSzZAeyARtx7i1pnblmTuU6BV5681a9YIKJMZqIFBG5gyyhIjx9le3kaDbjvv81N7rrkaKISQj8hsXj0/fQeykraIaZVm1Xr2G7bvMqCuHGjUfl8B1LWjf3jp+VPKG8oOyhs9rr+ZUk7xOOUU5RHTplqTUo6p/FL5Rnlpy62as2bwVX0mLMeDDUANv2NlNI1XLi+9iLTS6RdWyj5CbqkDqs4CTQ7m8Hp+k5mTV8vvC4mQGBO3rsMTUy0dAxuBOVOTZC6DIMcC8aPW8kE1QD2ZoMbG1UXTan6EJvM/Bdb24jJkrt9j5uzUzB1nDHTt0OUAVYgzoM6yNC5XI2i61qFL3jRHcM6Ykzhk/s9jnOgxzl4EXgXphx56SLRoBqRhsIabbroJ7777buSp0aAmXEbE0RTNHmT+T9bVAszbrLmPjF3FjzAYCdwRfX83XyVkXkiE+N5tlUhcXWoGtI7gZ5+vc0BC2r07baNfeKmXdqnU1S8izL7j4GRDTRj11WG55txRYMH0DONwbTnvRbZSduTIP2yNQv5XSeQHTh8JYtWCYhlJs9PWVYUEnKUgtWHUVvtRVxPu0lxTE0RtbUg+BAHaXwl8/8liM8DxAPqCFIRZN864OlI3DjBH1w6yEgmaDQijHuFwgwFVtuxwEOGgs1OVVmoYWL9+PW68/gaJqNSzew/cfvvtOHHsuNlYg4DkXGfuYf5Rr45Q2IdAxLMj+l7u7xcMBwSoWwPz5dXH3058GRa3BchM3I/NxcdFgFCgUJhEBE1NyGHnWJy+4LHHXY+tPhHpFyHU1oRRW2OU2Uj/qW1BfU1ABr6Vf0J8Amh9jTiNaV8UIWNkS9sA7QO2FZ8UbZDqOTVmArSMBvg/C+EBNCjzz5ypR3M90EDBdhpY8lsByk8SDKJo7BbwHhmSNmlVCLVbXczPiGwEzIi7pDZgsu0NyeNmRz3AH5ZR6BOPPo7+fQegf69++OyTzw3e2h0gwNGquZ9ey7SCyJIV65v5AwRqP4KhZmHepGveGUQvWuyrEJiVtE5agPkzcnDisE9Mpx5Ae+xxe7h9AF1bHURtjQ911X6Zoqg7C3H4O/R7hcQWiQKzYd0jXEzcdjAHaiRykR8ozjqE/NSDaFYTV1UIjTR1OwBdXxuMU+CuxapBM3ZADeeTzgDLZxcLQPubo5qdVfeWYPdIzNoMfhHBNv6jWq2jxbLCnDlSmmIFKxW3Caq8jL/VMh0A1i7LQN9uQ3HnzQ/i6P6zCDlKsaR6nSrOumTCYVHOI+XRzM2NGlmLVvJrCaDpHDb9p2ScOR6SwXhtpTHHeQDtscfn4/YBtGrQBGj2L/p0pKzaiR2bj8es/lGACDoxNASgTTQmp79aAF2SfVgAWhxCKqMArSOChjqncF2YKytbRIumpzudA0I1wNTv16PytC9GG+u6AG2DVxwgcyrEBHgx4EzN2dfMTewjh6JA2mycFc/8ARzbBxzfC5w8YNIT+4BzR4DDO4M4sDWAlx7/Ht9+uEzO/7kPOLoHOHUAOLYXOKb/7wPKjkMGoZHpZ2uNI8Pa8h9fC6M3KbKbMkdB/CoEZiWnjsPNBqBPHQ14Jm6PPW43tx+g6+v8AtDi23HOAPS2jUcjItEOaCIRPG0NOqLB8KSYCo0GnZu833imSacNo4GaYmUYNVUBT4PmpH89UFXlNwKNpsHTwNKZhfhj3zkPoIXcwOwCaDY1v9FKSTJPTAoBjG5IsDxxEMhMOILZv3A9ezomfpmBaROKMG/qdsz5aSt+m7AJsyZtwewft2LG+I2Y+/N2LJ95AFO/K8bMiZsx7ftSuYbpkum/y7X8f/aPW7Boxk5Mn1gsef74dRYW/bYdG3KrUMFgNgRpZ5rZbF3JPcODxnM85iNe3QAtI/gW4NdJiaJBV50DmhyfEw+gPfb4fHx+gLb7DwFa56Bp4k5asV006HgArQf/octUIlPRLoDOSdonc9Bq4qZ5m6MCatB1NYE4Be5aTICmiZsAXXEa8JUDy2YV4cyxOjO30GUB2g3IbXEA/hZHW2YUNscUTY3u4K4WzJtWgnm/bsbSWfuRtOw0stdXIz+lDoVpDShOb0ZuYiMKkv0oTAmgNAPIXteI4rQQ0lfVYmMWUJQaFOa5/KQWZKyuk5S/85KaUJBaj+IMk1f2+lqsWXACC37dg9mTN2HW5CKU/2mc/2Lmu+kexolrWTx8FYMzie/DV2gBpk5MwNkTZjkOp2w8gPbY4wvx+QFapoMdi/N5AdrWnmnFbhOgnWUXauK2Abq2MigatDiK1YY9DbomjOrqAOrqwuB+G02cWzgDLJqehz8PV5l69AD6PEyHMOOIxd3RZMmBn8DcjDlTSvDbjxuRk1AnoJuX6ENJehilmSEUpjYjL6kOBSlNcnxjDoG5CXnJfuQltqAwLYTitDByEn0oSA4gN6kFuQk+OV6UGkJBahCFKUEB9vzkeuQl1yI/uRGFqS3mfHJA8ktbVYVfxhVg3ZL9YDH9XInlfNMWMXmrt/dVTE5/DzQYDfr0saCEJJQpG8/E7bHHF+DzAzTxkgotLc7qxS1LlM8BySt3RE3cFkCbbZyNSt061Cc7LC9sMQBNE7cEKHFM3FoQArSnQYdFeyYToGnibjoHLJyWi9NHa7soQMeCsPF6NjsmRXf9MrtKyfEW2rHN5iQhH7C9tAZzp25CwpKzKE4DCpIcTjbAWZDiE2BWzk/xIS/Vj/wU/0WnvLcozYechBonPwPo+UlB5KwLoSQNKE0HVs09ifGfp+HMUQePxSLPd2l0thV13lz2eb3Kvq4OyH1Gg6aJ25uD9tjj9vL5Adqeg6YXdyP9togTFUDi8m0xJu4IOMiyFnPQA+jLZA+g3RQL0O59hVuF2NQdywJAbuphmQOmJlucCuSuiwPQ1HoFSKNgezmck9gs+VEzJ0DTHM6BQVGKeX72GiA/EWISn/xdLs4dd3Zzk49oBhnxdsbS7S07PXkA7bHHl8EeQHdq9gDaTbEAbYMzqaUlur+4bNXpmLWLck5i5i8lyE6sQ34yTdGcMwbyk4H8lEBE4xVQ5u/kEPJSIJxzicx7C9KYhpCb5EPGumrkpTQia309itLDKOA1iUBJOpC9PoTCND+mTMjGn39wVBENRMNoY/ZSRTttm7R+Opg8gPbY48tgD6A7NXsA7abWAG2W8Rkw8nPPbWe/YcHtFmBLYRXmz9iCwvRGmUcuzQRSVjShhI5dFjjnpRpzNgE1LxnCbtC9WNZ88lODyEttwoacAHKT61CcEURuIjV2IGe9GSwUpQGFGfX44au1EmdXrNvENwdn+Y7uvafbJg+gPfb46mcPoDs1ewDtplhwjmqU5sV1G86Q4xV9/CAwfdIm5KfSozogjlzZ61tQRC/rlIADyuQmk6YEYgGWYM3rLolDyEoC8qhFp4eQkdSAvDRyPYoy/chOakROUkAAvFi06BbkJrEcNfh1Ur70ES5XlHjd7Sb3AKaDyQNojz2+DPYAulOzB9BuigWgyMYUzosTmJ01+LKV6YyfSpG5rlE8rgnO4nmdGkR+WgD5aS0WQBvtOSfVDdAE8dZzy+3ilAAKMhiDOiz55qa3IDelEbmp9chKqhGQViAvTDUATW2eXuMLpu9FytpDjsOYBlpxasCyGLQmD6A99vjaYQ+gOzV7AO2mWACKzMU6L855ZwXorRtOY8bPW5G1PiQac35qGDnJPhSkE0B9yEluQg69rBWYhUMxTAA1JvCLZ97LPLKSAyjMAnLTAkhZV4OinCBS11ejIMsMFFTjzk70oTgTAu5pa+vwy4RcnDttTNoSu8R5VTvwSpTcwOwBtMceX/3c6QHaKWAr1g7tZvd1Vzd7AN0WRUHI7/dHTNymAZrNymdOyRYQLkgFcpJCYk4mUCtI56Y0W+AcC8w8psAZBV06kSnrsbbPE2gzExpRnAtkpdTh5wlF+OrTFORmNCA7tVEGB0aL95s56pQAshJaZCBRmB7GigWHkJqwA356obPbOB9WTd7R/aZtIL6aADpW6LQPoN393c16jfu+juL2yKV47+CxYXfduNl9/TXKMX2F4OwG6IABaAYA+jsBuoEhAWtCkVS5pqoFjfVh7N93FC+PfQuDb7oFgwfdhocffBqF+dsjIUN5X01VEBVlPlRXmvxqq0No4sbiVUEwJDN/83++OI8z5fXm3gAa682z+X9LM1Bd6XdCkXJLzKCcZ1pV0SL38zj/HzZkFH4Y96vkrc9V5jPqWZltfQjnY3RtgOYLUh3WaO/RFzSJaWQhVZn511lHfHBnEHOn7HA0WWrCbjama2qtBG0CIz2uc5MJlCE5TtDk71xGEssIID+9EdlJ9chKrENpDq/1yz1ZCc0yECjMINg2IT+tOTIA4PUb8lqwasku9Ov5KIYNegY5aadRmNmA7ORayzHNmLrVc5z/c978h88TZKMJqQLrwyo4m32j3UDs/t2BFAPQSThz3InF7YC0afdxhK3TBySqIIVQTRhJCbno3XMwbri+N4YOuQV33D4aH3/0FbZs3i2ygPKCfdPsgsfNdkz/Z39jX9P+XlXBa0w/5DGeo2xg32a/177J8+zbFWXNERnEfm/2CTD9XH/rO0z4YRr69BqGc2ca5Fx1pU/Kw3yi8gFyf2V5iyNfwjj1ZxXee+czDB96J26/9X4cPnhWrlGZpdeb50aPm/IZWcW8eZxsZJYpn3ln8yz+zzrS8us52Q2pOijnfE18li8i35gvU95PLi7cIXXC+lLZt2PbIQy5aaR8I96vdaJ1zjLqu/M9eA2/g74LU17D1DzP1Odzz7yG6//VC317D5Vvf+/dj+DHidNRdrZe6pXXsvz6bbReojLXpAf3n8KBfScj34n38R31vfVb8hzfacmi9bjtlvtwYN+pSNvQcpLNe5v343vwN59j6tzUmb4789Y6N+3TYAZ/a9mZ8lrznX3yPOar76H3av+orAijgWVw+oYANNtZDEBvwa5NRyPhhCNY4ezmd0UAmhXGgukLRTtLCCf/LJdOOmL47Zj26yxMnTILDz3wBDZt+B1V5UH4GoHyc82igXDzDu2kzEsbsnZW5s1KYePhC/N6/XgGtE2HLz/XJI1LgVsbqGkc/khZmY4YNhrjv5+GsrNma0g+Sz8y0xiB1BZAOyDddQFat4GKnWuOAjQBSs+HjOd2AMhaewrLZh4XDdd22nIzNVXjYW0ANTOhHqU5IePMRcexFKN18xyPydxxlg+ZidVynsC8IRcCyARjHuO1BelBZCU2oDCzCZlJZ5CZehDdb7gLQwc9htyMP5GTUo2iTPPcGHCm17cz901NfNbPW2VzDu1kkU1nnE4WA9CRD286X6cgN0CfaDHaswPSRmDG6QsugGa/TU3Ow3X/7IGvv/oek3/+FZ9+8iUGDhiKIYNvRn7uJgE69lvKhvJzDRHAZv9XEGO/Y3/mMRWs/K0AoiCioKQgr/1b7y072xiRCZry+u+/m4Lrr+sn/zNujq8ZqKlujsgRHQBQ5lDeMFpiVUUz3n3nYwwbejvWrUlHZnqRyBhex/KxPCyrAh2PqUKhIEA5x98mT/OeKqMoM1kvBAGVTyrbVNlg2ZgP34XX8/n6TgoOPPbZJz9g9Kh/y0D47Ol6kYd85p5dRzFq5ENITy2KDFrIPHfuTGMEfOzyRuWnAUwjc81AzYB3GE88/jxG3nE3Jv88A1N+mYnH/vMMbryhjwxmCEhU1FiH+r0UJ8xAgHUdEmDudsNApKUURsBS60YBnim/qQHBEFKS8nHz8Lvxx+Ey+Y4srz1A0kEff/M8z5EVWxRT+Bzmy3fTsilIa9sxbS4c06aigw6jXPIY65L5Etvqec7pH9qHOgSgmbKi9cNqJ2FhsrOK0L/fYKQkZ+LsmUoJdcZrBIQJ5ufMtXxx7WDa6FgB7GisBFacjiLtEY1WIhsAR2zMi0KAHYrHyGwgPMfGS8FgHx9y0+349uufpWJPn6yVimT5+Fx+cObXlmDyAJpkAPhCAO3WsBnCesb4EqStrDcAHeO4peAc1VTleFoDirLrkZ1yDnkZZ5GfeQb5GZWiFaevI/D6xamrKKsZBRn1yEuvREFmFVLX/YnCrDoBY2rdpdlGoyYXZ4UEiNMTjyMr7RB6db8HQwY+gdL8WtGysxODkWVYUWBWx7Qm5KfWY92iE1i3aI+8IoVi7PJnC6BjPrwCdCcA6csEaAn9K5amENauScGA/kOwccNWVFbUoqHeh21bd8uxt9/8WPJhX2T/ozd/ZXlTBCjsPk85QJnA/keQUWAm2Jj+bmQOn6kDcvZ79umKskYnBLEBNR5jv6emzL799ZcT0afXEDlGrbiivB7+FpM3ZRDz0sGAAYOAxFC+adDNmDN7sfxmuRV8ed3JE9WSqnBXYFHwVGa5VYGxr2eelFn6HszfKBmUcQZ4OaBRsOO78H9jwaSlgc80973x2v8w5r7H5BoFRqY8x7rltfY51jnLo1o5y651yuMql/lbAV+Bls9//rlXcf99D6OhvgU11Y2orGjAm298gN69BuHI4ZPyPLIOylS+q7WAsnfHtgMY0G8EVixLjHwvgyU+KbfKdAKtvguv473Mh+9g6s7UMd+L9azPobVENWB9vhlEmUEA8zl7ulaeq3VM1rZ07kydpCyH1p1aj3mvPs98k7CEwubAr6qyEwA0C8kX5uhEAc00bh/SUnPRo3t/5OUWywdsagxJRauJgPey8sZ9+4uMhmhyfuiBp7BuTWbkpTm6evftz+U8TTT33v0fMdPwpXn/mVM16Nl9EObNWS5CgGb05599PfIR+dEf/fczcs2tN9+ND977An8er5CPMWzISHzy0bf45KNxuGng7Rh5+wNYOH+NlMkeBccTTB5Ak+ID8HkBOmRilk/8LEuidZmAIwrStjnZgCFN2xvzgOzkKmQmn8KUSRm4bfhY3PB/92HETS/i5eemImHlcWSsr8GGvCBu/L+H8NjDn+PVF37B0AHPYejAZ/Dfh7/BumXHkZlQK/PbhRkh0bBfeno6Bvd7DiOGPIM7b38a1//zFowY8hRy08+ImVyCmLQC6OiAgQCdsaYGU8flyCtK4JJIvYQQCrc4AO3+8HHqpaPoMgGa2gL7IYXfqpWJ6N1rAIoKN6CivAb1dc3S76lhPfHfF0VAT/1lDm4ZMRp9et+EW2+5Cz//+FsEPAzAfCRm0tdf/VD6Ms2Y1MaO/VHuXGPAk/307rsexqABt2D0qIfErMr72a/Zv2ly/XXKXLz/7ufSzx979DkRkD9NmoHuNw6IPHP2rEX472PPYvXKFIy573EMHjQSTz3xKnbtOCICuTB/C3r1HIi+fQaLKZfgvmvHoYiQX7UiFY88/KzID8qvWb8tlXMENQJ3755DMfmn2fjwg29Efj3x37ECJv373iz3vvzSOxg6+A6MGDYKX3z2A1KScgVg+Zz/PPIsNpTslHLyG/D/p598WeplYP+b8eTjL2Hzxj3yLuSvvpgg70ZZ16vHTVIHhw+ewrIl6+V/HsvN3iDAwzLQqvHk4y9LuVh+ykGWWeXyW298IhaHGdMWyfnBg+7AV19MkmsMeLeIBv3AmEciAE1rxNw5SwSgObXBb3Vg3wm89MJbuHn4XSKDn3vmDWws3SP1x7pkmW8aeKuYyFl2fjPWfeL6LKmHtJR8keE8P2nCNHz2yTjceH0/YQKvKmvEirff/BQ9uw/GrTffi1fGvo8tm/bJu772yv/EgqBaMK/n/xwY/DDul8ggbtGC1VL/bFcPjnkcv01fiNMnqwWUmbJ806bOw0f/+1q+4dRf5uPs6QaxDLI+xOxdGUYTBxiR6Z8OBGi+qIz2uMG7Y6I2o8gwjv5xWjrio488ge3b9qCh3hSSBeaLENSff/ZN3HHbfVg4fxXWrEoVwORHYaNi/kcOncbDDz4pHYsV88Jzb0gllRRtl/NHj5yVhscGPu7bn7Fpw25sLN0lz5kyeTauv86YW5j37JlL8MxTr0hF8142Cj7r3bc/lfPsLP36DENx4TanUm2OI6C6PECTTEOKD9DGvB2JJOa0u3MngCnfFkmcawYAEeATgOYaY13vbLRogiTXI+emVeG7L9ZjQK+n0L/nk3hg9Be4deir6Hb97bhr5PPISDyHrOSzGDzoPlz/r8EYOuhJPP/kJNw98k3ceN1ojLx1rNG60xuQkVCO+0a/hZ7d7sKAvmNw2y2PYsTwe9C922AMG/IAstP/QE5qpXEQi2t6Vw26CdnrfPjpy1zpL7rkyryv8+5xAVqtDiZOeYfSZQI0p6lo1uNgmgPybjf2RknxJglIU1vTiOPHTmPQwGHSxwjQD4z5DyZNnIoZ0+fhqy9/QM8eA+R/Cjd6+I998W0BxOVLE7Bxww7Mn7sCI4aPFKFJJxsKyokTpoj1a/JPM7F2dZrIBfblzz/9Xsp6/GiZABKBmXKjtHiHyAQKYcoICmVqz7x2/rxl6Nd3iAB4dmYJsjM3yECdQEogY14pydno3q2PzKcnrMsUpYDyb/nSJAFgKgY07zNvyqJffp4l8odyhr8JwAQWloFMIBg18gGRNVQsKG+oOFCu3XXngwJIlG/33fOoDELM84JYuTxJAHr6r/OF7xn9b9x262ixAlBj27Z1r/j73HvPwygs2IS83FKcOlmBP46cEu2fA4zioi1obAhix/Z9YrJ/5OGnsWpFstQz6/TF598UUCXzf4Li669+gO1b94uMZJm//Hy8sUbW+fHM0y/iP48+gcaGFrGY1Nf58M3XP+C6f3bDsaOnsO/3PzDyjnvx9FMvYemSNViyeLV8Y+ZDcOZ3T07MwQ3/6iuDNw6Ift9zVAYlHDSxTm675R55dlHBVhlwsCxsT/yOvJ+Wqz8On5HrOGhZsmitvNPjj70g12zd/DvSUwsE0JmHashU3pj/oQMnxbLDOmWbGf/9FMEftq/+fYcLJrE++AwOJvicieN/xeaNv+PQgTMyoDGWkYBo+bQMV5SHBKQ7HKAjpu2KkBRG7fLGnh9CQf5G3DRouHTSd97+n3wwY2o2TiXsSARZ27TwzlufyFw18zcat5lHYcOmuYFgzNEiK42dgJVGrZnzCOxUOoom+H74wVfysWnC4KCB55jyXo5E2enYYJk3OwI7Os1gaoLyAPoiKQLQxrzr1q4Z2vOPfT7M+XGHxNgWgKZ2SlCWICGcW44CdOZ6H0qyg1i5eK84cfXt+SDmz85Dcd455GQcwTNPv4GePW7GJ+8vRW76KQwfPhI9evbD8kVbxMxdWlCO0SPHovsNd2DmtDSZb/7ms7Xo3fNOjLzjUaQk7kBe9kGsXpWDgQNGYmC/+1GcfxoluY2iRUe0+pi5aBNARRzcEoAp35TIblCqQVNzVgA29eD+8NcOQJedMaZj9pf169LQp/dALF2yEtu37UZiQir++9jTArjUhsTcWeOTqS4yzaEvvfiGzFty8H7mdJWYRx/595NyjtfS6kbTOYE8OSlLzKb9+w1FYkKG5EH5QOCnQOZgnP2eMqLbDf1Fa+MzWTbKFzVx9+g2UGQAZc2vU2eLle/kiUq5jnLrt+mLZU5U5Q59aXr17I/585YIKGmet4wwgMDflDusp++++UlkCAU+BToFPGWTyjdTlwEBKJZFTc379h4TMJ/122LHvByQQQoBhIDF+3kdr+f/ZGrA3bv1k4FRVWUjmpvCePutDzH6rgekblinBG7+T8CmFSA9LU/egfU8oP8wqTvKRDJBic+jls38VQ7bU/gK82oAACYiSURBVIZ0CqM1RMzW9TRxv4x77h6DvXsOYPeufVi6ZJVMa77+2jtoagzgh+9/xqOPPIXysjp5bnVVk/DI2+8XGc7nEKj5vdhG9N35TFoTOEAgUPLZigH8LhxQENT5P783rQ8sq5r/1fTP56g8J25Q8+X/fO9XX35PBgu8nt+fYM4BH59N0GfeBHvWybE/zsk35v+sg6i5Xh2aDQCL1ZUDV/pLVYQ7HqAFpJyJcRamyXGaYIGlIVU3S8f76cep8uFo1srL2ShzGTSpsKGy4bCxMNX/6fXNBsDGtXvXQenId40aI/dTK//0k2/kHEe47AQzpi2QCjTedc2Rit2yaa8AL0c2LI+ag1hZNLl8+81EyYcgTYFAcxcdQgjozMcD6IukuABtRRBrAQ7vbcL8ybsF3BhrW0BPwLk2CtCOWZnrjmmOnvj9GvTueQdGjLgbH3zwOd55+wu88fonePTRZ9G390i88NSPKMg+jX79B6N79/7ISDwt+RCQX3p2Avr2uheTxi9DdtpxPP7IF7jhX8MxafwSmcfOTCpD6voj6HHD/Rjc7xnkpJZJsBKawt2BUmwtmub5wiRg8lcl4sl9XoBWI0PkB9dmka9ugDZzl8bMSNDs0b2vmLm7d+uNPr0HyPzzzN8WRACGVrUvPh+HO0feg+HDbhMnstF33Y/qqgaZC37j9XfxyL8fR2ODH3W1zaiqrBf/FQLklF9mYM3qRNxwfU9xPCOwUuujOZKDcQ72qV3R6kaZMHPGIhHsOm9I/v67yQLQCnSLF62SfCjkCdo0e2akFYtmTNnBdz97plqUjPE//CSygrJj6+b9GNj/VtGACTwtPuNstmZ1Mrrd2BebN+3CubM14jDF9+dAQ+UZU1oFxv8w2VFyWgTMKQs50KDw5zMIwAQoatPG8hgQTZ0Aefut94omR1nIOjFTiAG89urbePCBR9HcFJQ6pdm57Fy1+AL063sT8vNKRMu9/ba78Nab7wuwEzD5DpTTrAtq2yzj2JfexIMPPCZllyVCDUF88/UEDBl8qxzjfU8+8RwG9B8s37pf30HodmMvvPXme/LNKsprcestd8qgjfU3+KYRIt/5jJtH3InXX3tPvs3B/X/K9yNAsy50rjcpIVuOc46av8lGJgdE22bd6GDv/vsekbxZHywfB3H8TVP7G6+/L9fQ8nLLzaNkwEXLAgd969dmCJhTm6aGrdMHxA6mbFP8LmxX1N7ZrjiIYhnY9o0/lLEKs32L8x9XJ3GKtDM4iRlHh0BkY2oWTjw7nSUQ7AhsBOxwNHnww3Ckw/toQuGcxK6dB/D73iNidmG6d89hWZ7FRsKRHwH7uWdfQVZmITaUbheQ/ujDL6VDcMTMD8WOQhDmB2RFcO6AI1KaL+zJfZ5TEOfHmDD+l8hono2Oo/cXnn8t4qhwQYDu0sus4lDkfWnajWrPGoObh47ub8G8yY4G3Qqg6fAVBejc5LAc++R/c9Crx23o3n0gbuzWGz16DEavniOEqR2/+NQUZKUew9Bht6JbtwHIz6hBbkoLCjKr8coLP6LHjSMxftxC5GQcxajbx4oGPWtGmpi8eV3qutPoft2jGDHoNeSnG82Zx+MDtDHLs+wlqcD4j3NjsNaYtg1IX+sAHV0yFBJwooCcMX0OsjLzxPek7FxtBNROHCuXQfGY+x/FurXJ2LxpB154/hXcPXqMAAlB5qUXX8PDDz0mAMNjBGmmBJevvhyHX6fOlIF+ZkYeDh44KtrXzu0HJaWgJ7hxQM6+z2kz1aRUc/326x9F6LP/EwxmzVwoGr46CXGgQTM3AZqmUd5LcOLAY+Zv8wSkmM+2LQdEoNMMK17gNL/X+cViSFDIzCjAsaNnJO9FC1dGZAyvIQ8cMFy0Sy0XBxWUYwvmrRQ5xbIQoPkeZsotIKZz/qZGSFOwzNH2vgnLlq6O1BWtlARoDmz4m3KX/2/csE0GOelpOXKcYPnRh5+b96k1ihTlNMv+3beT5DcB9D+PPh3RelluDioIgPJNa3x49pmXcOstI1FYUIopv0xHr579sHLFWlRW1MmAgcD8ystvYveu/di543dRtijbaY6n6Z3vtXf3H6JBE5D53mptoMc8raM8r8CtzmMESQ60qJnzHVhuWg927tgveLJn96EIltDqwrIfPvSnXEeLDAchnB5Q4Odgju2C0xx7dh3B7p2HIymfT+WPWja/OS0NLI/xuo+uFjKDh7A4QIuDmK6D7miAtjusLLmoNJ3YeC+akRYbBTsdGyUrgk4IND+zUXIOhRVIQGbKhqIjI3oJUnMWM3RVk4DoPXc/JFour6XpgXksXrgmAsIsFzVoflw6UWgHlcFCBZcPGMDm3NC4736MmNKY33//87yYxjgaMp1HATo+UHsA7aI4AC1Lj7gBlN9o0DXngKnfFYkGzd2icpPMMqmCjEZZ9pSTTI/rIIo4R50alqVT475cg749x+DJ/36A4oKjyEo9ivysU8jLOoLcjBOi8Zbk1qFfv+EC0PTgLkj3ITv1DN5+fTL69BqFzz/9FUW5Z/DvMR+hV/fR+GnCWgF/mrLTE06h2z8fxs03vS7z3XQ6owbNpVnFWQHH3O0XjZ7llQFEEpC+0i/z6Wqtlm0mHQ06FPZd8yZuXa5CXxSauKm5FBVulP5eW9Mkgt6YZsMyH0yAIXDxHDU5gsSoO+8VbY8APfal1/HE48+ivKxGwIWC/ugfJ0Ur51LN5cvWyHxwdlaBnKegZF9mn2Y5+ZvTXjR/UpCq5qxCn/OLRv4YjXne3KUCovzNa/i+meklYuKm5ibe0RUN8sxZM+c7S7Iod8oFIObOXiZySmXTiuXrRTMjUFNTIyAsmL9cZIxq0GR6hRPsmBfrh3KMWhvllsjMSp9ozpRtBGha/ajNcf6X56i9UfmgNspn0rzNwdB7734iJmVq/Qq+LBsdtvieHDiwnHePflAAmGXieb6jDii4XEq9sf/98BPyzryOKeUltX/xJ6rxiQZNiwe/Jb8pvx/XwB85fEK+5x233xOZwtBBDFNaSwQXagIChAQ+nQahAkVA5Hw/358DMH4HnuO7MyWgsr5YTuatz1FZzpTMZ+izWf4XX3hdMOXJJ14QjZptQtrBnOWiHROg2Q70u6hSx4EBB5gcSFDbZrmNB772CaufsF8QnDsDQPPh7KQsCLVoLrvgCIIF5Quws7Bi2ID4cejkQGDkpDo9MQmi7CQEZTIrktfSPESzEU0XH7z/mTR2VjSvofn7s0+/lfw4quGH4pwEG7HON3HkwwZNxxF+VD3O//nxWVnqEMBGzEECzytA8zw7igfQl0Y2QEucajYrR4v0NwCzfyqRfZcLU4BiboyR6hcgJmBy6RSBmUBIL+7S3AAWzt6MG6+7BwP6PIR5s3JRlFOGgqwyLJ63AWkJx2StdE5KLQb0vwP9+98iy7FoGqdH9puvTsJ1/zcMP09ajpy0k3j71Rno0/Me3H7LM0hacxgbC+uxZEEp+vV6CMMGPSugvqWIEc0aBORZLi674rpoRjxjaFICNHfbylrTglVz98nSMcVaA9DGvN8VAJq/qUHQkYfm3eKiTQLQ7K8630d5QY9gatBqVeM1b77xXgSgqenxNzVA1hVNpL7mkEyP9e0zSMyzB/b/Idrfy2PfMFYvZ2mlOn4yb8oEmiepZSkw8xoOzlWDphzgOTqo0RSq91MQJ6zLRr8+I8QDmPdQyHPg8fNP00Um8JlUMLiihE6rOl9OpjmV4MtjJ46fE8AjQFOmUdtTGTZ0yG2irDAvyi1O1bFcVDR0HpZzwTxGTZrgwHeiVYDvw3uofPA8AZp5Ul7Sp4baOZ/HY5SRBMOiws3ynrRIsmyUn3QSo1mbQM7rWU6a5EuKt8q7qAZN+ah5cVDB/CnTVYEyy6z4XvWiIROgOVDgNZ98/LXkuWnjThmgMx+xfJ4ok/xUM+XAjU68pm7Nsiaa84kPnINXGa5ATYcu3sPvwXp9/71PxZpA7VmVPKY6+CBo87mpKfQ1GS4Oc5xuUYWNPgDEkTdf/zDSVvhMLQt9CnR1AAdlbDvGu/4qAGgBKselnABN5rwU3fFpRn7l5belMXIemSMiesBxlMQlE/SqZiP75qtJWLp4nThZEDiZNyuFI0Z2apo7OF/A6wnw9Ow25qw69OoxBPPnrop4lDNl+T7/dLzME735+seYN2elLBe4844HcfxohcyR8zk0F/EeM1IKyrIDuuQbZzdPg75UigK0E/rSAuiWBmDBryVIWHIaWet84qnNQCI5KdRSmySICAEwJxEoTAeKs1sEWMc+/x2633gb+va+E7ff8gRG3fECul0/Cl9/usp4fKcHMbD/vejR7RbRiEtz/SjMLsfzT3+HwQMfxrivF8vcdOLqIxh608Po0/s29O87Cvfc/ST69bsZvXoOw+BBY1CYexJZyeXOgMEEP6EWLbHBk0IyoGDZuB3lwmkHUJx+Tt5JndUZOU2jp8UHaFaEzs9f3QBNnxMNWkENiCBQWrLNmEUd8yEFGf1S1qxKjyyVoYcx/UioAVLLpMZHIUpZwTw410ngoYCnIxRlBwGBQPK/Dz4XIUsAocbJfj108J0SLYt9lv2bS20WLVjrzAuawBPk8d//KpHEzNIcPxYuWCFloFlcl3Clpxajb+8Rkp9o39XNUobp0+ZKXZiAFEEsXWycuCij6IlMGUatmvKN9xFU+b5cuqOWPQp/yhvKMA4WmA8HBdTIb7x+ABbMWy2/WZaSop1ybNOGvXIdl6DefdcjEtBj7eoM0OObz+O8OuuZ+dPTm8DFpUicz6ajFUGG5npqf9QQeS0BiYBPhYkDK3rCUw6/MvbdCGjRieqB+//rTPUZUzyXJHHeXx3LnnpirIA4ZTH7N9+TAanoKEcnNy6x4nw5cYAWFJaJy6jogEaQY96U4ffd8xjuuG0MFi9ch7mzV8j3Wb0yTWT7oQOnY9Y189z0XxdK3fO5zIMgzihv9Efg6h0+m8/gyhy+j2kHpj0ST7he3FhXzOCSef8wbir+9c++ePH5t7F+bRZ+nTJfyrShxCwX+/N4VQRrdF34VQHQBDNxDKNp2wleUFkWwJ/Hq2VdGpdR8QNRG+YIkZXB6DW858SxSmlMnIsmYLJBsLGw8tgACNLUaFnxXFbAdZP0tKN3HudhjhziMisuy6LZISSVZubFTTSanybNxP33/lfWrDElaO/dfUyu4do+juqNQ5t5Fy6vePyxl0SoeAB96RQPoJ0T0iCLM05i8W97kJfcIuE6CX6qpdIBiybufGfdceqaShRl14gp+6P3p+OOW59F7+73YUCff+Oh+9/HrKkbkLHOaN3UgLv9616Zz05bWyXLpd58eSa6/fNBWaZFM3ppXgOWLirEvXc/gz697sCwofdh7Nj3cOMNgzFi6GMoyS9DVpKJJCaxwtMZk7sZGevN2uiSLEj5uD3mr+OLUXbUWWJFrHNCiZnNM8LXfKASEUDVJrgHnasIAjTJmimikBOu0YRcJE+ZPFcEJAGKfiSci6QZlaBGTYjLZ7gsh/4pnOuU9cGfc31upXHEohWsqknmapkP54q5vvWLzybg8MEzIpcI0ARhCnvKAV2NwT7NdbyUFzxOpnMptSI6h6k/TUpSAfr0Go6NpXud4ChBuYYAzecTLAgKfC8+g/KNeRIwp01dELG8EaBZDmpcBAFqvSbwhw+DBtyGieOny28+l3KM78K10TzG+svP3SL3F+ZvE0AgUD/26Aui3TNaGOuba6wJTCyTMY37xWrINcuUkTzPMnPdMQcLeTmbI8CUlVEsy6woWzUmBMtsvl1AwI2KkE4JEmD4nVjv6rX+7NOvynphWhQ0X6YPjnkSd94xRr4FTdSvvvyBgDblMK2UBF8zb2uie/HduA69b+/hMghh6E8OQlgnnO9nfRqvaROidM6s5ejR7Sb5zbKwzJwr5gCD70OPbC6zopmc51h2Acj6sGAIo8EZ0DTr+I0XdlDAl0oc65jpl59PlMETz6syyAGEWaVk2n6nBmh+fDPX7Ji7nFE1QVon0Nlw2Dj5kfVa0wjMPLVWvHYmHVWyc+gx8+FNRci6ayfCDc/xWuNJpyFA2VCj8W75PyOD2RP61PA1NJtxZoua66j8aNzZqFByA7VhD6Djk9EcuZuVozkLaDmgxLXQR4FZk0tRksl5ZhPdKzvJhOAkE7QJuAXcHzqpWczVxdlNsoY5N7UGBRlNxsErrUrmrRnuk0uyGDGMcbhpGqf2zXlkCUyy3izd4v/p6yuQlXISRbkmIhk9u0sLT4sDGddSp62rMOFD6cSWaiKHcS227LIV2TCDZazD3F+LEazXj+q4cZsKcJLoQMVQJwFmpcsEaHUOZV8iyKljpcZR1hgJAYliFY38Ra2OMiDqxGU0MgYoYVAKXmccPs1AnX1f54hVsKp2TBnA52sIUA4E2N9VzqhsYEhf/tZ4Dez35noTYpPXcV0330mXjxLUCQA676sCXZfXMC9jkjbRzcz/Js6DEfwatcqUl6zP1dCUKgc1bCSfq6FP9bwe571MNVwozxkFw+Sv78zfLA9/axQtdWriO6gcNNZDI3/NoEPjWJj3MPUe3XNBA4PofSIDnZCh/J/l5HP1eSyf+U5m+kBlqYbhZDm1PnmNWlt4rZ43EcMI/tH3VquNPkvbm5Hl5hlRWW9Ccep7Kp7wPW25r3nr80wdRqNfaphpxQwe6/QArXO1Wslq5uY8NI+J27mz5Mp4WXMNXxDNbESVJqarhvdj5ZmPasDPjHw0rJw5Fq1Y8+GZl47QtZK1cesHZWNiHhrcnL/1f+0oej/z0g+hnSP6AVqzB9BKsaCjAO38EJINJMKmHQTqgBXzd2D1gpOijco2jtz+MUmDg0S3eCzKDKMk2+xyReAUs3cmkL7WxNU2MbobnTxCok1T06U5mtenruIe00BhmgFxAjhN1wR5gi41bQY64dpnmtgZDlQc1xINQLMMfEZJdliew3IxRvhvP21Bae5p6SstzT6EQ/TKNu+rg5JYb3ayZdbuDA3hMgG6qjwsA3JxDhWhFo0xTeZxWtMYvIEywQg7I6wVmKn9sU+zXxKgaeniQJvnFCyMfIluesHjUQCir0uds07WxPA3yyqNkFUw0GtVIPM3n23ki2PqdKbqGNeB9/I5fJ4BHB0wmHen/OJAQAcHIv8cpzkdFKhM0UEB/9d43/pcPc5nqExTAIjIVUvGcaChgwJ9D55jWfgcPptl4nFea+KfR0FSZSTvNbLPgDaZ/2tccJXB+r9aFM3z1Opo3oMWUR186DtpvbvLb8tVG6h5L99BZbMOQDT0qn5DvYfndGAgstjBD2KDflvzfNYNQ4YanFGtXetEvru1SZJ+Q/1uygrcBpfMuU4P0GQzv+J8hMpwzFIrBVkFVlY2Gxc7LEFaGyI/sIm1Gn15bWhsRNoozcgpep/dAHhM7zOjKhN6zW4gWtlayeyIHDGzLEyVNX9tSNoI3OwBtFKsZqjvKabeyGEHCXjCDxzfD8z+ZQeSV9aJ2Vi0Vpq7k2j2Nls8cj9mLnciIPIYAThtjQHJDQRa2VWKm1r4UJLDXa1aTJjOdO5kFYrsgkVQZ978n5o5QZsgnJ1ggHtTPj3JGyUvAnxpFpC1niBvdsAimNNTnIMEDgTS1jRj2sRNEqDERBCjw1eTvCXXfJPpFGMGKhqr3Jp37iwN4TIB2l5eyT5jtCTT30T4UaCyP1EYMpgRYybIIN3MAbP/Kpjy/1fGfoAHxzwVEd7s/2dO1bfSbGxNlL+Ndht9rgp1I5SjAZVEqFpCWLVGHpe8K8MiCzSEqQEEI7sMSDk7IfF9nXfiAIUBW5gKsDvntG6Y8jjzpVxkqnVmW/JYzkg5rE0rVPNUYIoBDucZzLOF63Id0OBxvoOfHtHn/DJI4nFaCFhWWjRUDrLumK/KVpbJWCkNSKq8jVuPlnOwrP+lFloRMo7CzjsqHrB8/J/n+fzys0YxYl7mOxjrqH4bBVF9Xx186T1aZwqyCrQK6sxLN8hQjVwHQXofr9V3sjFCrRs2fvC3YgLv5e+OAWiecwF0Y6XZfo5sGosBaB11aSVqA4l0XqczaMeWD68A7sxf8WXZuPnybEjyYZwGKPPaNabT8Dw/PCvPvLgjKJwA5Uz1fp6XDuw0LBnls4yO+UobkTYu3qcNTK5xnhv9AG2xMxp3ALqxDFjgAXSr91TzttEyQxJRjG1s3dLDSFlZicx1DQLARXQYc7aVJFgSZOnhTaDk/9wzmmBOYCb4ynrk1LAAtGwPyXXUzk5XssNVSsBsO5keFFO5LNtKCIhpXTRkLplKomZtAN1cH90kg/9Tg4/spJUFpK+pw8p5J7Gl0Gc5YvsRCjXKe4ac+WgOTGIDtri0587QENjfWd5mAnRKFKCtvh4dkFpAbfXxmkqnvxIUHCGvfbK6wlzHvqbWNZ4zwGqEpAhR3brRAQPZEcjaklb7oQ78eZ0ITue3ygM+k78JTGIJI0g4coPnma8839oxLyJ4nXKyzAq2CgRGkzQDfw3KpGBLoFFA4vN5L4/ZslDBXI/xN99N5VFEztCHx5FLWm4pA4HQqWMBJKc+NX+CMH/z2fLOziCB5SAwatn0GpXBdj2LlmrJXfmOLKtVFzp1qYpNRFZaO5vxubIRklMWtZZqmXiMz1X5a39/kcs0S5eZgYGUl1ZOR67Le1vfm8+QwZjzPbV8fCZTGxeYMn8+T8rmtBcZEDnvr4NIDmTECuJM32i7Ebxw6t7GtWgfiQfQ5rxYg1keti8B6M0GoFV0RgBaETuEf7QCDb24BSjNOoi85H0ugOaHMbtYyUMlmpZVoC7E2qloWWhg3bCOyoB50/Nx8litSwBrxUZBrGuSBVDcpbEBmDwuGzncHjKlEUWpIQHp3MQQitONBitadFoAWck+ZCUHkMdNLLjPs8Txdm+24Qos4mZ7a8tkzlUbM3YBPbNTA8hMbkR2qgFyHieAFxConahnuYmNSFh6HKsW7EG4ORp/+/zfthN/ewoDvkMTMHVCptkPWvs4U7GcUZDSdMh1q5ZQsgWRxx53MTbyP2T6icN235D+ofPb/F0JNHMAVu4A9IqN2LHZAWgLhKMAHcA/+K8z4DfUCqD3ilZIgG6UzmpG0gaguy44k2VUWn0xAN0JltV0JmL9BIDGcmDSNwnIT6lCTkIDClPCotXmJIQjpmmCa0FmGPkZYQHpzMQgctOM2Zsm8EtimrzTgcwEID3BJ4OAwuwA8jJ8MjDgUioB6CSgOAUoSqX2fBa//ZyFlhp3x7lKyQbo8bkGoNm/CcgK0GLG5PymBdAqgOL0C4897gpsgNcazMbRqNVvohVAVwLrV5aeB6CNxS2iQUeQ2QLokmyjQUcAWrRo83DxiIsUpuuy+TDtBehOqkV1IInDGJ1sKoFZU7JRmFaHAs4/Mw4354udqF101KKJmZG98tMbZbmUbPmYFjBz1ZfC1MoTG5z8msRELsFNGNWMpnMHnNNXhZG7PoiUFWcx/af0aNQwWet8lVMMQGe7NOgw6tSMKhGwTChDG5jd/cFjj7sOO/0kEg/EZuOfxYAv7DsC3lUhY+LmHDQBelVhFKAVpFsDtHrbOo4sMXPQjombAF2hTiOmYHWcH2hV4K7GUdOGzkHHALRV6YY8gI4lY1VoafYLSJw+Cnzx/nLkJdVJABOCtM4RF6aFxIu6MN2HzMQqZCdVyvIqown7L41Tms1SrVRGCqtFUVYzijP9sr45L8lo8QxFuiELWDn3KGb8mG983Oj8JeDcCWJpXxZxQN6GidsZeEYAmgKHIO3Smlv3CY897jrcluas/aW2xoS5FhCnT4E6iSlAbznSBkAb2fgPg9QEZwobBkt2nEYcgM69EEBbDiVdj+k0YEZQsQCdi5NH66OVfrWbQf9CCnCNHeN0NwOBRtMMl83ZhflTdyM/uVm06QLOOyf6kLW+EflJLeLgVZJOzdqPfO4qdcnsR3ZCAwrSmlGY2ozMdXXIXl+P4vQASjOAghQf0lZVYPrEUqycv9t0EXXCDtIZ7BoCaDqJTUh3ANrp4wRm9nk6xMhqBWoEnFdzODLN47HHXZN1qic65aPBqwKo5SYktU2orTM7cEWcxBSgVxafR4OOALTGBD4/QAv42ABdZ0zcZg62dcG7BrsAmnN15W0AdCuQ9rRprQO/r8X8y3bHpXblXPZUhXGfrsOq+Qdk3rc4vVlAU+anE4DcdUDOWmOCFk37ErmY66NTwshPCiI/yY/C1BbkJtZi/ZJjWDB9KyZ/n4Yje4PSH5rrDEBL/5HveQ18vxiATnUAOupRrBp0DEDTk1g16FZ9wmOPuw63BuhYkK5hjPZaYwKnw1jEi9uZg96+JR5A85+L1KCjAO2o73VBebACVNflFkkbOFjxAPoiidMruneyWRvsa3TaH4HQBxTnHMO8aQX46as0LJyyF8mL6pC0wIe0RUAJ56bXXB7nrQES5jUgYX4tUpfWYfGvB/DTV5lYNHMDdm6q0KkgUzyWy/luTVyTcS18Pwugp01IwZnjxjFMAVo1ZdUIqrkmmEtZIj4o0Xk4jz3uUmzFBYkMZCPTPwaka2qCEUuzLEHjteVAQwWwfsUWbN9y/DwALeugDVLHzEG7AToSqMSai6ozwd8jwUq6YGpzLEBnx85BtwJp/SLXgJPRZVEIwRDXKvkRtKJwkcOsGgYec9ZL154BthXUYM28Q5j38x7MHP87po/bjYlfFGLiF7mY+EX+JaT5WPDLHsz7eRcWTt2NlOXHsW9zSJwiZdygTvdSJmNpkr2enV0xZJeuq52sddDTJiRFATpGI7ABOmS4jr9NX3D3Cy/10q6ROtNArTRoB6AZBIVrthWgnZVQEYBevu3CAK1B/eUABU9Uu0Zh9gHkpu1DLTNkjG1ZTM7tIM12cRqqT53FulpKZp1UlflQWxlEgBHSTgKLZtFJrNoD6Eshd31peySIOJq1jCVV8XaA/LJSd6AvPRfpNPq9HEBu9T2vYuI78F19wC8T1uDkH374JFCIpR2wzdPhRZhmOz+q61pQU+83prw2+oeXeum1nMZjntPokuTq6gAanAAr5WfCaOIyq0qg9jSQsmY3tm0+FpEz7j0LqAj8I3KCadAJQcgO6wdK8g6iIGs/qs8BtRVAdbnZIF02yXb2RTWFskcOXYcpvKoZErAGaGkEzp0MwFcDLJqdi2OHyzyAbhdZwGdTTJ058UKpVkeYrtSsPxs8L5Z5PzV3hugU1+zoKffzI+w+d3VToMXMr/P150xLw7k/TV+votUs4qXNZZWc0jIALUzHlzq/EUhx+obHHl/7zL5hNGqbI32kNoCmJqCsrEmwgtHJKs9AAhxV/gmkrtuJ3dtOyOZMlCUSgZBSJi5A8xrRpM2FlH+7tp6UiewmxqquA3wE5KqgyLWqMrMzilvF72rc5LjNV54Nws/dZiqBH8ctl4/RCpw9gHYR60AB0vGBkDqxYlW7gVJA2fKZcF9zsax5Cehbx22Qjnwrdai0ynm1k/Ou7N+zpyXi2MEm8TepYfRAArSG0rQ2qjCrOLiBAgWSpWl77HFXYvG/MAF8mEqcAIkXEGVVZmuJlQxbynnoCsPLFmTh6KGySGhgZ6faiBe3AWhnpUWrThsEzpzwYen8TDTXAmWnAqIlVjDAeUUIfm5rxtis9F7uoqn8z3lnx4GupgyoPgvMmpokQk+8k7U+I8JeyQPo1gBtr2OKA6atwNIFqpfCmp8JnN02twJptYVf3SAdCvoRaDHz0DnpO7B94ylpx+zzBOlIqE/dFIH/O22fAipev/BSL+0KKf2OGmp9DvvRENkPO8pmg5eATIHyHkYSqzodFoBeODNBgFtljNGPVXlzAJoHdQMrE7DE7OHLfxlkfd3KAmwpOSbIX3sOAszN7KxnzZpf2tOpVTcw4HuXSwEfA6c7Ao1TAauXbMCebWUIUYbbABwR9EoeQLeL3ECpdRhTl5dB8fLuMqSDE2NAoCXox+8Xw8e2fNr0dTqzkNnXuTxE4iFwc4xyYwpvqGSEJHe/8FIvvfbTCEsfMP3HzeWngzKobWHckHNhBImfldwudw9yUjYbg6Ajd+zlVapF/8MG55AzGRWiUZwHg8b0tXJxLvZsPm1iiJYDzeyYZwE/VXZ2Wmf7rC6XVgAVp4BmZ21b0ppN2JD/J4JUCGVOgR7KlobVCqCvbu3ritCFwNENoOe79lIobp7RUWzc667k8zuU+H6ONYDyIAiUnQTmTk9HFds1d2tiH6f3KU3eTv+Xtk/HUf3f3S+81Eu7SCrMQWsbTGxooHJ7FtKneF9p9n6krCqNCURIcBbcdSxzEYDmT2MC9yOIJoThk+3xuJ9tRMnzA0krSzBvWhLWLChB8vKdyFp1CKlL9yNjxQGkrTzQRdN9KEo/jnkzMrF4biY2Fh41lc5xjswpcCK6LTOoB9BCFwI857wbH6PbONpgerEcL0+zlOr888w8di2YuENOG3Xm8p2158cPBrBmUQmm/7gGWeu3I2PtTqSu3I3UFfuRtuKQtH+2/dQVe5GxYl+cfuGlXtoV0n1IXfW7w/uQuvIAUlceEU4mrzqE5BV7kbpqD/JTD2P1whKsmJuPjLXbgXoHJ2QVlemNdgzuOBp0LEDLGk+eoJMnYzIEzBrf37eWYWfpOewurcTOomrsKKxyWP/vOun2ogrs3lKJQ3urpY5kKa9OjdIj/rxCntTW8a5MUfC0qTWQBq4wQGueBGiXw1or4rFrA6D5ngF6N7IS9LUY2M0HVJ8B9m49hV0bT2J78RlsKzonbX5HSTl2FJ3F9sJzTl+I3z+81Euv9XR7cRm2FpdJv9haXIXtRdXYqlxchR0bKrGp8BR2bjiDI3tqZepIgJlMMUOHbEVoSzYRoI2TWExnjRVeQrZktE87JrEuz6yLWPQwHFOnHl15+ivq1t0Hzpf/hc5fLeR6j7b6O9nd7t19wWOPuyJrX7DT9vIFyAJojzzyyCOPPPKos5AH0B555JFHHnnUCckDaI888sgjjzzqhOQBtEceeeSRRx51QvIA2iOPPPLII486IXkA7ZFHHnnkkUedkP4f0cP3QbtMsPYAAAAASUVORK5CYII=)"
      ],
      "metadata": {
        "id": "Nsb7ASKDKUMe"
      }
    },
    {
      "cell_type": "markdown",
      "source": [
        "##### ❓ Question #2:\n",
        "\n",
        "How could you make sure your Agent uses specific tools that you wish it to use? Are there any ways to concretely set a flow through tools?"
      ],
      "metadata": {
        "id": "eH70eHGlJbq4"
      }
    },
    {
      "cell_type": "markdown",
      "source": [
        "#### ✅ ANSWER:\n",
        "> You can adjust the supervisor's prompt or logic to prioritize or directly select a tool based on certain conditions or commands.\n",
        "```python\n",
        "supervisor_agent = create_team_supervisor(\n",
        "    llm,\n",
        "    (\"You are a supervisor tasked with managing a conversation between the\"\n",
        "     \" following workers: Search, PaperInformationRetriever. Given the following user request,\"\n",
        "     \" determine the subject to be researched and respond with the worker to act next. Each worker will perform a\"\n",
        "     \" task and respond with their results and status. \"\n",
        "     \" You should never ask your team to do anything beyond research. They are not required to write content or posts.\"\n",
        "     \" You should only pass tasks to workers that are specifically research focused.\"\n",
        "     \" When finished, respond with FINISH.\"\n",
        "     \" If the user specifically requests information from the paper, always select PaperInformationRetriever.\"),\n",
        "    [\"Search\", \"PaperInformationRetriever\"],\n",
        ")\n",
        "```\n",
        "> You can also directly invoke the agent for the tool you wish to use.\n",
        "```python\n",
        "input_data = {\n",
        "    \"messages\": [HumanMessage(content=\"Please retrieve specific information from the paper 'Extending Llama-3’s Context Ten-Fold Overnight'.\")]\n",
        "}\n",
        "research_agent.invoke(input_data)\n",
        "```\n",
        "> To set a concrete flow, define a specific sequence in which the supervisor calls the agents. This can be achieved by modifying the supervisor's logic to follow a predefined order.\n",
        "```python\n",
        "def create_sequenced_supervisor(llm: ChatOpenAI, system_prompt, sequence) -> str:\n",
        "    \"\"\"An LLM-based router with a predefined sequence.\"\"\"\n",
        "    function_def = {\n",
        "        \"name\": \"route\",\n",
        "        \"description\": \"Select the next role in a predefined sequence.\",\n",
        "        \"parameters\": {\n",
        "            \"title\": \"routeSchema\",\n",
        "            \"type\": \"object\",\n",
        "            \"properties\": {\n",
        "                \"next\": {\n",
        "                    \"title\": \"Next\",\n",
        "                    \"enum\": sequence,\n",
        "                },\n",
        "            },\n",
        "            \"required\": [\"next\"],\n",
        "        },\n",
        "    }\n",
        "    prompt = ChatPromptTemplate.from_messages(\n",
        "        [\n",
        "            (\"system\", system_prompt),\n",
        "            MessagesPlaceholder(variable_name=\"messages\"),\n",
        "            (\n",
        "                \"system\",\n",
        "                \"Given the conversation above, who should act next? Select one of: {options}\",\n",
        "            ),\n",
        "        ]\n",
        "    ).partial(options=str(sequence), team_members=\", \".join(sequence))\n",
        "    return (\n",
        "        prompt\n",
        "        llm.bind_functions(functions=[function_def], function_call=\"route\")\n",
        "        JsonOutputFunctionsParser()\n",
        "    )\n",
        "sequence = [\"PaperInformationRetriever\", \"Search\", \"FINISH\"]\n",
        "supervisor_agent = create_sequenced_supervisor(\n",
        "    llm,\n",
        "    (\"You are a supervisor tasked with managing a conversation between the\"\n",
        "     \" following workers: PaperInformationRetriever, Search. Given the following user request,\"\n",
        "     \" determine the subject to be researched and respond with the worker to act next in the predefined sequence.\"\n",
        "     \" Each worker will perform a task and respond with their results and status.\"\n",
        "     \" When finished, respond with FINISH.\"),\n",
        "    sequence,\n",
        ")\n",
        "```"
      ],
      "metadata": {
        "id": "zT-af_yf4vct"
      }
    },
    {
      "cell_type": "markdown",
      "source": [
        "# 🤝 BREAKOUT ROOM #2"
      ],
      "metadata": {
        "id": "iktcBorGXmAW"
      }
    },
    {
      "cell_type": "markdown",
      "source": [
        "## Task 4: Document Writing Team - A LangGraph for Writing, Editing, and Planning a LinkedIn post.\n",
        "\n",
        "Let's run it all back, this time specifically creating tools, agent nodes, and a graph for planning, writing, and editing a LinkedIn post!"
      ],
      "metadata": {
        "id": "ejsHCZZ2EmwM"
      }
    },
    {
      "cell_type": "markdown",
      "source": [
        "### Tool Creation\n",
        "\n",
        "Let's create some tools that will help us understand, open, work with, and edit documents to our liking!"
      ],
      "metadata": {
        "id": "4awQtZ-oFUN-"
      }
    },
    {
      "cell_type": "code",
      "source": [
        "from pathlib import Path\n",
        "from tempfile import TemporaryDirectory\n",
        "from typing import Dict, Optional\n",
        "from typing_extensions import TypedDict\n",
        "import uuid\n",
        "import os\n",
        "\n",
        "os.makedirs('/content/data', exist_ok=True)\n",
        "\n",
        "def create_random_subdirectory():\n",
        "    random_id = str(uuid.uuid4())[:8]  # Use first 8 characters of a UUID\n",
        "    subdirectory_path = os.path.join('/content/data', random_id)\n",
        "    os.makedirs(subdirectory_path, exist_ok=True)\n",
        "    return subdirectory_path\n",
        "\n",
        "WORKING_DIRECTORY = Path(create_random_subdirectory())\n",
        "\n",
        "@tool\n",
        "def create_outline(\n",
        "    points: Annotated[List[str], \"List of main points or sections.\"],\n",
        "    file_name: Annotated[str, \"File path to save the outline.\"],\n",
        ") -> Annotated[str, \"Path of the saved outline file.\"]:\n",
        "    \"\"\"Create and save an outline.\"\"\"\n",
        "    with (WORKING_DIRECTORY / file_name).open(\"w\") as file:\n",
        "        for i, point in enumerate(points):\n",
        "            file.write(f\"{i + 1}. {point}\\n\")\n",
        "    return f\"Outline saved to {file_name}\"\n",
        "\n",
        "\n",
        "@tool\n",
        "def read_document(\n",
        "    file_name: Annotated[str, \"File path to save the document.\"],\n",
        "    start: Annotated[Optional[int], \"The start line. Default is 0\"] = None,\n",
        "    end: Annotated[Optional[int], \"The end line. Default is None\"] = None,\n",
        ") -> str:\n",
        "    \"\"\"Read the specified document.\"\"\"\n",
        "    with (WORKING_DIRECTORY / file_name).open(\"r\") as file:\n",
        "        lines = file.readlines()\n",
        "    if start is not None:\n",
        "        start = 0\n",
        "    return \"\\n\".join(lines[start:end])\n",
        "\n",
        "\n",
        "@tool\n",
        "def write_document(\n",
        "    content: Annotated[str, \"Text content to be written into the document.\"],\n",
        "    file_name: Annotated[str, \"File path to save the document.\"],\n",
        ") -> Annotated[str, \"Path of the saved document file.\"]:\n",
        "    \"\"\"Create and save a text document.\"\"\"\n",
        "    with (WORKING_DIRECTORY / file_name).open(\"w\") as file:\n",
        "        file.write(content)\n",
        "    return f\"Document saved to {file_name}\"\n",
        "\n",
        "\n",
        "@tool\n",
        "def edit_document(\n",
        "    file_name: Annotated[str, \"Path of the document to be edited.\"],\n",
        "    inserts: Annotated[\n",
        "        Dict[int, str],\n",
        "        \"Dictionary where key is the line number (1-indexed) and value is the text to be inserted at that line.\",\n",
        "    ] = {},\n",
        ") -> Annotated[str, \"Path of the edited document file.\"]:\n",
        "    \"\"\"Edit a document by inserting text at specific line numbers.\"\"\"\n",
        "\n",
        "    with (WORKING_DIRECTORY / file_name).open(\"r\") as file:\n",
        "        lines = file.readlines()\n",
        "\n",
        "    sorted_inserts = sorted(inserts.items())\n",
        "\n",
        "    for line_number, text in sorted_inserts:\n",
        "        if 1 <= line_number <= len(lines) + 1:\n",
        "            lines.insert(line_number - 1, text + \"\\n\")\n",
        "        else:\n",
        "            return f\"Error: Line number {line_number} is out of range.\"\n",
        "\n",
        "    with (WORKING_DIRECTORY / file_name).open(\"w\") as file:\n",
        "        file.writelines(lines)\n",
        "\n",
        "    return f\"Document edited and saved to {file_name}\""
      ],
      "metadata": {
        "id": "ptXilgparOkq"
      },
      "execution_count": 31,
      "outputs": []
    },
    {
      "cell_type": "markdown",
      "source": [
        "##### 🏗️ Activity #3:\n",
        "\n",
        "Describe, briefly, what each of these tools is doing in your own words."
      ],
      "metadata": {
        "id": "n8yH1IAYK7nL"
      }
    },
    {
      "cell_type": "markdown",
      "source": [
        "#### ✅ ANSWER:\n",
        "> **create_outline:**\n",
        "Helps you create an outline and save it to a file. You provide a list of main points or sections, and it writes them into a file, numbering each point.\n",
        "\n",
        "> **read_document:**\n",
        "Reads the content of a specified document. You can choose to read the entire document or just a specific range of lines.\n",
        "\n",
        "> **write_document:**\n",
        "Allows you to create and save a text document. You provide the content and the file name, and it writes the content into the file.\n",
        "\n",
        "> **edit_document:**\n",
        "Lets you edit an existing document by inserting text at specific line numbers. You provide a dictionary where the keys are line numbers and the values are the text to be inserted."
      ],
      "metadata": {
        "id": "F9IB8yWcMrdD"
      }
    },
    {
      "cell_type": "markdown",
      "source": [
        "### Document Writing State\n",
        "\n",
        "Just like with our Research Team state - we want to keep track of a few things, however this time - we also want to keep track of which files we've created - so let's add that here!"
      ],
      "metadata": {
        "id": "__Jw_XBIFwwa"
      }
    },
    {
      "cell_type": "code",
      "source": [
        "import operator\n",
        "from pathlib import Path\n",
        "\n",
        "class DocWritingState(TypedDict):\n",
        "    messages: Annotated[List[BaseMessage], operator.add]\n",
        "    team_members: str\n",
        "    next: str\n",
        "    current_files: str"
      ],
      "metadata": {
        "id": "DoU2YwJRu7wD"
      },
      "execution_count": 32,
      "outputs": []
    },
    {
      "cell_type": "markdown",
      "source": [
        "### Document Writing Prelude Function\n",
        "\n",
        "Since we have a working directory - we want to be clear about what our current working directory looks like - this helper function will allow us to do that cleanly!"
      ],
      "metadata": {
        "id": "4p1kQShmGHCh"
      }
    },
    {
      "cell_type": "code",
      "source": [
        "def prelude(state):\n",
        "    written_files = []\n",
        "    if not WORKING_DIRECTORY.exists():\n",
        "        WORKING_DIRECTORY.mkdir()\n",
        "    try:\n",
        "        written_files = [\n",
        "            f.relative_to(WORKING_DIRECTORY) for f in WORKING_DIRECTORY.rglob(\"*\")\n",
        "        ]\n",
        "    except:\n",
        "        pass\n",
        "    if not written_files:\n",
        "        return {**state, \"current_files\": \"No files written.\"}\n",
        "    return {\n",
        "        **state,\n",
        "        \"current_files\": \"\\nBelow are files your team has written to the directory:\\n\"\n",
        "        + \"\\n\".join([f\" - {f}\" for f in written_files]),\n",
        "    }"
      ],
      "metadata": {
        "id": "G79mUggQGLVq"
      },
      "execution_count": 33,
      "outputs": []
    },
    {
      "cell_type": "markdown",
      "source": [
        "### Document Writing Node Creation\n",
        "\n"
      ],
      "metadata": {
        "id": "wbSre9agT9Gb"
      }
    },
    {
      "cell_type": "code",
      "source": [
        "doc_writer_agent = create_agent(\n",
        "    llm,\n",
        "    [write_document, edit_document, read_document],\n",
        "    (\"You are an expert writing technical LinkedIn posts.\\n\"\n",
        "    \"Below are files currently in your directory:\\n{current_files}\"),\n",
        ")\n",
        "context_aware_doc_writer_agent = prelude | doc_writer_agent\n",
        "doc_writing_node = functools.partial(\n",
        "    agent_node, agent=context_aware_doc_writer_agent, name=\"DocWriter\"\n",
        ")\n",
        "\n",
        "note_taking_agent = create_agent(\n",
        "    llm,\n",
        "    [create_outline, read_document],\n",
        "    (\"You are an expert senior researcher tasked with writing a LinkedIn post outline and\"\n",
        "    \" taking notes to craft a LinkedIn post.\\n{current_files}\"),\n",
        ")\n",
        "context_aware_note_taking_agent = prelude | note_taking_agent\n",
        "note_taking_node = functools.partial(\n",
        "    agent_node, agent=context_aware_note_taking_agent, name=\"NoteTaker\"\n",
        ")\n",
        "\n",
        "copy_editor_agent = create_agent(\n",
        "    llm,\n",
        "    [write_document, edit_document, read_document],\n",
        "    (\"You are an expert copy editor who focuses on fixing grammar, spelling, and tone issues\\n\"\n",
        "    \"Below are files currently in your directory:\\n{current_files}\"),\n",
        ")\n",
        "context_aware_copy_editor_agent = prelude | copy_editor_agent\n",
        "copy_editing_node = functools.partial(\n",
        "    agent_node, agent=context_aware_copy_editor_agent, name=\"CopyEditor\"\n",
        ")\n",
        "\n",
        "dopeness_editor_agent = create_agent(\n",
        "    llm,\n",
        "    [write_document, edit_document, read_document],\n",
        "    (\"You are an expert in dopeness, litness, coolness, etc - you edit the document to make sure it's dope. Make sure to use a number of emojis.\"\n",
        "    \"Below are files currently in your directory:\\n{current_files}\"),\n",
        ")\n",
        "context_aware_dopeness_editor_agent = prelude | dopeness_editor_agent\n",
        "dopeness_node = functools.partial(\n",
        "    agent_node, agent=context_aware_dopeness_editor_agent, name=\"DopenessEditor\"\n",
        ")\n",
        "\n",
        "doc_writing_supervisor = create_team_supervisor(\n",
        "    llm,\n",
        "    (\"You are a supervisor tasked with managing a conversation between the\"\n",
        "    \" following workers: {team_members}. You should always verify the technical\"\n",
        "    \" contents after any edits are made. \"\n",
        "    \"Given the following user request,\"\n",
        "    \" respond with the worker to act next. Each worker will perform a\"\n",
        "    \" task and respond with their results and status. When each team is finished,\"\n",
        "    \" you must respond with FINISH.\"),\n",
        "    [\"DocWriter\", \"NoteTaker\", \"DopenessEditor\", \"CopyEditor\"],\n",
        ")"
      ],
      "metadata": {
        "id": "v7oso327T_wa"
      },
      "execution_count": 34,
      "outputs": []
    },
    {
      "cell_type": "markdown",
      "source": [
        "### Document Writing Team LangGraph Construction\n",
        "\n",
        "This part is almost exactly the same (with a few extra nodes) as our Research Team LangGraph construction - so we'll leave it as one block!"
      ],
      "metadata": {
        "id": "AUiNMpJBGXN0"
      }
    },
    {
      "cell_type": "code",
      "source": [
        "authoring_graph = StateGraph(DocWritingState)\n",
        "authoring_graph.add_node(\"DocWriter\", doc_writing_node)\n",
        "authoring_graph.add_node(\"NoteTaker\", note_taking_node)\n",
        "authoring_graph.add_node(\"CopyEditor\", copy_editing_node)\n",
        "authoring_graph.add_node(\"DopenessEditor\", dopeness_node)\n",
        "authoring_graph.add_node(\"supervisor\", doc_writing_supervisor)\n",
        "\n",
        "authoring_graph.add_edge(\"DocWriter\", \"supervisor\")\n",
        "authoring_graph.add_edge(\"NoteTaker\", \"supervisor\")\n",
        "authoring_graph.add_edge(\"CopyEditor\", \"supervisor\")\n",
        "authoring_graph.add_edge(\"DopenessEditor\", \"supervisor\")\n",
        "\n",
        "authoring_graph.add_conditional_edges(\n",
        "    \"supervisor\",\n",
        "    lambda x: x[\"next\"],\n",
        "    {\n",
        "        \"DocWriter\": \"DocWriter\",\n",
        "        \"NoteTaker\": \"NoteTaker\",\n",
        "        \"CopyEditor\" : \"CopyEditor\",\n",
        "        \"DopenessEditor\" : \"DopenessEditor\",\n",
        "        \"FINISH\": END,\n",
        "    },\n",
        ")\n",
        "\n",
        "authoring_graph.set_entry_point(\"supervisor\")\n",
        "chain = authoring_graph.compile()"
      ],
      "metadata": {
        "id": "Q6n8A1ytxVTv"
      },
      "execution_count": 35,
      "outputs": []
    },
    {
      "cell_type": "markdown",
      "source": [
        "#### Display Graph"
      ],
      "metadata": {
        "id": "Zx-EKGkHKUBO"
      }
    },
    {
      "cell_type": "code",
      "source": [
        "from IPython.display import Image, display\n",
        "\n",
        "try:\n",
        "    display(Image(chain.get_graph(xray=True).draw_mermaid_png()))\n",
        "except:\n",
        "    pass"
      ],
      "metadata": {
        "colab": {
          "base_uri": "https://localhost:8080/",
          "height": 488
        },
        "id": "AZdOb3GZKSM7",
        "outputId": "13cb63ce-a1ca-48a8-da08-47846ffabe2c"
      },
      "execution_count": 36,
      "outputs": [
        {
          "output_type": "display_data",
          "data": {
            "image/jpeg": "[encoded data removed]",
            "text/plain": [
              "<IPython.core.display.Image object>"
            ]
          },
          "metadata": {}
        }
      ]
    },
    {
      "cell_type": "markdown",
      "source": [
        "Just as before - we'll need to create an \"interface\" between the level above, and our graph."
      ],
      "metadata": {
        "id": "yB_rOw1hGpwd"
      }
    },
    {
      "cell_type": "code",
      "source": [
        "def enter_chain(message: str, members: List[str]):\n",
        "    results = {\n",
        "        \"messages\": [HumanMessage(content=message)],\n",
        "        \"team_members\": \", \".join(members),\n",
        "    }\n",
        "    return results\n",
        "\n",
        "authoring_chain = (\n",
        "    functools.partial(enter_chain, members=authoring_graph.nodes)\n",
        "    | authoring_graph.compile()\n",
        ")"
      ],
      "metadata": {
        "id": "G-RbbCKoG_nt"
      },
      "execution_count": 37,
      "outputs": []
    },
    {
      "cell_type": "markdown",
      "source": [
        "Now we can test this out!\n",
        "\n",
        "> NOTE: It is possible you may see an error here - rerun the cell to clear."
      ],
      "metadata": {
        "id": "GgyhpTrRNgQd"
      }
    },
    {
      "cell_type": "code",
      "source": [
        "for s in authoring_chain.stream(\n",
        "    \"Write an outline for for a short LinkedIn post on Linear Regression and write it to disk.\",\n",
        "    {\"recursion_limit\": 100},\n",
        "):\n",
        "    if \"__end__\" not in s:\n",
        "        print(s)\n",
        "        print(\"---\")"
      ],
      "metadata": {
        "colab": {
          "base_uri": "https://localhost:8080/"
        },
        "id": "IWUxv4XDx3kg",
        "outputId": "2c6aaa36-85db-43d1-b123-e474ab1631de"
      },
      "execution_count": 38,
      "outputs": [
        {
          "output_type": "stream",
          "name": "stdout",
          "text": [
            "{'supervisor': {'next': 'DocWriter'}}\n",
            "---\n",
            "{'DocWriter': {'messages': [HumanMessage(content='The outline for a LinkedIn post on Linear Regression has been successfully created and saved as \"Outline_LinkedIn_Post_Linear_Regression.txt\". This outline includes sections on the introduction to linear regression, key concepts, applications in various industries, and a concluding remark.', name='DocWriter')]}}\n",
            "---\n",
            "{'supervisor': {'next': 'FINISH'}}\n",
            "---\n"
          ]
        }
      ]
    },
    {
      "cell_type": "markdown",
      "source": [
        "## Task 5: Meta-Supervisor and Full Graph\n",
        "\n",
        "Finally, now that we have our two LangGraph agents (some of which are already multi-agent), we can build a supervisor that sits above all of them!\n",
        "\n",
        "The final process, surprisingly, is quite straight forward!\n",
        "\n",
        "Let's jump in!\n",
        "\n",
        "First off - we'll need to create our supervisor agent node."
      ],
      "metadata": {
        "id": "zpW2R9SUHGUq"
      }
    },
    {
      "cell_type": "code",
      "source": [
        "from langchain_core.messages import AIMessage, BaseMessage, HumanMessage\n",
        "from langchain_openai.chat_models import ChatOpenAI\n",
        "\n",
        "\n",
        "llm = ChatOpenAI(model=\"gpt-4\")\n",
        "\n",
        "supervisor_node = create_team_supervisor(\n",
        "    llm,\n",
        "    \"You are a supervisor tasked with managing a conversation between the\"\n",
        "    \" following teams: {team_members}. Given the following user request,\"\n",
        "    \" respond with the worker to act next. Each worker will perform a\"\n",
        "    \" task and respond with their results and status. When all workers are finished,\"\n",
        "    \" you must respond with FINISH.\",\n",
        "    [\"Research team\", \"LinkedIn team\"],\n",
        ")"
      ],
      "metadata": {
        "id": "wkpxeUf9ygKp"
      },
      "execution_count": 39,
      "outputs": []
    },
    {
      "cell_type": "markdown",
      "source": [
        "We'll also create our new state - as well as some methods to help us navigate the new state and the subgraphs.\n",
        "\n",
        "> NOTE: We only pass the most recent message from the parent graph to the subgraph, and we only extract the most recent message from the subgraph to include in the state of the parent graph."
      ],
      "metadata": {
        "id": "hUvOh_xWIKig"
      }
    },
    {
      "cell_type": "code",
      "source": [
        "class State(TypedDict):\n",
        "    messages: Annotated[List[BaseMessage], operator.add]\n",
        "    next: str\n",
        "\n",
        "def get_last_message(state: State) -> str:\n",
        "    return state[\"messages\"][-1].content\n",
        "\n",
        "def join_graph(response: dict):\n",
        "    return {\"messages\": [response[\"messages\"][-1]]}"
      ],
      "metadata": {
        "id": "O7HJ8MF0yh_i"
      },
      "execution_count": 40,
      "outputs": []
    },
    {
      "cell_type": "markdown",
      "source": [
        "Next, we'll create our base graph.\n",
        "\n",
        "Notice how each node we're adding is *AN ENTIRE LANGGRAPH AGENT* (wrapped into an LCEL chain with our helper functions above)."
      ],
      "metadata": {
        "id": "B5RHao1sIanG"
      }
    },
    {
      "cell_type": "code",
      "source": [
        "super_graph = StateGraph(State)\n",
        "\n",
        "super_graph.add_node(\"Research team\", get_last_message | research_chain | join_graph)\n",
        "super_graph.add_node(\n",
        "    \"LinkedIn team\", get_last_message | authoring_chain | join_graph\n",
        ")\n",
        "super_graph.add_node(\"supervisor\", supervisor_node)"
      ],
      "metadata": {
        "id": "PfCWABCMIaFy"
      },
      "execution_count": 41,
      "outputs": []
    },
    {
      "cell_type": "markdown",
      "source": [
        "Next, we'll create our edges!\n",
        "\n",
        "This process is completely idenctical to what we've seen before - just addressing the LangGraph subgraph nodes instead of individual nodes."
      ],
      "metadata": {
        "id": "dpwpUXMtI62E"
      }
    },
    {
      "cell_type": "code",
      "source": [
        "super_graph.add_edge(\"Research team\", \"supervisor\")\n",
        "super_graph.add_edge(\"LinkedIn team\", \"supervisor\")\n",
        "super_graph.add_conditional_edges(\n",
        "    \"supervisor\",\n",
        "    lambda x: x[\"next\"],\n",
        "    {\n",
        "        \"LinkedIn team\": \"LinkedIn team\",\n",
        "        \"Research team\": \"Research team\",\n",
        "        \"FINISH\": END,\n",
        "    },\n",
        ")\n",
        "super_graph.set_entry_point(\"supervisor\")\n",
        "super_graph = super_graph.compile()"
      ],
      "metadata": {
        "id": "tLtjRuUYI-fx"
      },
      "execution_count": 42,
      "outputs": []
    },
    {
      "cell_type": "markdown",
      "source": [
        "That's it!\n",
        "\n",
        "Now we can finally use our full agent!"
      ],
      "metadata": {
        "id": "K1KMfFqgJKw8"
      }
    },
    {
      "cell_type": "code",
      "source": [
        "WORKING_DIRECTORY = Path(create_random_subdirectory())\n",
        "\n",
        "for s in super_graph.stream(\n",
        "    {\n",
        "        \"messages\": [\n",
        "            HumanMessage(\n",
        "                content=\"Write a LinkedIn post on the paper 'Extending Llama-3’s Context Ten-Fold Overnight'. First consult the research team. Then make sure you consult the LinkedIn team, and check for copy editing and dopeness, and write the file to disk.\"\n",
        "            )\n",
        "        ],\n",
        "    },\n",
        "    {\"recursion_limit\": 30},\n",
        "):\n",
        "    if \"__end__\" not in s:\n",
        "        print(s)\n",
        "        print(\"---\")"
      ],
      "metadata": {
        "colab": {
          "base_uri": "https://localhost:8080/"
        },
        "id": "3M6wUDR-yk8s",
        "outputId": "c7145083-10c3-46e9-a63f-12085e3b30f6"
      },
      "execution_count": 43,
      "outputs": [
        {
          "output_type": "stream",
          "name": "stdout",
          "text": [
            "{'supervisor': {'next': 'Research team'}}\n",
            "---\n",
            "{'Research team': {'messages': [HumanMessage(content='🚀 Exciting News in AI Research! 🚀\\n\\nWe are thrilled to share a monumental leap in AI capabilities with the recent breakthrough detailed in the paper \"Extending Llama-3’s Context Ten-Fold Overnight\"! The research team has successfully expanded the context length of Llama-3-8B-Instruct from 8K to an impressive 80K using QLoRA fine-tuning. This enhancement was achieved in just 8 hours on a single 8xA800 (80G) GPU machine, showcasing not only the efficiency of the process but also the potent capabilities of current AI technologies.\\n\\nThis extended context length allows Llama-3 to perform exceptionally well across various evaluation tasks, including NIHS, topic retrieval, and long-context language understanding. Importantly, this advancement was achieved while preserving the integrity and performance levels of the original model.\\n\\nThe team\\'s commitment to open science is also noteworthy as they plan to publicly release all resources involved in this project, including data, models, data generation pipelines, and training code. This move will undoubtedly catalyze further innovations and applications in AI.\\n\\nFor professionals and organizations leveraging AI, this development opens up new horizons for creating more robust and nuanced applications that can handle complex, context-heavy tasks with unprecedented accuracy.\\n\\nStay tuned for more updates as we continue to push the boundaries of what\\'s possible in AI! 🌐✨\\n\\n#AI #MachineLearning #Innovation #Technology #DataScience #ArtificialIntelligence #Research\\n\\n[Read the full paper here](https://arxiv.org/abs/2404.19553)', name='Search')]}}\n",
            "---\n",
            "{'supervisor': {'next': 'Research team'}}\n",
            "---\n",
            "{'Research team': {'messages': [HumanMessage(content='The paper \"Extending Llama-3’s Context Ten-Fold Overnight\" detailed an impressive enhancement to the Llama-3 AI model, expanding its context length from 8K to 80K tokens using the QLoRA fine-tuning method. This significant increase was achieved in just 8 hours using specific hardware and software configurations, demonstrating both the efficiency and the power of the techniques used.\\n\\nKey achievements include:\\n- The extended context length allows Llama-3 to excel in tasks such as NIHS, topic retrieval, and long-context language understanding, maintaining high performance even with the longer contexts.\\n- The model still performs well in short contexts, preserving the original capabilities of the Llama-3-8B-Instruct.\\n- Despite some underperformance in zero-shot settings compared to the original model, the modified Llama-3 outperforms other similar-scale open-source models.\\n\\nThe methods employed were highly technical and focused on efficient use of resources:\\n- QLoRA fine-tuning was applied to all relevant model projections and the embedding layer.\\n- The training dataset was a mix of synthetic and real-world data, designed to prevent the model from forgetting previous capabilities.\\n- Specific training settings and the use of gradient checkpointing helped optimize the training process without requiring excessive computational resources.\\n\\nThe team\\'s commitment to open science, planning to release all related resources, sets a foundation for further developments in AI by the broader research community. This advancement not only showcases the researchers\\' technical expertise but also promises to expand the possibilities for AI applications requiring nuanced understanding of extensive contexts.', name='PaperInformationRetriever')]}}\n",
            "---\n",
            "{'supervisor': {'next': 'Research team'}}\n",
            "---\n",
            "{'Research team': {'messages': [HumanMessage(content='While I don\\'t have access to external databases or specific papers directly, I can provide a detailed analysis and insights based on the information you\\'ve provided about the paper \"Extending Llama-3’s Context Ten-Fold Overnight.\"\\n\\n### Technical Analysis of QLoRA Fine-Tuning\\n\\n1. **QLoRA Fine-Tuning Mechanism**: QLoRA (Quantized Low-Rank Adaptation) is a technique designed to adapt large language models with minimal computational overhead by applying low-rank matrices and quantization to parts of the model such as the projection layers and the embedding layer. This allows for significant increases in efficiency during the adaptation of the model to new tasks or larger contexts without a full-scale retraining.\\n\\n2. **Efficient Resource Use**: The use of gradient checkpointing is particularly notable. This technique involves storing only a subset of intermediate states in the model\\'s forward pass during training. During the backward pass, the intermediate states that were not stored are recomputed. This allows for a considerable reduction in memory usage, which is crucial when scaling up the context length of a model like Llama-3.\\n\\n### Achievements and Implications\\n\\n1. **Extended Context Length**: Increasing the context length from 8K to 80K tokens is a monumental achievement as it significantly enhances the model\\'s ability to handle tasks requiring a deep understanding of long documents or conversations. This makes it particularly useful for applications in natural language understanding, legal and medical document analysis, and other areas where context is critical.\\n\\n2. **Maintaining Performance in Short Contexts**: The ability of the enhanced Llama-3 model to perform well in both extended and short contexts without losing efficiency is crucial. It ensures that the model remains versatile and can be deployed in a wide range of scenarios without the need for task-specific tuning.\\n\\n3. **Comparison with Other Models**: The fact that this enhanced version of Llama-3 outperforms other similar-scale models, even though it may underperform in zero-shot settings compared to its original configuration, highlights a trade-off that often occurs in machine learning between specialization and generalization.\\n\\n### Future Directions and Open Science\\n\\n1. **Open Science Commitment**: The decision to release all related resources openly is significant. It democratizes access to cutting-edge technology and enables the broader research community to build upon this work, potentially leading to more rapid advancements in AI.\\n\\n2. **Potential for Further Research**: By making their methods and resources available, the team behind Llama-3 sets the stage for further refinement and exploration of scalable language models. This could lead to more specialized models or new adaptations that could further push the boundaries of what AI can understand and process.\\n\\n### Conclusion\\n\\nThe paper \"Extending Llama-3’s Context Ten-Fold Overnight\" presents a groundbreaking advancement in AI, particularly in the context handling capabilities of language models. The use of QLoRA fine-tuning and strategic resource management techniques not only achieves remarkable results but also sets a precedent for efficient model scaling. This development promises to enhance various applications requiring detailed contextual understanding and paves the way for further innovative research in AI.', name='Search')]}}\n",
            "---\n",
            "{'supervisor': {'next': 'LinkedIn team'}}\n",
            "---\n",
            "{'LinkedIn team': {'messages': [HumanMessage(content=\"This detailed analysis is a prime example of how innovations in AI, particularly in model fine-tuning and resource optimization, are paving the way for more efficient and capable models. The developments in Llama-3's context handling capabilities showcase the potential impacts on fields requiring deep contextual understanding, such as legal and medical document analysis. This not only enhances the model's versatility but also underlines the importance of open science in accelerating technological advancements.\", name='DocWriter')]}}\n",
            "---\n",
            "{'supervisor': {'next': 'LinkedIn team'}}\n",
            "---\n",
            "{'LinkedIn team': {'messages': [HumanMessage(content='The document titled **\"Leveraging AI Innovations: The Case of Llama-3\\'s Enhanced Context Handling\"** has been edited to ensure clarity and flow. It\\'s now saved as `AI_Innovations_Llama3_Context_Handling.md` and ready for further reviews or publishing! 🚀📝\\n\\nIf there\\'s anything more to tweak or add, let me know! 🌟', name='DopenessEditor')]}}\n",
            "---\n",
            "{'supervisor': {'next': 'FINISH'}}\n",
            "---\n"
          ]
        }
      ]
    },
    {
      "cell_type": "markdown",
      "source": [
        "## SAMPLE POST!"
      ],
      "metadata": {
        "id": "PuZAvSlJJpPP"
      }
    },
    {
      "cell_type": "markdown",
      "source": [
        "🚀 Exciting News in AI Research! 🚀\n",
        "\n",
        "We're thrilled to share a groundbreaking achievement in the field of large language models (LLMs)! A recent study titled \"Extending Llama-3’s Context Ten-Fold Overnight\" has successfully expanded the context length of Llama-3 from 8K to a staggering 80K tokens using QLoRA fine-tuning. This enhancement was accomplished in just eight hours on a single 8xA800 (80G) GPU machine, demonstrating both efficiency and effectiveness in model training.\n",
        "\n",
        "🔍 This remarkable advancement not only improves Llama-3’s performance across various benchmarks such as NIHS, topic retrieval, and long-context language understanding, but also preserves the model's ability to generalize beyond its training contexts, handling up to 128K tokens. This capability makes it a formidable tool in processing extensive textual information, pushing the boundaries of what AI can achieve.\n",
        "\n",
        "📊 Evaluated on LongBench and InfiniteBench, the model consistently outperformed baselines, setting a new standard in the field. Although it faced challenges in code completion tasks, the overall results are overwhelmingly positive.\n",
        "\n",
        "🌐 The full resources, including the model, training data, and code, are now publicly available, providing an invaluable asset for further research in training long-context LLMs.\n",
        "\n",
        "🔗 For more details, check out the full paper [here](https://www.emergentmind.com/papers/2404.19553).\n",
        "\n",
        "Let's continue pushing the limits of what AI can do! #AILLMs #MachineLearning #AIResearch #LanguageModels #Innovation\n"
      ],
      "metadata": {
        "id": "lOEMCrXTJaxW"
      }
    }
  ]
}